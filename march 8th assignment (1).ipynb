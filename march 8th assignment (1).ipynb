{
 "cells": [
  {
   "cell_type": "code",
   "execution_count": null,
   "id": "5553f4a2-ee6f-4ccd-934e-c7d3ddeb68c2",
   "metadata": {},
   "outputs": [],
   "source": [
    " What is the Probability density function?\n",
    "Disturbution of the continous data is known as PDF"
   ]
  },
  {
   "cell_type": "code",
   "execution_count": null,
   "id": "bfc9fb9d-8dc5-43de-937b-1c2cc515733d",
   "metadata": {},
   "outputs": [],
   "source": [
    "What are the types of Probability distribution?\n",
    "Bernoulli Distributio\n",
    "Binomial Distribution\n",
    "Poisson Distribution\n",
    "Normal Distribution\n",
    "power law Distribution\n",
    "Uniform Distribution"
   ]
  },
  {
   "cell_type": "code",
   "execution_count": null,
   "id": "4eba41b6-5d7c-4440-b4ff-f0905233c816",
   "metadata": {},
   "outputs": [],
   "source": [
    "Write a Python function to calculate the probability density function of a normal distribution with\n",
    "given mean and standard deviation at a given point."
   ]
  },
  {
   "cell_type": "code",
   "execution_count": 25,
   "id": "ea13a9d8-31c5-4bf8-963f-97fbd23b508f",
   "metadata": {},
   "outputs": [
    {
     "name": "stdout",
     "output_type": "stream",
     "text": [
      "0.0804410163156249\n"
     ]
    }
   ],
   "source": [
    "from scipy.stats import norm\n",
    "import numpy as np \n",
    "data_start = -5\n",
    "data_end = 5\n",
    "data_points = 11\n",
    "data = np.linspace(data_start, data_end, data_points)\n",
    "mean = np.mean(data)\n",
    "std = np.std(data)\n",
    "probability_pdf = norm.pdf(3, loc=mean, scale=std)\n",
    "print(probability_pdf)"
   ]
  },
  {
   "cell_type": "code",
   "execution_count": null,
   "id": "770e0322-1105-47ae-9260-131fc3535b2d",
   "metadata": {},
   "outputs": [],
   "source": [
    "What are the properties of Binomial distribution? Give two examples of events where binomial\n",
    "distribution can be applied.\n",
    "It is a discrete probability distribution,\n",
    "The trials are independent and identical\n",
    "example\n",
    "1-tossing a coin 10 times\n",
    "2-student taking mcq test"
   ]
  },
  {
   "cell_type": "code",
   "execution_count": null,
   "id": "5ac9983c-c8af-4bcd-b853-5eaf7426454f",
   "metadata": {},
   "outputs": [],
   "source": [
    "Generate a random sample of size 1000 from a binomial distribution with probability of success 0.4\n",
    "and plot a histogram of the results using matplotlib."
   ]
  },
  {
   "cell_type": "code",
   "execution_count": 3,
   "id": "4e7a849f-5780-434f-a875-667eea8f0184",
   "metadata": {},
   "outputs": [
    {
     "data": {
      "text/plain": [
       "(array([0.005, 0.035, 0.121, 0.204, 0.268, 0.213, 0.091, 0.046, 0.013,\n",
       "        0.004, 0.   ]),\n",
       " array([ 0.,  1.,  2.,  3.,  4.,  5.,  6.,  7.,  8.,  9., 10., 11.]),\n",
       " <BarContainer object of 11 artists>)"
      ]
     },
     "execution_count": 3,
     "metadata": {},
     "output_type": "execute_result"
    },
    {
     "data": {
      "image/png": "[encoded data removed]",
      "text/plain": [
       "<Figure size 640x480 with 1 Axes>"
      ]
     },
     "metadata": {},
     "output_type": "display_data"
    }
   ],
   "source": [
    "import numpy as np\n",
    "import matplotlib.pyplot as plt\n",
    "\n",
    "n = 10 \n",
    "p = 0.4 \n",
    "sample = np.random.binomial(n, p, size=1000)\n",
    "plt.hist(sample, bins=range(n+2), density=True, rwidth=0.8, align='left')\n"
   ]
  },
  {
   "cell_type": "code",
   "execution_count": null,
   "id": "360d50cc-21fc-4a55-839d-543a02a8a063",
   "metadata": {},
   "outputs": [],
   "source": [
    "How Binomial distribution different from Poisson distribution?\n",
    "binomial distubution is a summation of the all trials performed\n",
    "whereas possion distuburtion is to calcualte the no the events occuring at a fixed time interval"
   ]
  },
  {
   "cell_type": "code",
   "execution_count": null,
   "id": "a5703c8e-458d-48f3-b228-66fce2e562c0",
   "metadata": {},
   "outputs": [],
   "source": [
    "Generate a random sample of size 1000 from a Poisson distribution with mean 5 and calculate the\n",
    "sample mean and variance."
   ]
  },
  {
   "cell_type": "code",
   "execution_count": 22,
   "id": "4ab4c0f1-1471-477a-813b-acccb1a3d1c9",
   "metadata": {},
   "outputs": [],
   "source": [
    "import numpy as np\n",
    "sample=np.random.poisson(5,1000)\n",
    "sample_mean=np.mean(sample)\n",
    "sample_varience=np.var(sample)"
   ]
  },
  {
   "cell_type": "code",
   "execution_count": 23,
   "id": "01322bdc-3e62-4de6-a888-057f527ed291",
   "metadata": {},
   "outputs": [
    {
     "data": {
      "text/plain": [
       "5.008"
      ]
     },
     "execution_count": 23,
     "metadata": {},
     "output_type": "execute_result"
    }
   ],
   "source": [
    "sample_mean"
   ]
  },
  {
   "cell_type": "code",
   "execution_count": 24,
   "id": "90bc8279-90af-4d11-a1b2-74c10b51f923",
   "metadata": {},
   "outputs": [
    {
     "data": {
      "text/plain": [
       "4.739935999999999"
      ]
     },
     "execution_count": 24,
     "metadata": {},
     "output_type": "execute_result"
    }
   ],
   "source": [
    "sample_varience"
   ]
  },
  {
   "cell_type": "code",
   "execution_count": null,
   "id": "ddce5163-ab3f-4fdb-b1f5-2da4eab958ec",
   "metadata": {},
   "outputs": [],
   "source": [
    "How mean and variance are related in Binomial distribution and Poisson distribution?\n",
    "if the number of trials is n and the probability of success in each trial is p,\n",
    "For a binomial distribution,  \n",
    "then the mean is μ = np and the variance is σ^2 = np(1-p).\n",
    "For a Poisson distribution, the mean and variance are equal, i.e., μ = σ^2."
   ]
  },
  {
   "cell_type": "code",
   "execution_count": null,
   "id": "fc533cee-3eb3-41da-a11b-53f047c694af",
   "metadata": {},
   "outputs": [],
   "source": [
    "In normal distribution with respect to mean position, where does the least frequent data appear\n",
    "in normal distribution the least frequent "
   ]
  },
  {
   "cell_type": "code",
   "execution_count": null,
   "id": "8bd3fde5-b69f-40ef-88ea-1e2ef5ce8cf4",
   "metadata": {},
   "outputs": [],
   "source": []
  }
 ],
 "metadata": {
  "kernelspec": {
   "display_name": "Python 3 (ipykernel)",
   "language": "python",
   "name": "python3"
  },
  "language_info": {
   "codemirror_mode": {
    "name": "ipython",
    "version": 3
   },
   "file_extension": ".py",
   "mimetype": "text/x-python",
   "name": "python",
   "nbconvert_exporter": "python",
   "pygments_lexer": "ipython3",
   "version": "3.10.8"
  }
 },
 "nbformat": 4,
 "nbformat_minor": 5
}
