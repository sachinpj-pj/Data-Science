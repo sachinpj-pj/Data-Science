{
 "cells": [
  {
   "cell_type": "code",
   "execution_count": null,
   "id": "d56da742-5a88-4418-821d-8c2f32899094",
   "metadata": {},
   "outputs": [],
   "source": [
    "Q1. What is the difference between Ordinal Encoding and Label Encoding? Provide an example of when you\n",
    "might choose one over the other.\n",
    "Ordinal encoding is a technique for encoding categorical variables where each unique value is assigned a numerical \n",
    "value based on its order or ranking.\n",
    "Label encoding, on the other hand, is a technique where each unique value in a categorical feature is assigned a\n",
    "unique numerical value. "
   ]
  },
  {
   "cell_type": "code",
   "execution_count": null,
   "id": "c7255a05-3f15-4761-bb85-554902bca030",
   "metadata": {},
   "outputs": [],
   "source": [
    "Q2. Explain how Target Guided Ordinal Encoding works and provide an example of when you might use it in\n",
    "a machine learning project.\n",
    "Target Guided Ordinal Encoding is a technique used to transform categorical variables into ordinal variables\n",
    "based on their relationship with the target variable.\n",
    "Suppose we have a dataset containing information about customers and whether or not they purchased a product. \n",
    "One of the features in our dataset is \"city,\" which indicates the city where the customer lives. \n",
    "We want to encode this feature to reflect the likelihood of a customer purchasing the product based on their city."
   ]
  },
  {
   "cell_type": "code",
   "execution_count": null,
   "id": "80588252-8f8b-4efb-888c-60e0338499a5",
   "metadata": {},
   "outputs": [],
   "source": [
    "Q3. Define covariance and explain why it is important in statistical analysis. How is covariance calculated?\n",
    "Covariance is a statistical measure that describes the relationship between two random variables. \n",
    "Covariance is important in statistical analysis because it provides information about the direction and \n",
    "strength of the relationship between two variables.\n",
    "cov(X,Y) = Σ[(Xi - μX) * (Yi - μY)] / (n-1)"
   ]
  },
  {
   "cell_type": "code",
   "execution_count": null,
   "id": "cee8eb08-8fe1-493a-82c4-a349f0be00b1",
   "metadata": {},
   "outputs": [],
   "source": [
    "Q4. For a dataset with the following categorical variables: Color (red, green, blue), Size (small, medium,\n",
    "large), and Material (wood, metal, plastic), perform label encoding using Python's scikit-learn library.\n",
    "Show your code and explain the output."
   ]
  },
  {
   "cell_type": "code",
   "execution_count": 16,
   "id": "a61e0e0c-07d8-4e9c-a01a-4b4a54d0019e",
   "metadata": {},
   "outputs": [
    {
     "name": "stdout",
     "output_type": "stream",
     "text": [
      "   color    size material  color_encoded  size_encoded  material_encoded\n",
      "0    red  medium     wood              2             1                 2\n",
      "1  green   small    metal              1             2                 0\n",
      "2   blue   large  plastic              0             0                 1\n"
     ]
    }
   ],
   "source": [
    "from sklearn.preprocessing import LabelEncoder\n",
    "import pandas as pd\n",
    "\n",
    "# Example data\n",
    "data = {\n",
    "    'color': ['red', 'green', 'blue'],\n",
    "    'size': ['medium', 'small', 'large'],\n",
    "    'material': ['wood', 'metal', 'plastic']\n",
    "}\n",
    "\n",
    "# Convert data to DataFrame\n",
    "df = pd.DataFrame(data)\n",
    "\n",
    "# Initialize LabelEncoder\n",
    "le = LabelEncoder()\n",
    "\n",
    "# Label encode categorical variables\n",
    "df['color_encoded'] = le.fit_transform(df['color'])\n",
    "df['size_encoded'] = le.fit_transform(df['size'])\n",
    "df['material_encoded'] = le.fit_transform(df['material'])\n",
    "\n",
    "print(df)"
   ]
  },
  {
   "cell_type": "code",
   "execution_count": null,
   "id": "7e53365b-17ed-472a-bd7c-0c406a148dc7",
   "metadata": {},
   "outputs": [],
   "source": [
    "Q5. Calculate the covariance matrix for the following variables in a dataset: Age, Income, and Education\n",
    "level. Interpret the results.\n",
    "Calculate the mean (average) for each variable (Age, Income, and Education level).\n",
    "Calculate the difference between each observation and the mean for each variable.\n",
    "Multiply the differences for each variable pair (Age and Income, Age and Education level, Income and Education level) \n",
    "and sum the products.\n",
    "Divide the sum by the number of observations in the dataset (minus 1)."
   ]
  },
  {
   "cell_type": "code",
   "execution_count": null,
   "id": "df40ddc5-1e4f-4581-8dd6-d117f1cdea04",
   "metadata": {},
   "outputs": [],
   "source": [
    "Q6. You are working on a machine learning project with a dataset containing several categorical\n",
    "variables, including \"Gender\" (Male/Female), \"Education Level\" (High School/Bachelor's/Master's/PhD),\n",
    "and \"Employment Status\" (Unemployed/Part-Time/Full-Time). Which encoding method would you use for\n",
    "each variable, and why?\n",
    "gender-one hot coding\n",
    "education level-one hot coding\n",
    "employement status-ordinal coding"
   ]
  },
  {
   "cell_type": "code",
   "execution_count": null,
   "id": "d90b8a87-9b04-4816-aaf6-9e917e9db8d5",
   "metadata": {},
   "outputs": [],
   "source": [
    "Q7. You are analyzing a dataset with two continuous variables, \"Temperature\" and \"Humidity\", and two\n",
    "categorical variables, \"Weather Condition\" (Sunny/Cloudy/Rainy) and \"Wind Direction\" (North/South/\n",
    "East/West). Calculate the covariance between each pair of variables and interpret the results.\n",
    "Calculate the mean (average) for each continuous variable (Temperature and Humidity).\n",
    "Calculate the difference between each observation and the mean for each continuous variable.\n",
    "Calculate the covariance between each pair of continuous variables using the formula: \n",
    "    cov(Temperature, Humidity) = ∑(Temperature - mean(Temperature))(Humidity - mean(Humidity)) / (n - 1).\n",
    "Calculate the covariance between each categorical variable and each continuous variable using the formula: \n",
    "    cov(Temperature, Weather Condition) = ∑(Temperature - mean(Temperature))(Weather Condition - mean(Weather Condition)) / (n - 1).\n",
    "Repeat step 4 for each pair of categorical and continuous variables"
   ]
  },
  {
   "cell_type": "code",
   "execution_count": null,
   "id": "06fdc4de-57f4-415d-a439-fbf18d346a22",
   "metadata": {},
   "outputs": [],
   "source": []
  },
  {
   "cell_type": "code",
   "execution_count": null,
   "id": "6a63d48d-06b2-4a0b-a251-682a3c78be7f",
   "metadata": {},
   "outputs": [],
   "source": []
  },
  {
   "cell_type": "code",
   "execution_count": null,
   "id": "c2e49cee-890e-47fc-97e8-6e6c64b1e839",
   "metadata": {},
   "outputs": [],
   "source": []
  }
 ],
 "metadata": {
  "kernelspec": {
   "display_name": "Python 3 (ipykernel)",
   "language": "python",
   "name": "python3"
  },
  "language_info": {
   "codemirror_mode": {
    "name": "ipython",
    "version": 3
   },
   "file_extension": ".py",
   "mimetype": "text/x-python",
   "name": "python",
   "nbconvert_exporter": "python",
   "pygments_lexer": "ipython3",
   "version": "3.10.8"
  }
 },
 "nbformat": 4,
 "nbformat_minor": 5
}
