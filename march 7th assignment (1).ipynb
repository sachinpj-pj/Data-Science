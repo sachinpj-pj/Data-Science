{
 "cells": [
  {
   "cell_type": "code",
   "execution_count": null,
   "id": "c5d853a5-4b15-416e-aad8-b829601fa0bb",
   "metadata": {
    "tags": []
   },
   "outputs": [],
   "source": [
    "What are the three measures of central tendency?\n",
    "1-mean,\n",
    "2-median\n",
    "3-mode"
   ]
  },
  {
   "cell_type": "code",
   "execution_count": null,
   "id": "116eba99-65a9-4ec6-b98f-7c697856d161",
   "metadata": {},
   "outputs": [],
   "source": [
    "What is the difference between the mean, median, and mode? How are they used to measure the\n",
    "central tendency of a dataset?\n",
    "mean-average of a number or it is sum of all the numbers divied by total numbers of values\n",
    "mean=sum of all numbers/total number of values=sum/n\n",
    "median-nothing but a central number of a sequence or a middle number of a sequence\n",
    "median=middle value for odd number of values\n",
    "median=((n/2)+1)/2 for even number of values\n",
    "mode-value that repeat or occurs most frequent time\n",
    "mode=max number of squence(x)"
   ]
  },
  {
   "cell_type": "code",
   "execution_count": null,
   "id": "4f62b32f-02ee-4b9c-a323-c12b625b3847",
   "metadata": {
    "tags": []
   },
   "outputs": [],
   "source": [
    "Measure the three measures of central tendency for the given height data:\n",
    "[178,177,176,177,178.2,178,175,179,180,175,178.9,176.2,177,172.5,178,176.5]\n",
    "\n",
    "ascending order:\n",
    "[172.5, 175, 175, 176, 176.2, 176.5, 177, 177, 178, 178, 178, 178.2, 178.9, 179, 180]\n",
    "Mean = (172.5 + 175 + 175 + 176 + 176.2 + 176.5 + 177 + 177 + 178 + 178 + 178 + 178.2 + 178.9 + 179 + 180) / 15 = 177.13\n",
    "\n",
    "Median = (177 + 177) / 2 = 177\n",
    "\n",
    "Mode = 178 "
   ]
  },
  {
   "cell_type": "code",
   "execution_count": null,
   "id": "92b8af86-1370-48ce-bf62-009e003d44c0",
   "metadata": {
    "tags": []
   },
   "outputs": [],
   "source": [
    "Find the standard deviation for the given data:\n",
    "[178,177,176,177,178.2,178,175,179,180,175,178.9,176.2,177,172.5,178,176.5]\n",
    "\n",
    "standard deviation = sqrt((sum of (each value - mean)^2) / (number of values - 1))\n",
    "Mean = (172.5 + 175 + 175 + 176 + 176.2 + 176.5 + 177 + 177 + 178 + 178 + 178 + 178.2 + 178.9 + 179 + 180) / 15 = 177.13\n",
    "standard deviation = sqrt((49.6826/ (number of values - 1))\n",
    "standard deviation = 1.818"
   ]
  },
  {
   "cell_type": "code",
   "execution_count": null,
   "id": "c45bff00-3966-44cd-a685-ddd2dec787ce",
   "metadata": {},
   "outputs": [],
   "source": [
    "How are measures of dispersion such as range, variance, and standard deviation used to describe\n",
    "the spread of a dataset? Provide an example.\n",
    "example dataset-177,199,188,183,170,180,198\n",
    "asc order-170,177,180,183,188,198,199\n",
    "mean=185\n",
    "range-it is nothing but a difference of max and min values in a dataset\n",
    "range=199-170=29\n",
    "varience=it is nothing but a spread of the data below the bell curve or some other curve\n",
    "varience=(Xi-mean)^2/N\n",
    "standard deviation-it is the standard value that should or may deviate from the mean value\n",
    "std=sqrt(varience)"
   ]
  },
  {
   "cell_type": "code",
   "execution_count": null,
   "id": "07796474-192c-43ce-be3f-cfade7d1d064",
   "metadata": {},
   "outputs": [],
   "source": [
    "What is a Venn diagram?\n",
    "\n",
    "For the two given sets A = (2,3,4,5,6,7) & B = (0,2,6,8,10). Find:\n",
    "(i)A intersetion B = (2,6)\n",
    "(ii) A ⋃ B =(0,2,3,4,5,6,7,8,10)"
   ]
  },
  {
   "cell_type": "code",
   "execution_count": null,
   "id": "15469656-63e7-465d-ab8a-5d2f4a2af6e5",
   "metadata": {},
   "outputs": [],
   "source": [
    "What do you understand about skewness in data?\n",
    "skewness refers to asymmertic data where mean,median and mode all are not equal\n",
    "there are two types of skewness\n",
    "1-Right skewed\n",
    "2-left skewed "
   ]
  },
  {
   "cell_type": "code",
   "execution_count": null,
   "id": "c92867cf-089b-4321-bda3-a78917c02d71",
   "metadata": {},
   "outputs": [],
   "source": [
    "if a data is right skewed then what will be the position of median with respect to mean?\n",
    "if right skewed then,\n",
    "mean>median>mode i.e mean will greater the median and mode and median will lesser than mean and greater than mode"
   ]
  },
  {
   "cell_type": "code",
   "execution_count": null,
   "id": "fa24c318-f174-47f5-812c-2708d861c40d",
   "metadata": {},
   "outputs": [],
   "source": [
    "What is the formula for calculating the sample mean? Provide an example calculation for a\n",
    "dataset.\n",
    "sample mean = sum of all the values/number of values\n",
    "dataset=80, 85, 90, 70, 75, 95, 85, 80\n",
    "Sample Mean = (80 + 85 + 90 + 70 + 75 + 95 + 85 + 80) / 8\n",
    "            = 660 / 8\n",
    "            = 82.5"
   ]
  },
  {
   "cell_type": "code",
   "execution_count": null,
   "id": "5a0beb61-b749-4877-99b5-9d8142eeb1f8",
   "metadata": {},
   "outputs": [],
   "source": [
    "For a normal distribution data what is the relationship between its measure of central tendency?\n",
    "for a normal disturbution mean,median and mode all three will be equal"
   ]
  },
  {
   "cell_type": "code",
   "execution_count": null,
   "id": "6bcbd1e4-32d4-4025-98f6-2501e2b10160",
   "metadata": {},
   "outputs": [],
   "source": [
    "How is covariance different from correlation?\n",
    "Covariance and correlation are both measures of the relationship between two variables, \n",
    "but they differ in their scale and interpretation."
   ]
  },
  {
   "cell_type": "code",
   "execution_count": null,
   "id": "d966c98f-8b7f-4954-a182-0de198953f2c",
   "metadata": {},
   "outputs": [],
   "source": [
    "How do outliers affect measures of central tendency and dispersion? Provide an example.\n",
    "in case of central tendency:\n",
    "    mean is effected a lot because mean is calculated by add all the values \n",
    "    wheras median and mode are not effected because they depend series of values and frequent of the values\n",
    "in case of dispersion:\n",
    "    range,varience and standard deviation all are effected becuase range is nothing nut difference of the max and min\n",
    "    whereas varience and standard deviation are indriectly depended on mean "
   ]
  }
 ],
 "metadata": {
  "kernelspec": {
   "display_name": "Python 3 (ipykernel)",
   "language": "python",
   "name": "python3"
  },
  "language_info": {
   "codemirror_mode": {
    "name": "ipython",
    "version": 3
   },
   "file_extension": ".py",
   "mimetype": "text/x-python",
   "name": "python",
   "nbconvert_exporter": "python",
   "pygments_lexer": "ipython3",
   "version": "3.10.8"
  }
 },
 "nbformat": 4,
 "nbformat_minor": 5
}
