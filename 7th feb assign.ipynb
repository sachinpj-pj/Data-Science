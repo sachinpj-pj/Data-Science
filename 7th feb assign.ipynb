{
 "cells": [
  {
   "cell_type": "code",
   "execution_count": null,
   "id": "c0bfaa9c-0159-4225-98e0-6990703db69e",
   "metadata": {},
   "outputs": [],
   "source": []
  },
  {
   "cell_type": "code",
   "execution_count": 20,
   "id": "ead83702-8637-49ce-9c2a-4fd92f4d9013",
   "metadata": {},
   "outputs": [],
   "source": [
    "'''Q1. You are writing code for a company. The requirement of the company is that you create a python\n",
    "function that will check whether the password entered by the user is correct or not. The function should\n",
    "take the password as input and return the string “Valid Password” if the entered password follows the\n",
    "below-given password guidelines else it should return “Invalid Password”.\n",
    "Note: 1. The Password should contain at least two uppercase letters and at least two lowercase letters.\n",
    "2. The Password should contain at least a number and three special characters.\n",
    "3. The length of the password should be 10 characters long.'''\n",
    "def fun_password():\n",
    "    password=input(\"enter the password :\")\n",
    "    if len(password) == 10:\n",
    "        if len(password.isupper)>2 and len(password.islower)>2:\n",
    "            if type(password) == int:\n",
    "                if len(password.re.match)>3:\n",
    "                    return \"vaildpassword\"\n",
    "    else:\n",
    "        return \"invaildpassword\"\n",
    "        "
   ]
  },
  {
   "cell_type": "code",
   "execution_count": 21,
   "id": "f510dc3e-27a4-42b8-b8cb-72368fa98423",
   "metadata": {},
   "outputs": [
    {
     "name": "stdin",
     "output_type": "stream",
     "text": [
      "enter the password : SSSachiJJ****99\n"
     ]
    },
    {
     "data": {
      "text/plain": [
       "'invaildpassword'"
      ]
     },
     "execution_count": 21,
     "metadata": {},
     "output_type": "execute_result"
    }
   ],
   "source": [
    "fun_password()"
   ]
  },
  {
   "cell_type": "code",
   "execution_count": 2,
   "id": "32870289-2d1b-4556-b897-6e36269ad3c3",
   "metadata": {},
   "outputs": [
    {
     "ename": "SyntaxError",
     "evalue": "incomplete input (19418110.py, line 21)",
     "output_type": "error",
     "traceback": [
      "\u001b[0;36m  Cell \u001b[0;32mIn[2], line 21\u001b[0;36m\u001b[0m\n\u001b[0;31m    \u001b[0m\n\u001b[0m    ^\u001b[0m\n\u001b[0;31mSyntaxError\u001b[0m\u001b[0;31m:\u001b[0m incomplete input\n"
     ]
    }
   ],
   "source": [
    "'''Q2. Solve the below-given questions using at least one of the following:\n",
    "1. Lambda function\n",
    "2. Filter function\n",
    "3. Zap function\n",
    "4. List Comprehension''\n",
    "##Check if the string starts with a particular letter\n",
    "\n",
    "##Check if the string is numeric\n",
    "\n",
    "##Sort a list of tuples having fruit names and their quantity. [(\"mango\",99),(\"orange\",80), (\"grapes\", 1000)-\n",
    "\n",
    "##Find the squares of numbers from 1 to 10\n",
    "##Find the cube root of numbers from 1 to 10\n",
    "##Check if a given number is even\n",
    "##Filter odd numbers from the given list.[1,2,3,4,5,6,7,8,9,10]\n",
    "##Sort a list of integers into positive and negative integers lists. [1,2,3,4,5,6,-1,-2,-3,-4,-5,0]\n",
    "\n",
    "\n"
   ]
  },
  {
   "cell_type": "code",
   "execution_count": 6,
   "id": "b4a2e195-6393-4dc5-8340-026608b6696f",
   "metadata": {},
   "outputs": [
    {
     "name": "stdout",
     "output_type": "stream",
     "text": [
      "True\n"
     ]
    }
   ],
   "source": [
    "string = \"Hello, world!\"\n",
    "letter = \"H\"\n",
    "starts_with_letter = lambda x: x.startswith(letter)\n",
    "\n",
    "print(starts_with_letter(string))"
   ]
  },
  {
   "cell_type": "code",
   "execution_count": 17,
   "id": "68523183-1471-4ebe-ac00-998c2ee2b845",
   "metadata": {},
   "outputs": [
    {
     "name": "stdout",
     "output_type": "stream",
     "text": [
      "Cherry\n"
     ]
    }
   ],
   "source": [
    "strings = [\"Hello, world!\", \"Apple\", \"Banana\", \"Cherry\"]\n",
    "letter = \"C\"\n",
    "\n",
    "starts_with_letter = filter(lambda x: x.startswith(letter), strings)\n",
    "\n",
    "for string in starts_with_letter:\n",
    "    print(string)"
   ]
  },
  {
   "cell_type": "code",
   "execution_count": 18,
   "id": "897062ef-9aa9-44f8-a9f3-34331841e30c",
   "metadata": {},
   "outputs": [
    {
     "name": "stdout",
     "output_type": "stream",
     "text": [
      "True\n"
     ]
    }
   ],
   "source": [
    "string = \"12345\"\n",
    "is_numeric = lambda x: x.isdigit()\n",
    "\n",
    "print(is_numeric(string))"
   ]
  },
  {
   "cell_type": "code",
   "execution_count": 19,
   "id": "82777fd3-1319-4d93-a8d5-2de2f28854a6",
   "metadata": {},
   "outputs": [
    {
     "name": "stdout",
     "output_type": "stream",
     "text": [
      "[('orange', 80), ('mango', 99), ('grapes', 1000)]\n"
     ]
    }
   ],
   "source": [
    "fruits = [(\"mango\", 99), (\"orange\", 80), (\"grapes\", 1000)]\n",
    "sorted_fruits = sorted(fruits, key=lambda x: x[1])\n",
    "print(sorted_fruits)"
   ]
  },
  {
   "cell_type": "code",
   "execution_count": 21,
   "id": "3cd55010-a793-47ad-b301-3c3eadaa70c4",
   "metadata": {},
   "outputs": [
    {
     "name": "stdout",
     "output_type": "stream",
     "text": [
      "[('orange', 80), ('mango', 99), ('grapes', 1000)]\n"
     ]
    }
   ],
   "source": [
    "fruits = [(\"mango\", 99), (\"orange\", 80), (\"grapes\", 1000)]\n",
    "sorted_fruits = [tup for _, tup in sorted([(fruit[1], fruit) for fruit in fruits])]\n",
    "print(sorted_fruits)"
   ]
  },
  {
   "cell_type": "code",
   "execution_count": 33,
   "id": "a2b88e27-de41-4afa-b705-cbdbfa03909a",
   "metadata": {},
   "outputs": [
    {
     "name": "stdout",
     "output_type": "stream",
     "text": [
      "[1, 4, 9, 16, 25, 36, 49, 64, 81, 100]\n"
     ]
    }
   ],
   "source": [
    "numbers = range(1, 11)\n",
    "squares = list(map(lambda x: x ** 2, numbers))\n",
    "print(squares)"
   ]
  },
  {
   "cell_type": "code",
   "execution_count": 34,
   "id": "265d3ef3-af7f-46bb-9968-52c7f05e189f",
   "metadata": {},
   "outputs": [
    {
     "name": "stdout",
     "output_type": "stream",
     "text": [
      "[1, 4, 9, 16, 25, 36, 49, 64, 81, 100]\n"
     ]
    }
   ],
   "source": [
    "squares = [x ** 2 for x in range(1, 11)]\n",
    "print(squares)"
   ]
  },
  {
   "cell_type": "code",
   "execution_count": 37,
   "id": "3eac0674-0bc0-47f2-88e9-debcefc23bb2",
   "metadata": {},
   "outputs": [
    {
     "name": "stdout",
     "output_type": "stream",
     "text": [
      "[1.0, 1.2599210498948732, 1.4422495703074083, 1.5874010519681994, 1.7099759466766968, 1.8171205928321397, 1.912931182772389, 2.0, 2.080083823051904, 2.154434690031884]\n"
     ]
    }
   ],
   "source": [
    "import math\n",
    "numbers = range(1, 11)\n",
    "cube_root = list(map(lambda x: math.pow(x,1/3) , numbers))\n",
    "print(cube_root)"
   ]
  },
  {
   "cell_type": "code",
   "execution_count": 38,
   "id": "3fd0bb90-8c0b-4758-bfaf-d7faf6c7323a",
   "metadata": {},
   "outputs": [
    {
     "name": "stdout",
     "output_type": "stream",
     "text": [
      "[1.0, 1.2599210498948732, 1.4422495703074083, 1.5874010519681994, 1.7099759466766968, 1.8171205928321397, 1.912931182772389, 2.0, 2.080083823051904, 2.154434690031884]\n"
     ]
    }
   ],
   "source": [
    "cube_root = [math.pow(x,1/3) for x in range(1, 11)]\n",
    "print(cube_root)"
   ]
  },
  {
   "cell_type": "code",
   "execution_count": 43,
   "id": "c542980b-f7db-4491-b3a4-3d4524b5309d",
   "metadata": {},
   "outputs": [
    {
     "name": "stdout",
     "output_type": "stream",
     "text": [
      "False\n",
      "True\n",
      "True\n"
     ]
    }
   ],
   "source": [
    "\n",
    "even_no=(lambda x : x%2==0)\n",
    "print(even_no(125))\n",
    "print(even_no(50))\n",
    "print(even_no(200))"
   ]
  },
  {
   "cell_type": "code",
   "execution_count": 44,
   "id": "1539b32e-a683-4aab-a5ae-418658d382fd",
   "metadata": {},
   "outputs": [
    {
     "data": {
      "text/plain": [
       "False"
      ]
     },
     "execution_count": 44,
     "metadata": {},
     "output_type": "execute_result"
    }
   ],
   "source": [
    "even_no(85)"
   ]
  },
  {
   "cell_type": "code",
   "execution_count": 69,
   "id": "58840322-08fc-4028-838a-4ebf43ad6167",
   "metadata": {},
   "outputs": [
    {
     "name": "stdin",
     "output_type": "stream",
     "text": [
      " 52\n"
     ]
    }
   ],
   "source": [
    "x = int(input())\n",
    "even_no = (True if x%2==0 else False)"
   ]
  },
  {
   "cell_type": "code",
   "execution_count": 60,
   "id": "167e4888-8ca2-49a0-a4db-57be4923ae7a",
   "metadata": {},
   "outputs": [
    {
     "name": "stdout",
     "output_type": "stream",
     "text": [
      "[1, 3, 5, 7, 9]\n"
     ]
    }
   ],
   "source": [
    "lst=[1,2,3,4,5,6,7,8,9,10]\n",
    "lst1=list(filter(lambda x : x%2 != 0,lst))\n",
    "print(lst1)"
   ]
  },
  {
   "cell_type": "code",
   "execution_count": null,
   "id": "9a61ab9e-ef0d-4667-a63e-4065790f3d8b",
   "metadata": {},
   "outputs": [],
   "source": []
  }
 ],
 "metadata": {
  "kernelspec": {
   "display_name": "Python 3 (ipykernel)",
   "language": "python",
   "name": "python3"
  },
  "language_info": {
   "codemirror_mode": {
    "name": "ipython",
    "version": 3
   },
   "file_extension": ".py",
   "mimetype": "text/x-python",
   "name": "python",
   "nbconvert_exporter": "python",
   "pygments_lexer": "ipython3",
   "version": "3.10.8"
  }
 },
 "nbformat": 4,
 "nbformat_minor": 5
}
