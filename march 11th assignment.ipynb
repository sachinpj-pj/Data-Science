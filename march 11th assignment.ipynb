{
 "cells": [
  {
   "cell_type": "code",
   "execution_count": null,
   "id": "c51425b7-63f7-4c32-a505-747256211fab",
   "metadata": {},
   "outputs": [],
   "source": [
    " What is the difference between a t-test and a z-test? Provide an example scenario where you would\n",
    "use each type of test.\n",
    "The main difference between a t-test and a z-test is that :\n",
    "a t-test is used when the sample size is small the population standard deviation is unknown\n",
    "a t-test uses the t-distribution to calculate the test statistic\n",
    "example for t-test:\n",
    "An example scenario where you would use a t-test is when you want to compare the mean heights of two groups of students, \n",
    "but you do not know the population standard deviation. In this case, you would use a two-sample t-test.\n",
    "a z-test is used when the sample size is large the population standard deviation is known.\n",
    "a z-test uses the standard normal distribution.\n",
    "example for z-test:\n",
    "An example scenario where you would use a z-test is when you want to test whether the mean height of a sample of students \n",
    "is significantly different from the population mean height, and you know the population standard deviation. \n",
    "In this case, you would use a one-sample z-test."
   ]
  },
  {
   "cell_type": "code",
   "execution_count": null,
   "id": "3f9a7765-9a4d-4849-ba38-b6a92985c414",
   "metadata": {},
   "outputs": [],
   "source": [
    "Differentiate between one-tailed and two-tailed tests.\n",
    "one-tailed:the rejection region is on one side of the distribution\n",
    "two-tailed:the rejection region is on both sides of the distribution."
   ]
  },
  {
   "cell_type": "code",
   "execution_count": null,
   "id": "0f1966bd-5a02-4589-8d00-55c29789ff3c",
   "metadata": {},
   "outputs": [],
   "source": [
    "Explain the concept of Type 1 and Type 2 errors in hypothesis testing. Provide an example scenario for\n",
    "each type of error.\n",
    "type1 error : we reject the null hypothesis when in reality it is true\n",
    "An example scenario of a Type I error is a medical test that indicates a patient has a disease when they actually \n",
    "do not have the disease. This can lead to unnecessary treatment or further tests, which can be costly, time-consuming,\n",
    "and potentially harmful.\n",
    "type2 error : we fail to reject the null hypothesis when in realtiy it is false\n",
    "An example scenario of a Type II error is a medical test that indicates a patient does not have a disease \n",
    "when they actually do have the disease. This can lead to a delay in treatment, which can be potentially harmful or fatal."
   ]
  },
  {
   "cell_type": "code",
   "execution_count": null,
   "id": "cf335df6-42c1-49c9-b318-c93526973441",
   "metadata": {},
   "outputs": [],
   "source": [
    "Explain Bayes theorem with an example.\n",
    "Bayes theorem is a mathematical formula that describes the probability of an event, \n",
    "based on prior knowledge of related conditions."
   ]
  },
  {
   "cell_type": "code",
   "execution_count": null,
   "id": "a923e5db-55de-41e8-930d-9d8b68508bfb",
   "metadata": {},
   "outputs": [],
   "source": [
    "What is a confidence interval? How to calculate the confidence interval, explain with an example.\n",
    "A confidence interval is a range of values that is likely to contain the true value of a population parameter\n",
    "with a certain level of confidence. \n",
    "it is calculated using formula : CI = X̄ ± tα/2 * (s / √n)\n",
    "For example, lets say we want to estimate the average height of all high school students in a city with 95% confidence.\n",
    "We take a random sample of 50 students and measure their heights. The sample mean is 65 inches, and the sample standard deviation \n",
    "is 3 inches.\n",
    "alpha=0.05\n",
    "df=n-1=50-1=49\n",
    "from t-table t-value = 2.010\n",
    "CI = X̄ ± tα/2 * (s / √n)\n",
    "CI = 65 ± 2.010 * (3/√50)=(CI = (64.15, 65.85)"
   ]
  },
  {
   "cell_type": "code",
   "execution_count": null,
   "id": "cd300d63-c9ad-43be-a41d-1d1efdf93595",
   "metadata": {},
   "outputs": [],
   "source": [
    "Use Bayes Theorem to calculate the probability of an event occurring given prior knowledge of the\n",
    "events probability and new evidence. Provide a sample problem and solution."
   ]
  },
  {
   "cell_type": "code",
   "execution_count": null,
   "id": "b8e1458a-765b-499d-be1d-5bff12e0fda8",
   "metadata": {},
   "outputs": [],
   "source": [
    "Calculate the 95% confidence interval for a sample of data with a mean of 50 and a standard deviation\n",
    "of 5. Interpret the results.\n",
    "for 95% confidence level, α/2 = 0.025 and Zα/2 = 1.96\n",
    "CI = X̄ ± (Zα/2) * (σ / √n)"
   ]
  },
  {
   "cell_type": "code",
   "execution_count": null,
   "id": "e95ba984-a309-4570-88a0-3313ad79ab0a",
   "metadata": {},
   "outputs": [],
   "source": [
    "What is the margin of error in a confidence interval? How does sample size affect the margin of error?\n",
    "Provide an example of a scenario where a larger sample size would result in a smaller margin of error.\n",
    "the margin of error is the amount by which the sample statistic may differ from the true population parameter.\n",
    "A larger sample size generally results in a smaller margin of error, all other things being equal."
   ]
  },
  {
   "cell_type": "code",
   "execution_count": null,
   "id": "6089220c-67dd-4d8d-af5d-e92f0423ddd1",
   "metadata": {},
   "outputs": [],
   "source": [
    "Calculate the z-score for a data point with a value of 75, a population mean of 70, and a population\n",
    "standard deviation of 5. Interpret the results.\n",
    "z = (x - μ) / σ\n",
    "z = (75 - 70) / 5 = 1"
   ]
  },
  {
   "cell_type": "code",
   "execution_count": null,
   "id": "5708970f-13a3-4461-a274-9aa1b826b26d",
   "metadata": {},
   "outputs": [],
   "source": [
    " In a study of the effectiveness of a new weight loss drug, a sample of 50 participants lost an average\n",
    "of 6 pounds with a standard deviation of 2.5 pounds. Conduct a hypothesis test to determine if the drug is\n",
    "significantly effective at a 95% confidence level using a t-test.\n",
    "dof=n-1=50-1=49\n",
    "alpha=0.05\n",
    "from t-table cv=1.677\n",
    "t = (x̄ - μ) / (s / √n)\n",
    "t = (6 - 0) / (2.5 / √50) = 13.42\n",
    "conculsion: 13.42>1.677, we fail to reject null ypiothesis"
   ]
  },
  {
   "cell_type": "code",
   "execution_count": null,
   "id": "244a9204-166e-4661-9698-ea4c4dab88e5",
   "metadata": {},
   "outputs": [],
   "source": [
    "In a survey of 500 people, 65% reported being satisfied with their current job. Calculate the 95%\n",
    "confidence interval for the true proportion of people who are satisfied with their job.\n",
    "CI = p ± z* (sqrt((p*(1-p))/n))\n",
    "CI = 0.65 ± 1.96 (sqrt((0.65*(1-0.65))/500))\n",
    "CI = 0.65 ± 0.044\n",
    "CI = (0.606, 0.694)\n",
    "we can say that we are 95% confident that the true proportion of people who are satisfied with \n",
    "their job falls between 0.606 and 0.694. "
   ]
  },
  {
   "cell_type": "code",
   "execution_count": null,
   "id": "329f3d3a-855a-48aa-b7f1-b69f50a81b93",
   "metadata": {},
   "outputs": [],
   "source": [
    "A researcher is testing the effectiveness of two different teaching methods on student performance.\n",
    "Sample A has a mean score of 85 with a standard deviation of 6, while sample B has a mean score of 82\n",
    "with a standard deviation of 5. Conduct a hypothesis test to determine if the two teaching methods have a\n",
    "significant difference in student performance using a t-test with a significance level of 0.01.\n",
    "\n",
    "\n",
    "t = (x̄1 - x̄2) / sqrt((s1^2/n1) + (s2^2/n2))\n",
    "t = (85 - 82) / sqrt((6^2/1) + (5^2/1)) = 3.14\n",
    "df = (s1^2/n1 + s2^2/n2)^2 / ((s1^2/n1)^2/(n1-1) + (s2^2/n2)^2/(n2-1))\n",
    "df = (6^2/1 + 5^2/1)^2 / ((6^2/1)^2/0 + (5^2/1)^2/0) = infinity\n",
    "Using a t-table or calculator, we find the p-value for a two-tailed t-test with infinite degrees of freedom \n",
    "and a t-value of 3.14 to be less than 0.01.\n",
    "Since the p-value is less than 0.01, we reject the null hypothesis"
   ]
  },
  {
   "cell_type": "code",
   "execution_count": null,
   "id": "c993f1fb-6eb8-4a2b-b545-e4dcbbee1fca",
   "metadata": {},
   "outputs": [],
   "source": [
    "A population has a mean of 60 and a standard deviation of 8. A sample of 50 observations has a mean\n",
    "of 65. Calculate the 90% confidence interval for the true population mean.\n",
    "For a 90% confidence interval, the critical value is 1.645\n",
    "CI = x̄ ± z*(σ/√n)\n",
    "CI = 65 ± 1.645*(8/√50)\n",
    "CI = 65 ± 2.356\n",
    "therefore, the 90% confidence interval for the true population mean is (62.644, 67.356)."
   ]
  },
  {
   "cell_type": "code",
   "execution_count": null,
   "id": "b5753724-818d-4c33-9f88-ac6017af5d6e",
   "metadata": {},
   "outputs": [],
   "source": [
    "In a study of the effects of caffeine on reaction time, a sample of 30 participants had an average\n",
    "reaction time of 0.25 seconds with a standard deviation of 0.05 seconds. Conduct a hypothesis test to\n",
    "determine if the caffeine has a significant effect on reaction time at a 90% confidence level using a t-test.\n",
    "alpha=0.1\n",
    "dof=n-1=30-1=29\n",
    "from t-table cv=1.699\n",
    "t = (x̄ - μ) / (s / √n)\n",
    "For a 90% confidence level and 29 degrees of freedom (n-1), the critical t-value is ±1.699.\n",
    "t = (0.25 - 0) / (0.05 / √30) = 7.746\n",
    "conculsion:7.746>1.699 ,reject the null hypothesis"
   ]
  },
  {
   "cell_type": "code",
   "execution_count": null,
   "id": "e3fffdb9-3702-437b-ad7e-25aa18544c68",
   "metadata": {},
   "outputs": [],
   "source": []
  },
  {
   "cell_type": "code",
   "execution_count": null,
   "id": "69947ef2-1b96-4283-ae20-fa377a15d134",
   "metadata": {},
   "outputs": [],
   "source": []
  },
  {
   "cell_type": "code",
   "execution_count": null,
   "id": "ae1a3fd4-50a8-4f4a-9af8-ba1c94c6ad90",
   "metadata": {},
   "outputs": [],
   "source": []
  },
  {
   "cell_type": "code",
   "execution_count": null,
   "id": "0dc5020a-fbc1-48b1-b34b-43e217024b0f",
   "metadata": {},
   "outputs": [],
   "source": []
  },
  {
   "cell_type": "code",
   "execution_count": null,
   "id": "e3eb374d-ee2e-4369-9822-4f226a0441ed",
   "metadata": {},
   "outputs": [],
   "source": []
  }
 ],
 "metadata": {
  "kernelspec": {
   "display_name": "Python 3 (ipykernel)",
   "language": "python",
   "name": "python3"
  },
  "language_info": {
   "codemirror_mode": {
    "name": "ipython",
    "version": 3
   },
   "file_extension": ".py",
   "mimetype": "text/x-python",
   "name": "python",
   "nbconvert_exporter": "python",
   "pygments_lexer": "ipython3",
   "version": "3.10.8"
  }
 },
 "nbformat": 4,
 "nbformat_minor": 5
}
