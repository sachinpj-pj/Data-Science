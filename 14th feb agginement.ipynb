{
 "cells": [
  {
   "cell_type": "code",
   "execution_count": null,
   "id": "49b38294-a57f-492a-9651-dc085809d9be",
   "metadata": {},
   "outputs": [],
   "source": [
    "what is multithreading in python? why is it used? Name the module used to handle threads in python\n",
    "multithreading is process of exceting multiple programs or threads in a core.\n",
    "To improve the performance of a program by using multiple CPUs or CPU cores.\n",
    "the module used to handle threads in python is threading "
   ]
  },
  {
   "cell_type": "code",
   "execution_count": null,
   "id": "62d367ca-0461-4953-a1f9-b17f1f84689e",
   "metadata": {},
   "outputs": [],
   "source": [
    "why threading module used? write the use of the following functions\n",
    "to increase the performance we use threading module\n",
    "activeCount-returns the number of threads count that are active\n",
    "currentThread-returns the numbers of threads objects in the caller thread\n",
    "enumerate-adds a counter to an iterable and returns it in a form of enumerating object."
   ]
  },
  {
   "cell_type": "code",
   "execution_count": null,
   "id": "251aa29d-e03c-4f56-8291-e64add0d3baf",
   "metadata": {},
   "outputs": [],
   "source": [
    "Explain the following functions\n",
    "run-excutes hetarget function of a given thread\n",
    "start-start the child procees which is present inside parent procees\n",
    "join-it will wait until start process terminates\n",
    "isAlive-it returns true is method is still running else false"
   ]
  },
  {
   "cell_type": "code",
   "execution_count": null,
   "id": "59a6c8b4-3564-4301-8fe9-114fa10e72b6",
   "metadata": {},
   "outputs": [],
   "source": [
    "write a python program to create two threads. Thread one must print the list of squares and thread\n",
    "two must print the list of cubes"
   ]
  },
  {
   "cell_type": "code",
   "execution_count": 1,
   "id": "42dcb20d-fc9f-48ef-80d1-07e60b477831",
   "metadata": {},
   "outputs": [],
   "source": [
    "import threading"
   ]
  },
  {
   "cell_type": "code",
   "execution_count": 2,
   "id": "5386086f-c902-4e09-9c29-6a53dc1f2eff",
   "metadata": {},
   "outputs": [],
   "source": [
    "def square(n):\n",
    "    return n**2"
   ]
  },
  {
   "cell_type": "code",
   "execution_count": 3,
   "id": "6ebc5ccd-5fdb-423d-a137-2e8a62f07394",
   "metadata": {},
   "outputs": [],
   "source": [
    "thread1 = [threading.Thread(target= square, args=(i,)) for i in [12,6,8,9,74]]"
   ]
  },
  {
   "cell_type": "code",
   "execution_count": 4,
   "id": "70f32996-d1a6-4888-8219-28f37613693b",
   "metadata": {},
   "outputs": [],
   "source": [
    "for t in thread1:\n",
    "    t.start()\n",
    "    t.join()"
   ]
  },
  {
   "cell_type": "code",
   "execution_count": 5,
   "id": "65dae239-dd0a-47dc-b9d7-8654a475ac59",
   "metadata": {},
   "outputs": [
    {
     "data": {
      "text/plain": [
       "[<Thread(Thread-5 (square), stopped 140126713796160)>,\n",
       " <Thread(Thread-6 (square), stopped 140126713796160)>,\n",
       " <Thread(Thread-7 (square), stopped 140126713796160)>,\n",
       " <Thread(Thread-8 (square), stopped 140126713796160)>,\n",
       " <Thread(Thread-9 (square), stopped 140126713796160)>]"
      ]
     },
     "execution_count": 5,
     "metadata": {},
     "output_type": "execute_result"
    }
   ],
   "source": [
    "thread1"
   ]
  },
  {
   "cell_type": "code",
   "execution_count": 6,
   "id": "ed9ed84d-94fc-429a-9402-611a2715cc67",
   "metadata": {},
   "outputs": [],
   "source": [
    "import threading"
   ]
  },
  {
   "cell_type": "code",
   "execution_count": 7,
   "id": "1ab5486e-f8d0-4a4c-9e91-3a7dcc344758",
   "metadata": {},
   "outputs": [],
   "source": [
    "def cube(n):\n",
    "    return n*n*n"
   ]
  },
  {
   "cell_type": "code",
   "execution_count": 8,
   "id": "0fbea939-fdb8-44e4-842a-4d2ccfcb75d5",
   "metadata": {},
   "outputs": [],
   "source": [
    "thread2 = [threading.Thread(target= cube, args=(i,)) for i in [12,6,8,9,74]]"
   ]
  },
  {
   "cell_type": "code",
   "execution_count": 10,
   "id": "25043ef9",
   "metadata": {},
   "outputs": [],
   "source": [
    "for t in thread2:\n",
    "    t.start()\n",
    "    t.join()"
   ]
  },
  {
   "cell_type": "code",
   "execution_count": 11,
   "id": "c532e040-e661-4a16-b492-8b739089e8b9",
   "metadata": {},
   "outputs": [
    {
     "data": {
      "text/plain": [
       "[<Thread(Thread-10 (cube), stopped 140126713796160)>,\n",
       " <Thread(Thread-11 (cube), stopped 140126713796160)>,\n",
       " <Thread(Thread-12 (cube), stopped 140126713796160)>,\n",
       " <Thread(Thread-13 (cube), stopped 140126713796160)>,\n",
       " <Thread(Thread-14 (cube), stopped 140126713796160)>]"
      ]
     },
     "execution_count": 11,
     "metadata": {},
     "output_type": "execute_result"
    }
   ],
   "source": [
    "thread2"
   ]
  },
  {
   "cell_type": "code",
   "execution_count": 36,
   "id": "a30617b8-8008-4265-92ab-6f4f869eb52b",
   "metadata": {},
   "outputs": [
    {
     "data": {
      "text/plain": [
       "'State advantages and disadvantages of multithreading'"
      ]
     },
     "execution_count": 36,
     "metadata": {},
     "output_type": "execute_result"
    }
   ],
   "source": [
    "'''State advantages and disadvantages of multithreading'''\n",
    "advantages:\n",
    "Increases peformance\n",
    "better use of cpu\n",
    "disadvantages:\n",
    "complex coding and debugging"
   ]
  },
  {
   "cell_type": "code",
   "execution_count": null,
   "id": "09e85288-fddb-4e8b-9267-e29edcc3e25c",
   "metadata": {},
   "outputs": [],
   "source": [
    "Explain deadlocks and race conditions."
   ]
  },
  {
   "cell_type": "code",
   "execution_count": null,
   "id": "97126d91-fada-47af-8a83-3b3e2c8c71d9",
   "metadata": {},
   "outputs": [],
   "source": [
    "Deadlock exists when two threads seek one lock simultaneously.\n",
    "A race condition occurs when two threads use the same variable at a given time.\n"
   ]
  }
 ],
 "metadata": {
  "kernelspec": {
   "display_name": "Python 3 (ipykernel)",
   "language": "python",
   "name": "python3"
  },
  "language_info": {
   "codemirror_mode": {
    "name": "ipython",
    "version": 3
   },
   "file_extension": ".py",
   "mimetype": "text/x-python",
   "name": "python",
   "nbconvert_exporter": "python",
   "pygments_lexer": "ipython3",
   "version": "3.10.8"
  }
 },
 "nbformat": 4,
 "nbformat_minor": 5
}
