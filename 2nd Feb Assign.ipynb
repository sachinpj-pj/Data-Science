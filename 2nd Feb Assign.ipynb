{
 "cells": [
  {
   "cell_type": "code",
   "execution_count": null,
   "id": "9b9cbc51-9d2e-4a03-b420-b3c899201be3",
   "metadata": {},
   "outputs": [],
   "source": [
    "##Characteristics of tuples\n",
    "They are indexed\n",
    "they are ordered\n",
    "they are immutale\n",
    "they can contain dulicate items\n",
    "##Is tuple immutable?\n",
    "Yes"
   ]
  },
  {
   "cell_type": "code",
   "execution_count": 7,
   "id": "5b16b1b5-24cd-4e3a-815a-2ec746da49ac",
   "metadata": {},
   "outputs": [
    {
     "data": {
      "text/plain": [
       "1"
      ]
     },
     "execution_count": 7,
     "metadata": {},
     "output_type": "execute_result"
    }
   ],
   "source": [
    "## Two methods in are\n",
    "'''count()\n",
    "index()\n",
    "'''\n",
    "##example\n",
    "t1=(1,2,2,2,3,3,4,5,6,6,6)\n",
    "t1.count(2)\n",
    "t1.index(2)\n",
    "##reason for tuple having only methods is \n",
    "Becuase tuples implement the common sequece operation, \n",
    "everything thats defined as a sequence supports certain operation\n",
    "and count and index sre two of those."
   ]
  },
  {
   "cell_type": "code",
   "execution_count": 17,
   "id": "53732f61-79dc-46f9-bf92-7e3597aea6d5",
   "metadata": {},
   "outputs": [],
   "source": [
    "##Which collection datatypes in python do not allow duplicate items?\n",
    "##Answer-Set\n",
    "##Write a code using a set to remove duplicates from the given list.\n",
    "l = [1, 1, 1, 2, 1, 3, 1, 4, 2, 1, 2, 2, 2, 3, 2, 4, 3, 1, 3, 2, 3, 3, 3, 4, 4, 1, 4, 2, 4, 3, 4, 4]\n",
    "set(l)"
   ]
  },
  {
   "cell_type": "code",
   "execution_count": 26,
   "id": "53e82d7f-3549-43cb-aa04-5ab2ec6b94d6",
   "metadata": {},
   "outputs": [
    {
     "data": {
      "text/plain": [
       "{1, 2, 3, 4, 5, 6, 7, 8, 9}"
      ]
     },
     "execution_count": 26,
     "metadata": {},
     "output_type": "execute_result"
    }
   ],
   "source": [
    "###Explain the difference between the union() and update() methods for a set.\n",
    "''''union-Return the union of sets as a new set\n",
    "update-Update a set with the union of itself and others.'''\n",
    "##Example\n",
    "s1={1,2,2,3,3,4,4,5,5,5,6,6,7}\n",
    "s2={2,3,5,6,7,8,9,7,5,4,5,5,4}\n",
    "s1.update(s2)\n",
    "s1.union(s2)"
   ]
  },
  {
   "cell_type": "code",
   "execution_count": 28,
   "id": "a303f906-45ce-4871-96ed-0a5a9bac7731",
   "metadata": {},
   "outputs": [],
   "source": [
    "s1.update(s2)"
   ]
  },
  {
   "cell_type": "code",
   "execution_count": 29,
   "id": "2125589d-ef4e-43bd-89ea-85567c8071f6",
   "metadata": {},
   "outputs": [
    {
     "data": {
      "text/plain": [
       "{1, 2, 3, 4, 5, 6, 7, 8, 9}"
      ]
     },
     "execution_count": 29,
     "metadata": {},
     "output_type": "execute_result"
    }
   ],
   "source": [
    "s1"
   ]
  },
  {
   "cell_type": "code",
   "execution_count": null,
   "id": "cbb7394d-5aa0-4201-8710-00107dbfb87a",
   "metadata": {},
   "outputs": [],
   "source": []
  },
  {
   "cell_type": "code",
   "execution_count": 27,
   "id": "6e000f34-f7d7-4629-9958-5e1828a0e5cb",
   "metadata": {},
   "outputs": [
    {
     "data": {
      "text/plain": [
       "{1, 2, 3, 4, 5, 6, 7, 8, 9}"
      ]
     },
     "execution_count": 27,
     "metadata": {},
     "output_type": "execute_result"
    }
   ],
   "source": [
    "s1.union(s2)"
   ]
  },
  {
   "cell_type": "code",
   "execution_count": null,
   "id": "a67d58bc-dcca-4400-b081-0760bfaec0d8",
   "metadata": {},
   "outputs": [],
   "source": [
    "##What is a dictionary? Give an example. \n",
    "Dictionary is used to store values in Key:value \n",
    "example: d1={\"sachin\":12334,\"Sach\":23323}\n",
    "##Also, state whether a dictionary is ordered or unordered.\n",
    "dictionary is ordered"
   ]
  },
  {
   "cell_type": "code",
   "execution_count": 30,
   "id": "a737812f-c7a1-47fa-9f56-eefc8314aa87",
   "metadata": {},
   "outputs": [],
   "source": [
    " d1={\"sachin\":12334,\"Sach\":23323}"
   ]
  },
  {
   "cell_type": "code",
   "execution_count": 31,
   "id": "406c6fb9-aa17-47f2-9169-5dac769a3afa",
   "metadata": {},
   "outputs": [
    {
     "data": {
      "text/plain": [
       "dict"
      ]
     },
     "execution_count": 31,
     "metadata": {},
     "output_type": "execute_result"
    }
   ],
   "source": [
    "type(d1)"
   ]
  },
  {
   "cell_type": "code",
   "execution_count": 47,
   "id": "624163d5-c4d7-467f-8670-98ebfeb30c4d",
   "metadata": {},
   "outputs": [],
   "source": [
    "##Q6. Can we create a nested dictionary? \n",
    "##Yes\n",
    "##If so, please give an example by creating a simple one-level nested dictionary.\n",
    "d2={\"Name\":\"Sachin\",\"Class\":\"Data Science\",{\"Course\":\"Data Science Masters\",\"Start\":\"29th Jan\"}}"
   ]
  },
  {
   "cell_type": "code",
   "execution_count": 53,
   "id": "10ddb702-ac7a-41b5-a176-668f2a2282d1",
   "metadata": {},
   "outputs": [],
   "source": [
    "##Q7. Using setdefault() method, create key named topics in the given dictionary and also add the value of\n",
    "##the key as this list ['Python', 'Machine Learning’, 'Deep Learning']\n",
    "\n",
    "dict1 = {\"topics\":[\"Python\",\"Machine Learning\",\"Deep Learning\"],'language' : 'Python', 'course': 'Data Science Masters'}"
   ]
  },
  {
   "cell_type": "code",
   "execution_count": 54,
   "id": "92cc6970-6cc7-4acb-aa25-ce590f5d872b",
   "metadata": {},
   "outputs": [
    {
     "data": {
      "text/plain": [
       "{'topics': ['Python', 'Machine Learning', 'Deep Learning'],\n",
       " 'language': 'Python',\n",
       " 'course': 'Data Science Masters'}"
      ]
     },
     "execution_count": 54,
     "metadata": {},
     "output_type": "execute_result"
    }
   ],
   "source": [
    "dict1"
   ]
  },
  {
   "cell_type": "code",
   "execution_count": 55,
   "id": "486c5349-cf12-4aa9-b299-d4acd0c62b72",
   "metadata": {},
   "outputs": [
    {
     "data": {
      "text/plain": [
       "['Python', 'Machine Learning', 'Deep Learning']"
      ]
     },
     "execution_count": 55,
     "metadata": {},
     "output_type": "execute_result"
    }
   ],
   "source": [
    "dict1.setdefault('topics')"
   ]
  },
  {
   "cell_type": "code",
   "execution_count": 57,
   "id": "401917cb-ee10-45fa-bbda-4528da930955",
   "metadata": {},
   "outputs": [],
   "source": [
    "##What are the three view objects in dictionaries? \n",
    "##keys,values,items\n",
    "##Use the three in-built methods in python to display these three view objects for the given dictionary.\n",
    "dict1 = {'Sport': 'Cricket' , 'Teams': ['India', 'Australia', 'England', 'South Africa', 'Sri Lanka', 'New Zealand']}"
   ]
  },
  {
   "cell_type": "code",
   "execution_count": 72,
   "id": "418bd666-104c-422b-93d3-03a466e236ea",
   "metadata": {},
   "outputs": [
    {
     "data": {
      "text/plain": [
       "dict_values(['Cricket', ['India', 'Australia', 'England', 'South Africa', 'Sri Lanka', 'New Zealand']])"
      ]
     },
     "execution_count": 72,
     "metadata": {},
     "output_type": "execute_result"
    }
   ],
   "source": [
    "dict1.values()"
   ]
  },
  {
   "cell_type": "code",
   "execution_count": 71,
   "id": "db0e502c-e727-4133-a50b-c8e536020903",
   "metadata": {},
   "outputs": [
    {
     "data": {
      "text/plain": [
       "dict_items([('Sport', 'Cricket'), ('Teams', ['India', 'Australia', 'England', 'South Africa', 'Sri Lanka', 'New Zealand'])])"
      ]
     },
     "execution_count": 71,
     "metadata": {},
     "output_type": "execute_result"
    }
   ],
   "source": [
    "dict1.items()"
   ]
  },
  {
   "cell_type": "code",
   "execution_count": 70,
   "id": "7f17dcf3-f5ce-4b25-9cd4-d71a44c3cd5b",
   "metadata": {},
   "outputs": [
    {
     "data": {
      "text/plain": [
       "dict_keys(['Sport', 'Teams'])"
      ]
     },
     "execution_count": 70,
     "metadata": {},
     "output_type": "execute_result"
    }
   ],
   "source": [
    "dict1.keys()"
   ]
  },
  {
   "cell_type": "code",
   "execution_count": null,
   "id": "10f98bb8-112e-4af4-a3a7-962a66a8353d",
   "metadata": {},
   "outputs": [],
   "source": []
  }
 ],
 "metadata": {
  "kernelspec": {
   "display_name": "Python 3 (ipykernel)",
   "language": "python",
   "name": "python3"
  },
  "language_info": {
   "codemirror_mode": {
    "name": "ipython",
    "version": 3
   },
   "file_extension": ".py",
   "mimetype": "text/x-python",
   "name": "python",
   "nbconvert_exporter": "python",
   "pygments_lexer": "ipython3",
   "version": "3.10.8"
  }
 },
 "nbformat": 4,
 "nbformat_minor": 5
}
