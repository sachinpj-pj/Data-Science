{
 "cells": [
  {
   "cell_type": "code",
   "execution_count": null,
   "id": "7baa5bd0-079f-47b7-8c18-8c03c88d1dc7",
   "metadata": {},
   "outputs": [],
   "source": [
    "Explain GET and POST methods.\n",
    "Get method is used to take input from the user in publicly\n",
    "example-Google\n",
    "post method is used to take input from the user in private\n",
    "example-Gmail"
   ]
  },
  {
   "cell_type": "code",
   "execution_count": null,
   "id": "c86a1ef1-4fbd-477c-ab45-bf1c2ecea524",
   "metadata": {},
   "outputs": [],
   "source": [
    "Why is request used in Flask?\n",
    "request contains all the data sent from the Client to Server"
   ]
  },
  {
   "cell_type": "code",
   "execution_count": null,
   "id": "8eab78fa-f136-45bf-8268-e9d9c15a63e0",
   "metadata": {},
   "outputs": [],
   "source": [
    "Why is redirect() used in Flask?\n",
    "redirect() is used to redirect to another function or web page mentioned "
   ]
  },
  {
   "cell_type": "code",
   "execution_count": null,
   "id": "497fda46-601d-41c3-b9d8-ad1fe46eb6a7",
   "metadata": {},
   "outputs": [],
   "source": [
    "What are templates in Flask? Why is the render_template() function used?\n",
    "templates are the pre-defined funtion which has static funtion and placeholder in it\n",
    "render_template() is used to generate the output from the template"
   ]
  },
  {
   "cell_type": "code",
   "execution_count": null,
   "id": "702c869d-5234-4a9f-908f-91d9be3e9fd5",
   "metadata": {},
   "outputs": [],
   "source": [
    "Create a simple API. Use Postman to test it. Attach the screenshot of the output in the Jupyter Notebook.\n"
   ]
  },
  {
   "cell_type": "code",
   "execution_count": null,
   "id": "cb5c3de1-bf70-4ab1-9b56-b17b1386bc39",
   "metadata": {},
   "outputs": [],
   "source": [
    "from flask import Flask,request ,render_template , jsonify\n",
    "\n",
    "app = Flask(__name__)\n",
    "\n",
    "\n",
    "@app.route('/')\n",
    "def home_page():\n",
    "    return render_template('index.html')\n",
    "\n",
    "@app.route('/postman_action',methods=['POST'])\n",
    "def math_ops1():\n",
    "    if(request.method == 'POST'):\n",
    "        ops = request.json['operation']\n",
    "        num1 = int(request.json['num1'])\n",
    "        num2 = int(request.json['num2'])\n",
    "        if ops == 'add':\n",
    "            r = num1+num2\n",
    "            result = \"The sum of \" + str(num1) + 'and ' + str(num2) + \"is \" + str(r)\n",
    "        if ops == 'subtract':\n",
    "            r = num1-num2\n",
    "            result = \"The subtract of \" + str(num1) + 'and ' + str(num2) + \"is \" + str(r)\n",
    "        if ops == 'multiply':\n",
    "            r = num1*num2\n",
    "            result = \"The multiply of \" + str(num1) + 'and ' + str(num2) + \"is \" + str(r)\n",
    "        if ops == 'divide':\n",
    "            r = num1/num2\n",
    "            result = \"The divide of \" + str(num1) + 'and ' + str(num2) + \"is \" + str(r)\n",
    "            \n",
    "        return jsonify(result)\n",
    "\n",
    "if __name__==\"__main__\":\n",
    "    app.run(host=\"0.0.0.0\")"
   ]
  }
 ],
 "metadata": {
  "kernelspec": {
   "display_name": "Python 3 (ipykernel)",
   "language": "python",
   "name": "python3"
  },
  "language_info": {
   "codemirror_mode": {
    "name": "ipython",
    "version": 3
   },
   "file_extension": ".py",
   "mimetype": "text/x-python",
   "name": "python",
   "nbconvert_exporter": "python",
   "pygments_lexer": "ipython3",
   "version": "3.10.8"
  }
 },
 "nbformat": 4,
 "nbformat_minor": 5
}
