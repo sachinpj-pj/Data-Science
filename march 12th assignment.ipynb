{
 "cells": [
  {
   "cell_type": "code",
   "execution_count": null,
   "id": "1d1e0cf4-584e-4efb-8cf9-a5f6fe0cccb0",
   "metadata": {},
   "outputs": [],
   "source": [
    "Q1. Calculate the 95% confidence interval for a sample of data with a mean of 50 and a standard deviation\n",
    "of 5 using Python. Interpret the results."
   ]
  },
  {
   "cell_type": "code",
   "execution_count": 1,
   "id": "41045364-f082-4ddd-a89f-631fb5de96ee",
   "metadata": {},
   "outputs": [],
   "source": [
    "from scipy import stats\n",
    "\n",
    "sample_mean = 50\n",
    "sample_std = 5\n",
    "n = 100 \n",
    "se = sample_std / (n ** 0.5)\n",
    "moe = stats.t.ppf(0.975, n-1) * se\n",
    "ci_lower = sample_mean - moe\n",
    "ci_upper = sample_mean + moe"
   ]
  },
  {
   "cell_type": "code",
   "execution_count": 3,
   "id": "84e1dc62-9727-467f-968f-a03cf2e9c10d",
   "metadata": {},
   "outputs": [
    {
     "data": {
      "text/plain": [
       "49.00789152424566"
      ]
     },
     "execution_count": 3,
     "metadata": {},
     "output_type": "execute_result"
    }
   ],
   "source": [
    "ci_lower"
   ]
  },
  {
   "cell_type": "code",
   "execution_count": 2,
   "id": "7141ddde-a386-4840-9109-5283fb85a93e",
   "metadata": {},
   "outputs": [
    {
     "data": {
      "text/plain": [
       "50.99210847575434"
      ]
     },
     "execution_count": 2,
     "metadata": {},
     "output_type": "execute_result"
    }
   ],
   "source": [
    "ci_upper"
   ]
  },
  {
   "cell_type": "code",
   "execution_count": null,
   "id": "854d1ae3-6082-48fe-a5ff-9adaf1ca348d",
   "metadata": {},
   "outputs": [],
   "source": [
    "Q2. Conduct a chi-square goodness of fit test to determine if the distribution of colors of M&Ms in a bag\n",
    "matches the expected distribution of 20% blue, 20% orange, 20% green, 10% yellow, 10% red, and 20%\n",
    "brown. Use Python to perform the test with a significance level of 0.05."
   ]
  },
  {
   "cell_type": "code",
   "execution_count": 2,
   "id": "fa7560ac-353e-4fe8-92f4-cc49d0d4c3fe",
   "metadata": {},
   "outputs": [
    {
     "name": "stdout",
     "output_type": "stream",
     "text": [
      "Chi-square statistic: 5.833333333333334\n",
      "P-value: 0.0541137662228216\n"
     ]
    }
   ],
   "source": [
    "import numpy as np\n",
    "from scipy.stats import chi2\n",
    "alpha = 0.05\n",
    "chi_square = np.sum((observed - expected)**2 / expected)\n",
    "df = len(observed) - 1\n",
    "p_value = 1 - chi2.cdf(chi_square, df)\n",
    "print(\"Chi-square statistic:\", chi_square)\n",
    "print(\"P-value:\", p_value)"
   ]
  },
  {
   "cell_type": "code",
   "execution_count": null,
   "id": "e1caca17-a0f7-45e7-9fb3-d31adfa9efc3",
   "metadata": {},
   "outputs": [],
   "source": [
    "Q3. Use Python to calculate the chi-square statistic and p-value for a contingency table with the following\n",
    "data:\n",
    "            groupA   groupB\n",
    "outcome1      20       15\n",
    "outcome2      10       25\n",
    "outcome3      15       20\n",
    "Interpret the results of the test."
   ]
  },
  {
   "cell_type": "code",
   "execution_count": 1,
   "id": "64d3f052-17d3-459d-b17d-40b16e8786aa",
   "metadata": {},
   "outputs": [
    {
     "name": "stdout",
     "output_type": "stream",
     "text": [
      "Chi-square statistic: 5.833333333333334\n",
      "P-value: 0.05411376622282158\n"
     ]
    }
   ],
   "source": [
    "import numpy as np\n",
    "from scipy.stats import chi2_contingency\n",
    "observed = np.array([[20, 15], [10, 25], [15, 20]])\n",
    "chi_square, p_value, dof, expected = chi2_contingency(observed)\n",
    "print(\"Chi-square statistic:\", chi_square)\n",
    "print(\"P-value:\", p_value)"
   ]
  },
  {
   "cell_type": "code",
   "execution_count": null,
   "id": "9984a5a1-1f1f-45e1-8a4b-1690356e781e",
   "metadata": {},
   "outputs": [],
   "source": [
    "Q4. A study of the prevalence of smoking in a population of 500 individuals found that 60 individuals\n",
    "smoked. Use Python to calculate the 95% confidence interval for the true proportion of individuals in the\n",
    "population who smoke."
   ]
  },
  {
   "cell_type": "code",
   "execution_count": 3,
   "id": "d6e739be-088b-4193-8b3e-fd606a22acd8",
   "metadata": {},
   "outputs": [
    {
     "name": "stdout",
     "output_type": "stream",
     "text": [
      "95% Confidence Interval: (0.092, 0.148)\n"
     ]
    }
   ],
   "source": [
    "import math\n",
    "n = 500\n",
    "x = 60\n",
    "p_hat = x / n\n",
    "SE = math.sqrt(p_hat * (1 - p_hat) / n)\n",
    "z = 1.96\n",
    "lower = p_hat - z * SE\n",
    "upper = p_hat + z * SE\n",
    "print(\"95% Confidence Interval: ({:.3f}, {:.3f})\".format(lower, upper))"
   ]
  },
  {
   "cell_type": "code",
   "execution_count": null,
   "id": "607e21c0-5661-4460-a6a9-e4ff205871b9",
   "metadata": {},
   "outputs": [],
   "source": [
    "Q5.Calculate the 90% confidence interval for a sample of data with a mean of 75 and a standard deviation\n",
    "of 12 using Python. Interpret the results."
   ]
  },
  {
   "cell_type": "code",
   "execution_count": 4,
   "id": "6c9a6e90-b15e-4436-ae1e-e47b25609472",
   "metadata": {},
   "outputs": [
    {
     "name": "stdout",
     "output_type": "stream",
     "text": [
      "90% Confidence Interval: (73.026, 76.974)\n"
     ]
    }
   ],
   "source": [
    "import math\n",
    "x_bar = 75\n",
    "sigma = 12\n",
    "n = 100\n",
    "# z-score for 90% confidence interval\n",
    "z = 1.645\n",
    "lower = x_bar - z * sigma / math.sqrt(n)\n",
    "upper = x_bar + z * sigma / math.sqrt(n)\n",
    "print(\"90% Confidence Interval: ({:.3f}, {:.3f})\".format(lower, upper))"
   ]
  },
  {
   "cell_type": "code",
   "execution_count": null,
   "id": "90f89660-90df-4880-8962-17a31731d614",
   "metadata": {},
   "outputs": [],
   "source": [
    "Q7. A random sample of 1000 people was asked if they preferred Coke or Pepsi. Of the sample, 520\n",
    "preferred Coke. Calculate a 99% confidence interval for the true proportion of people in the population who\n",
    "prefer Coke."
   ]
  },
  {
   "cell_type": "code",
   "execution_count": null,
   "id": "cc52647d-c431-4b6a-9d33-3c411f8b7e67",
   "metadata": {},
   "outputs": [],
   "source": [
    "n=1000\n",
    "ci=99%\n",
    "p_hat=520/1000\n",
    "lower = p_hat - z * math.sqrt(p_hat * (1 - p_hat) / n)=0.483 \n",
    "upper = p_hat + z * math.sqrt(p_hat * (1 - p_hat) / n)=0.557"
   ]
  },
  {
   "cell_type": "code",
   "execution_count": null,
   "id": "a6d137dc-ef20-41fa-9fb6-327e6d0cf852",
   "metadata": {
    "tags": []
   },
   "outputs": [],
   "source": [
    "Q8. A researcher hypothesizes that a coin is biased towards tails. They flip the coin 100 times and observe\n",
    "45 tails. Conduct a chi-square goodness of fit test to determine if the observed frequencies match the\n",
    "expected frequencies of a fair coin. Use a significance level of 0.05."
   ]
  },
  {
   "cell_type": "code",
   "execution_count": null,
   "id": "5aa7c5b5-0ee1-4300-abe1-02dfa5a75c0f",
   "metadata": {},
   "outputs": [],
   "source": [
    "Oi = 45 tails\n",
    "Ei = 50 tails\n",
    "signifiance=0.05\n",
    "χ2 = 0.5 and df = 1, p-value=0.479.\n",
    "X^2 = ∑(O - E)^2 / E\n",
    "χ2 = ((45-50)² / 50) = 0.5\n",
    "conculsion: since 0.479>0.05,we fail to reject "
   ]
  },
  {
   "cell_type": "code",
   "execution_count": null,
   "id": "0b6cd95d-ed24-4fc2-81c7-6fb20974450f",
   "metadata": {},
   "outputs": [],
   "source": [
    "Q11. A random sample of 30 people was selected from a population with an unknown mean and standard\n",
    "deviation. The sample mean was found to be 72 and the sample standard deviation was found to be 10.\n",
    "Conduct a hypothesis test to determine if the population mean is significantly different from 70. Use a\n",
    "significance level of 0.05."
   ]
  },
  {
   "cell_type": "code",
   "execution_count": null,
   "id": "e04ad33a-bbe0-475c-99c3-047435617dce",
   "metadata": {},
   "outputs": [],
   "source": [
    "t = (x̄ - μ) / (s / √n)\n",
    "t = (72 - 70) / (10 / √30) = 1.095\n",
    "dof=n-1=30-1=29\n",
    "with t = 1.095 and df = 29, p-value=0.283 \n",
    "conculsion:0.283>0.05,we fail to reject"
   ]
  }
 ],
 "metadata": {
  "kernelspec": {
   "display_name": "Python 3 (ipykernel)",
   "language": "python",
   "name": "python3"
  },
  "language_info": {
   "codemirror_mode": {
    "name": "ipython",
    "version": 3
   },
   "file_extension": ".py",
   "mimetype": "text/x-python",
   "name": "python",
   "nbconvert_exporter": "python",
   "pygments_lexer": "ipython3",
   "version": "3.10.8"
  }
 },
 "nbformat": 4,
 "nbformat_minor": 5
}
