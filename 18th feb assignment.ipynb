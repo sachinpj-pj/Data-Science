{
 "cells": [
  {
   "cell_type": "code",
   "execution_count": null,
   "id": "16eefdfd-7a72-4937-9085-60ca46329454",
   "metadata": {},
   "outputs": [],
   "source": [
    "What is an API? Give an example, where an API is used in real life.\n",
    "application pragramming interface known as API is interface App used to connect between 2 different apps\n",
    "##example:\n",
    "Zomato\n",
    "Gpay"
   ]
  },
  {
   "cell_type": "code",
   "execution_count": null,
   "id": "494ea859-5957-4165-972c-b34c17e7b80c",
   "metadata": {},
   "outputs": [],
   "source": [
    "Give advantages and disadvantages of using API.\n",
    "##advantages\n",
    "Easy connectivity \n",
    "easier Maintenance\n",
    "incresed efficiency\n",
    "##disdvantages\n",
    "Increased Complexity\n",
    "Dependency on Third Party Services"
   ]
  },
  {
   "cell_type": "code",
   "execution_count": null,
   "id": "99ac160c-b0bf-41c6-95a7-bd897b5c4eed",
   "metadata": {},
   "outputs": [],
   "source": [
    "What is a Web API? Differentiate between API and Web API.\n",
    "A web API is an application programming interface for either a web server or a web browser. \n",
    "##web api\n",
    "All web services are APIs.\t\n",
    "It supports XML.\t\n",
    "It provides supports only for the HTTP protocol.\t\n",
    "## api\n",
    "All APIs are not web services.\n",
    "Responses are formatted using Web API’s MediaTypeFormatter into XML, JSON, or any other given format.\n",
    "It provides support for the HTTP/s protocol: URL Request/Response Headers, etc."
   ]
  },
  {
   "cell_type": "code",
   "execution_count": null,
   "id": "a990ced1-d352-4902-b13a-36cbef017066",
   "metadata": {},
   "outputs": [],
   "source": [
    "Explain REST and SOAP Architecture. Mention shortcomings of SOAP.\n",
    "REST is an Architectural style in which a web service can only be treated as a RESTful service \n",
    "SOAP is a protocol. SOAP was designed with a specification\n",
    "##shortcoming of soap\n",
    "Highly complex\n",
    "No variety of data formats"
   ]
  },
  {
   "cell_type": "code",
   "execution_count": null,
   "id": "ea0fcfd4-ff7d-4573-9c70-3f5ccd4675a3",
   "metadata": {},
   "outputs": [],
   "source": [
    "Differentiate between REST and SOAP.\n",
    "##rest\n",
    "REST-representataion state transfer\n",
    "REST is a set of architectural principles.\n",
    "REST can make use of SOAP as the underlying protocol for web services\n",
    "##soap\n",
    "SOAP-simple object access protocol\n",
    "SOAP is an official protocol maintained by the World Wide Web Consortium (W3C).\n",
    "SOAP cannot make use of REST since SOAP is a protocol and REST is an architectural pattern."
   ]
  }
 ],
 "metadata": {
  "kernelspec": {
   "display_name": "Python 3 (ipykernel)",
   "language": "python",
   "name": "python3"
  },
  "language_info": {
   "codemirror_mode": {
    "name": "ipython",
    "version": 3
   },
   "file_extension": ".py",
   "mimetype": "text/x-python",
   "name": "python",
   "nbconvert_exporter": "python",
   "pygments_lexer": "ipython3",
   "version": "3.10.8"
  }
 },
 "nbformat": 4,
 "nbformat_minor": 5
}
