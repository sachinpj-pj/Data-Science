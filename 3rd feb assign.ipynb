{
 "cells": [
  {
   "cell_type": "code",
   "execution_count": 6,
   "id": "a5a9812a-5025-45b8-9651-a398a529156e",
   "metadata": {},
   "outputs": [],
   "source": [
    "## Which keyword is used to create a function? \n",
    "##def funtion is used to create a function\n",
    "##Create a function to return a list of odd numbers in the range of 1 to 25.\n",
    "def test(a):\n",
    "    n=[]\n",
    "    for i in range(1,a):\n",
    "        if i%2 != 0:\n",
    "            n.append(i)\n",
    "    return n"
   ]
  },
  {
   "cell_type": "code",
   "execution_count": 9,
   "id": "48e271e7-4efb-47fd-86c9-2d329b98cd7d",
   "metadata": {},
   "outputs": [
    {
     "data": {
      "text/plain": [
       "[1, 3, 5, 7, 9, 11, 13, 15, 17, 19, 21, 23, 25]"
      ]
     },
     "execution_count": 9,
     "metadata": {},
     "output_type": "execute_result"
    }
   ],
   "source": [
    "test(26)"
   ]
  },
  {
   "cell_type": "code",
   "execution_count": 13,
   "id": "f307a237-a46c-4f2e-84d1-ac776a26591f",
   "metadata": {},
   "outputs": [],
   "source": [
    "##Why *args and **kwargs is used in some functions?\n",
    "*args is used to take n number of arguments and **kwargs is used to take n number of keys and values \n",
    "##Create a function each for *args and **kwargs to demonstrate their use.\n",
    "def test2(*args,**kvargs):\n",
    "    return args,kvargs\n",
    "    "
   ]
  },
  {
   "cell_type": "code",
   "execution_count": 14,
   "id": "538ebfa7-8fe3-48f4-8f2f-392750f75317",
   "metadata": {},
   "outputs": [
    {
     "data": {
      "text/plain": [
       "((1, 2, 3, 4), {'a': 222, 'b': 345, 'c': 22221})"
      ]
     },
     "execution_count": 14,
     "metadata": {},
     "output_type": "execute_result"
    }
   ],
   "source": [
    "test2(1,2,3,4,a=222,b=345,c=22221)"
   ]
  },
  {
   "cell_type": "code",
   "execution_count": 2,
   "id": "036625fd-2d2c-4bb1-9d31-49623f14a272",
   "metadata": {},
   "outputs": [
    {
     "name": "stdout",
     "output_type": "stream",
     "text": [
      "2\n",
      "4\n",
      "6\n",
      "8\n",
      "10\n"
     ]
    }
   ],
   "source": [
    "##What is an iterator in python? \n",
    "Iterator in Python is an object that is used to iterate over iterable objects like lists, tuples, dicts, and sets.\n",
    "##Name the method used to initialise the iterator object and the method used for iteration. \n",
    "iter() is used to initialise the iterator object.\n",
    "##Use these methods to print the first five elements of the given list [2, 4, 6, 8, 10, 12, 14, 16,18, 20].\n",
    "l= [2, 4, 6, 8, 10, 12, 14, 16,18, 20]\n",
    "l1=iter(l)\n",
    "for i in range(5):\n",
    "    print(next(l1))\n"
   ]
  },
  {
   "cell_type": "code",
   "execution_count": 19,
   "id": "9ebc7282-7ba5-4ba7-8c2c-557c67aea615",
   "metadata": {},
   "outputs": [],
   "source": [
    "##What is a generator function in python? \n",
    "##a generator is function which returns the iterated value.\n",
    "##Why yield keyword is used? \n",
    "##yield keyword is nothing but a return keyword which aslo returns the value \n",
    "##Give an example of a generator function.\n",
    "def test_fib(n):\n",
    "    a,b=0,1\n",
    "    for i in range(n):\n",
    "        yield a\n",
    "        a,b=b,a+b"
   ]
  },
  {
   "cell_type": "code",
   "execution_count": 20,
   "id": "6091f9bd-7e90-4f6b-9c80-c0f90422cc35",
   "metadata": {},
   "outputs": [
    {
     "data": {
      "text/plain": [
       "<generator object test_fib at 0x7fc8781c9c40>"
      ]
     },
     "execution_count": 20,
     "metadata": {},
     "output_type": "execute_result"
    }
   ],
   "source": [
    "test_fib(10)"
   ]
  },
  {
   "cell_type": "code",
   "execution_count": 21,
   "id": "94e51548-be16-40e9-86b9-2de7a82c4a47",
   "metadata": {},
   "outputs": [
    {
     "name": "stdout",
     "output_type": "stream",
     "text": [
      "0\n",
      "1\n",
      "1\n",
      "2\n",
      "3\n",
      "5\n",
      "8\n",
      "13\n",
      "21\n",
      "34\n"
     ]
    }
   ],
   "source": [
    "for i in test_fib(10):\n",
    "    print(i)"
   ]
  },
  {
   "cell_type": "code",
   "execution_count": 36,
   "id": "ee9d6eb0-22bd-49a4-a1ec-23ed868dfc10",
   "metadata": {},
   "outputs": [],
   "source": [
    "##Create a generator function for prime numbers less than 1000. Use the next() method to print the first 20 prime numbers.\n",
    "def prime_numbers_generator():\n",
    "    yield 2\n",
    "    primes = [2]\n",
    "    for num in range(3, 1000):\n",
    "        for prime in primes:\n",
    "            if num % prime == 0:\n",
    "                break\n",
    "        else:\n",
    "            primes.append(num)\n",
    "            yield num\n",
    "prime_generator = prime_numbers_generator()"
   ]
  },
  {
   "cell_type": "code",
   "execution_count": 37,
   "id": "7db7feb3-85f9-4c05-a203-1cea3687f2ea",
   "metadata": {},
   "outputs": [
    {
     "name": "stdout",
     "output_type": "stream",
     "text": [
      "2\n",
      "3\n",
      "5\n",
      "7\n",
      "11\n",
      "13\n",
      "17\n",
      "19\n",
      "23\n",
      "29\n",
      "31\n",
      "37\n",
      "41\n",
      "43\n",
      "47\n",
      "53\n",
      "59\n",
      "61\n",
      "67\n",
      "71\n"
     ]
    }
   ],
   "source": [
    "for i in range(20):\n",
    "    print(next(prime_generator))"
   ]
  },
  {
   "cell_type": "code",
   "execution_count": null,
   "id": "5bf00759-ad87-4261-87da-811ca25fbc0c",
   "metadata": {},
   "outputs": [],
   "source": []
  }
 ],
 "metadata": {
  "kernelspec": {
   "display_name": "Python 3 (ipykernel)",
   "language": "python",
   "name": "python3"
  },
  "language_info": {
   "codemirror_mode": {
    "name": "ipython",
    "version": 3
   },
   "file_extension": ".py",
   "mimetype": "text/x-python",
   "name": "python",
   "nbconvert_exporter": "python",
   "pygments_lexer": "ipython3",
   "version": "3.10.8"
  }
 },
 "nbformat": 4,
 "nbformat_minor": 5
}
