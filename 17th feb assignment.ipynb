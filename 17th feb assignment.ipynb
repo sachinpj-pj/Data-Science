{
 "cells": [
  {
   "cell_type": "code",
   "execution_count": null,
   "id": "6aa4a0b2-ed4f-4253-8a4d-c92f8273adff",
   "metadata": {},
   "outputs": [],
   "source": [
    "What is MongoDB? Explain non-relational databases in short. In which scenarios it is preferred to use\n",
    "MongoDB over SQL databases?\n",
    "it is database system in which data is stored in form of document either dict or Json \n",
    "non-relational database also called as NoSql which stands for Not Only Sql \n",
    "stores data in form on non-tabular method and its more flexible than relational database\n",
    "in case of cost and open source for creating free databases it is preferred"
   ]
  },
  {
   "cell_type": "code",
   "execution_count": null,
   "id": "29cd475a-dfa6-474a-86e5-ef344d660f55",
   "metadata": {},
   "outputs": [],
   "source": [
    "State and Explain the features of MongoDB.\n",
    "Schema-less Database:A Schema-less database means one collection can hold different types of documents in it. \n",
    "and these documents may consist of the different numbers of fields and size.\n",
    "Document Oriented: In MongoDB, all the data stored in the documents,\n",
    "the data is stored in key-value pair instead of rows and columns.\n"
   ]
  },
  {
   "cell_type": "code",
   "execution_count": null,
   "id": "8c0cbe40-8562-42e9-89dc-273ff97858ff",
   "metadata": {},
   "outputs": [],
   "source": [
    "Write a code to connect MongoDB to Python. Also, create a database and a collection in MongoDB."
   ]
  },
  {
   "cell_type": "code",
   "execution_count": null,
   "id": "c7c78c84-57bc-4f16-90a6-6296acc754cc",
   "metadata": {},
   "outputs": [],
   "source": [
    "pip install pymongo"
   ]
  },
  {
   "cell_type": "code",
   "execution_count": null,
   "id": "24d71745-f6f8-4c99-adc1-f062cc4589ab",
   "metadata": {},
   "outputs": [],
   "source": [
    "import pymongo\n",
    "client = pymongo.MongoClient(\"mongodb+srv://sachinpjadi:<password>@cluster0.x4bhk0f.mongodb.net/?retryWrites=true&w=majority\")\n",
    "db = client.test"
   ]
  },
  {
   "cell_type": "code",
   "execution_count": null,
   "id": "8512f2c3-11f9-4736-a687-b55dcb3ec2ab",
   "metadata": {},
   "outputs": [],
   "source": [
    "db = client['pwskills']"
   ]
  },
  {
   "cell_type": "code",
   "execution_count": null,
   "id": "813fa911-5277-4f66-9fb7-92630aac8d5f",
   "metadata": {},
   "outputs": [],
   "source": [
    "collection = db['name']"
   ]
  },
  {
   "cell_type": "code",
   "execution_count": null,
   "id": "0a531d9d-b5a0-45cc-bbb1-c557e9d7adb4",
   "metadata": {},
   "outputs": [],
   "source": [
    "data = {\n",
    "    \"name\":\"sachin\",\n",
    "    \"class\":\"dsm\",\n",
    "    \"timing\":\"flex\"\n",
    "}"
   ]
  },
  {
   "cell_type": "code",
   "execution_count": null,
   "id": "2629bdcd-fba6-4415-9be3-510666167f00",
   "metadata": {},
   "outputs": [],
   "source": [
    "Using the database and the collection created in question number 3, write a code to insert one record,\n",
    "and insert many records. Use the find() and find_one() methods to print the inserted record."
   ]
  },
  {
   "cell_type": "code",
   "execution_count": null,
   "id": "508e7bfc-3f5c-47f3-91fb-9239f65b3f17",
   "metadata": {},
   "outputs": [],
   "source": [
    "data1 = {\n",
    "    \"mail\" :\"sch@gmail.com\",\n",
    "    \"phone\": 98546855\n",
    "}"
   ]
  },
  {
   "cell_type": "code",
   "execution_count": null,
   "id": "ae153df5-5677-4257-9a8b-c262c6f64318",
   "metadata": {},
   "outputs": [],
   "source": [
    "collection.insert_one(data)"
   ]
  },
  {
   "cell_type": "code",
   "execution_count": null,
   "id": "7b3be454-76c1-4f80-8275-f27324dfc6ca",
   "metadata": {},
   "outputs": [],
   "source": [
    "data3 = [\n",
    "    { \"name\": \"Amy\", \"address\": \"Apple st 652\" },\n",
    "  { \"name\": \"Hannah\", \"address\": \"Mountain 21\" },\n",
    "  { \"name\": \"Michael\", \"address\": \"Valley 345\" },\n",
    "  { \"name\": \"Sandy\", \"address\": \"Ocean blvd 2\" },\n",
    "  { \"name\": \"Betty\", \"address\": \"Green Grass 1\" },\n",
    "  { \"name\": \"Richard\", \"address\": \"Sky st 331\" },\n",
    "  { \"name\": \"Susan\", \"address\": \"One way 98\" },\n",
    "  { \"name\": \"Vicky\", \"address\": \"Yellow Garden 2\" },\n",
    "  { \"name\": \"Ben\", \"address\": \"Park Lane 38\" },\n",
    "  { \"name\": \"William\", \"address\": \"Central st 954\" },\n",
    "  { \"name\": \"Chuck\", \"address\": \"Main Road 989\" },\n",
    "  { \"name\": \"Viola\", \"address\": \"Sideway 1633\" }\n",
    "]"
   ]
  },
  {
   "cell_type": "code",
   "execution_count": null,
   "id": "7963a9be-a122-444b-8f59-220194c3ac6b",
   "metadata": {},
   "outputs": [],
   "source": [
    "collection.insert_many(data3)"
   ]
  },
  {
   "cell_type": "code",
   "execution_count": null,
   "id": "274be714-9099-4e05-86f5-8960d5080aba",
   "metadata": {},
   "outputs": [],
   "source": [
    "for i in collection.find():\n",
    "    print(i)"
   ]
  },
  {
   "cell_type": "code",
   "execution_count": null,
   "id": "6a6f9777-de5b-4225-a873-801bfd5eba89",
   "metadata": {},
   "outputs": [],
   "source": [
    "for i in collection.find_one():\n",
    "    print(i)"
   ]
  },
  {
   "cell_type": "code",
   "execution_count": null,
   "id": "eefe666f-8700-4909-8ce0-2fb69047307b",
   "metadata": {},
   "outputs": [],
   "source": [
    "Explain how you can use the find() method to query the MongoDB database. Write a simple code to\n",
    "demonstrate this.\n",
    "find() is used to find a particular record from the table and display it.\n",
    "we can use in for loop or we cn call it directly\n",
    "for i in collection.find():\n",
    "    print(i)\n",
    "    OR\n",
    "db.collection.find()"
   ]
  },
  {
   "cell_type": "code",
   "execution_count": null,
   "id": "593dfd0a-3779-4120-8bef-c744ee7d1351",
   "metadata": {},
   "outputs": [],
   "source": [
    "Explain the sort() method. Give an example to demonstrate sorting in MongoDB.\n",
    "sort() is used to arrange the complete order in either ascending to descending or \n",
    "larger to smaller or smaller to larger "
   ]
  },
  {
   "cell_type": "code",
   "execution_count": null,
   "id": "38706edf-06cc-487d-a289-e87d0d1cce7d",
   "metadata": {},
   "outputs": [],
   "source": [
    "##example\n",
    "db.collection.sort({filed_name:1 or -1})"
   ]
  },
  {
   "cell_type": "code",
   "execution_count": null,
   "id": "81e64095-1b80-4d24-9539-5f7b1b60883d",
   "metadata": {},
   "outputs": [],
   "source": [
    "Explain why delete_one(), delete_many(), and drop() is used.\n",
    "delete_one() is used to delete the first inserted record\n",
    "delete_many() is used to delete multiple record from the database\n",
    "drop() is used to delete the complete database at once or complete all the records at once"
   ]
  }
 ],
 "metadata": {
  "kernelspec": {
   "display_name": "Python 3 (ipykernel)",
   "language": "python",
   "name": "python3"
  },
  "language_info": {
   "codemirror_mode": {
    "name": "ipython",
    "version": 3
   },
   "file_extension": ".py",
   "mimetype": "text/x-python",
   "name": "python",
   "nbconvert_exporter": "python",
   "pygments_lexer": "ipython3",
   "version": "3.10.8"
  }
 },
 "nbformat": 4,
 "nbformat_minor": 5
}
