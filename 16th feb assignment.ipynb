{
 "cells": [
  {
   "cell_type": "code",
   "execution_count": null,
   "id": "8500de78-3d0e-48ec-9a90-62a184ee93cd",
   "metadata": {},
   "outputs": [],
   "source": [
    "Q1. What is a database? Differentiate between SQL and NoSQL databases.\n",
    "database is container in which data is stored in systematic and organsied manner\n",
    "sql-structed query language\n",
    "databases are-mysql,mssql and etc\n",
    "Nosql-not only structed query language\n",
    "databases are-mangoDB,hbase and etc "
   ]
  },
  {
   "cell_type": "code",
   "execution_count": null,
   "id": "57159aa8-9989-48c9-88c8-7c8a6d244137",
   "metadata": {},
   "outputs": [],
   "source": [
    "Q2. What is DDL? Explain why CREATE, DROP, ALTER, and TRUNCATE are used with an example.\n",
    "data definition language \n",
    "create-create is used to creaye a new database or new table \n",
    "##example\n",
    "create database DB1\n",
    "drop- drop is used to delete a table from the database\n",
    "##example\n",
    "drop database DB1\n",
    "alter-alter is used is change the table by adding or deleting a record\n",
    "##example'\n",
    "alter table tablename add name_of_column datatype\n",
    "Truncate-truncate is used to delete all the records from the table\n",
    "##example\n",
    "truncate table tablename"
   ]
  },
  {
   "cell_type": "code",
   "execution_count": null,
   "id": "7f3d3c54-5307-429d-8d86-1b0069a526ee",
   "metadata": {},
   "outputs": [],
   "source": [
    "Q3. What is DML? Explain INSERT, UPDATE, and DELETE with an example.\n",
    "data manipulation language\n",
    "insert clause is used to insert a row into the table\n",
    "## example\n",
    "insert 'something' into table(columns) values(x,y)\n",
    "update clause is used update the existing data into the table\n",
    "##example\n",
    "update table_name set column_value \n",
    "delete clause is delete a record from the table  \n",
    "##example\n",
    "delete from table_name"
   ]
  },
  {
   "cell_type": "code",
   "execution_count": null,
   "id": "f5e1a912-d604-41eb-a306-6259caafef9d",
   "metadata": {},
   "outputs": [],
   "source": [
    "Q4. What is DQL? Explain SELECT with an example.\n",
    "data query language \n",
    "select clause is used to display the column which is required\n",
    "##example\n",
    "select * from table"
   ]
  },
  {
   "cell_type": "code",
   "execution_count": null,
   "id": "7a66c64d-4ac9-47c9-843a-cc1d7b7b2138",
   "metadata": {},
   "outputs": [],
   "source": [
    "Q5. Explain Primary Key and Foreign Key.\n",
    "primary key - it is column or key which is uniquely identified in the table\n",
    "foreign key - it is column used to connect between two different tables"
   ]
  },
  {
   "cell_type": "code",
   "execution_count": null,
   "id": "5c052c24-3d48-414f-92ac-91e305cc56f6",
   "metadata": {},
   "outputs": [],
   "source": [
    "Q6. Write a python code to connect MySQL to python. Explain the cursor() and execute() method.\n",
    "import mysql.connector\n",
    "mydb = mysql.connector.connect(\n",
    "  host=\"localhost\",\n",
    "  user=\"abc\",\n",
    "  password=\"password\"\n",
    ")\n",
    "print(mydb)\n",
    "mycursor = mydb.cursor()\n",
    "mycursor.execute(\"SHOW DATABASES\")"
   ]
  },
  {
   "cell_type": "code",
   "execution_count": null,
   "id": "d668ecf7-7608-42f4-82ca-cecfd3f714b8",
   "metadata": {},
   "outputs": [],
   "source": [
    "Q7. Give the order of execution of SQL clauses in an SQL query.\n",
    "from\n",
    "where \n",
    "group-by\n",
    "having\n",
    "select"
   ]
  },
  {
   "cell_type": "code",
   "execution_count": null,
   "id": "81fd9147-1d98-4184-991f-6679a17daa1f",
   "metadata": {},
   "outputs": [],
   "source": []
  }
 ],
 "metadata": {
  "kernelspec": {
   "display_name": "Python 3 (ipykernel)",
   "language": "python",
   "name": "python3"
  },
  "language_info": {
   "codemirror_mode": {
    "name": "ipython",
    "version": 3
   },
   "file_extension": ".py",
   "mimetype": "text/x-python",
   "name": "python",
   "nbconvert_exporter": "python",
   "pygments_lexer": "ipython3",
   "version": "3.10.8"
  }
 },
 "nbformat": 4,
 "nbformat_minor": 5
}
