{
 "cells": [
  {
   "cell_type": "code",
   "execution_count": null,
   "id": "20d16330-c9a2-4c39-95ed-c7effa65063c",
   "metadata": {},
   "outputs": [],
   "source": [
    "What is multiprocessing in python? Why is it useful?\n",
    "it is in-bulit function in which multiple programs run in different processor simultaneously\n",
    "it is useful because it faster compared to other and it increases performance"
   ]
  },
  {
   "cell_type": "code",
   "execution_count": null,
   "id": "76ce69ae-9903-4016-a235-e734cb090098",
   "metadata": {},
   "outputs": [],
   "source": [
    "What are the differences between multiprocessing and multithreading?\n",
    "n multiprocessing, many processes are executed simultaneously. \n",
    "In multiprocessing, a separate address space is created for each process.\n",
    "In multithreading, many threads are executed simultaneously.\n",
    "In multithreading, a common address space is used for all the threads."
   ]
  },
  {
   "cell_type": "code",
   "execution_count": null,
   "id": "70305cd9-b4a9-49e8-8250-9df91388d323",
   "metadata": {},
   "outputs": [],
   "source": [
    "Write a python code to create a process using the multiprocessing module."
   ]
  },
  {
   "cell_type": "code",
   "execution_count": 1,
   "id": "d29bdad6-07e4-4558-8708-f837e9cef8ec",
   "metadata": {},
   "outputs": [],
   "source": [
    "import multiprocessing"
   ]
  },
  {
   "cell_type": "code",
   "execution_count": 2,
   "id": "b6974958-e320-469f-8972-f371abbb01e6",
   "metadata": {},
   "outputs": [],
   "source": [
    "def square(n):\n",
    "    return n*n"
   ]
  },
  {
   "cell_type": "code",
   "execution_count": 5,
   "id": "f0e1f9e7-6950-4d8b-9b47-5c205bdf95f4",
   "metadata": {},
   "outputs": [],
   "source": [
    "m_p = [multiprocessing.Process(target=square , args = (i , )) for i in [2,4,6,8,10]]"
   ]
  },
  {
   "cell_type": "code",
   "execution_count": 6,
   "id": "d27f3ba1-a59f-4f4d-828f-040d4b6d5eb8",
   "metadata": {},
   "outputs": [],
   "source": [
    "for p in m_p:\n",
    "    p.start()\n",
    "    p.join()"
   ]
  },
  {
   "cell_type": "code",
   "execution_count": 7,
   "id": "a1f8633c-a4ff-4caa-961d-85e2c607ad3b",
   "metadata": {},
   "outputs": [
    {
     "data": {
      "text/plain": [
       "[<Process name='Process-1' pid=619 parent=70 stopped exitcode=0>,\n",
       " <Process name='Process-2' pid=620 parent=70 stopped exitcode=0>,\n",
       " <Process name='Process-3' pid=621 parent=70 stopped exitcode=0>,\n",
       " <Process name='Process-4' pid=622 parent=70 stopped exitcode=0>,\n",
       " <Process name='Process-5' pid=623 parent=70 stopped exitcode=0>]"
      ]
     },
     "execution_count": 7,
     "metadata": {},
     "output_type": "execute_result"
    }
   ],
   "source": [
    "m_p"
   ]
  },
  {
   "cell_type": "code",
   "execution_count": null,
   "id": "e6889dbf-e9e6-4b50-9e65-7723e7dea0d3",
   "metadata": {},
   "outputs": [],
   "source": [
    "What is a multiprocessing pool in python? Why is it used?\n",
    "multiprocessor pool is a funtion in which programs are used to work parallelly in different processor at a time\n",
    "multiprocessor pool is used to excecute the function parallely with different inputs"
   ]
  },
  {
   "cell_type": "code",
   "execution_count": null,
   "id": "72e62582-eaa9-454d-92f0-858a57d83024",
   "metadata": {},
   "outputs": [],
   "source": [
    "How can we create a pool of worker processes in python using the multiprocessing module?\n",
    "create a process pool\n",
    "p = multiprocessing.pool.Pool()\n",
    "issue task for excucetion\n",
    "results = pool.map(tasks,items)\n",
    "close the pool\n",
    "close.pool()"
   ]
  },
  {
   "cell_type": "code",
   "execution_count": 17,
   "id": "86472be7-3e05-4edc-a771-0d108907f75e",
   "metadata": {},
   "outputs": [
    {
     "name": "stdout",
     "output_type": "stream",
     "text": [
      "4\n",
      "16\n",
      "36\n",
      "64\n"
     ]
    }
   ],
   "source": [
    "'''Write a python program to create 4 processes, each process should print a different number using the\n",
    "multiprocessing module in python.'''\n",
    "import multiprocessing\n",
    "\n",
    "def sqaure(n):\n",
    "    print(n*n)\n",
    "\n",
    "if __name__ == '__main__':\n",
    "    num = [2,4,6,8]\n",
    "    numbers = []\n",
    "    \n",
    "    for n in num:\n",
    "        p = multiprocessing.Process(target=sqaure, args=(n,))\n",
    "        numbers.append(p)\n",
    "        p.start()\n",
    "        p.join()"
   ]
  },
  {
   "cell_type": "code",
   "execution_count": null,
   "id": "57e0ffe3-b598-4bd5-81ab-7c5a950b66fa",
   "metadata": {},
   "outputs": [],
   "source": []
  }
 ],
 "metadata": {
  "kernelspec": {
   "display_name": "Python 3 (ipykernel)",
   "language": "python",
   "name": "python3"
  },
  "language_info": {
   "codemirror_mode": {
    "name": "ipython",
    "version": 3
   },
   "file_extension": ".py",
   "mimetype": "text/x-python",
   "name": "python",
   "nbconvert_exporter": "python",
   "pygments_lexer": "ipython3",
   "version": "3.10.8"
  }
 },
 "nbformat": 4,
 "nbformat_minor": 5
}
