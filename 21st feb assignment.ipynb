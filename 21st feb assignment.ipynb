{
 "cells": [
  {
   "cell_type": "code",
   "execution_count": null,
   "id": "3a56b3bb-c0db-434e-a5bb-63b042983019",
   "metadata": {},
   "outputs": [],
   "source": [
    "What is Web Scraping? Why is it Used? Give three areas where Web Scraping is used to get data.\n",
    "it is process of extracting large amount of unstructed data and by coding in python and make it in \n",
    "structed data.\n",
    "it is used for price comparsion and comments comparsion or rating of user and many more.\n",
    "1) E-commerce\n",
    "2)Market research\n",
    "3)Job listings"
   ]
  },
  {
   "cell_type": "code",
   "execution_count": null,
   "id": "4abd7a5d-4eba-44b0-9ad2-bca289f18c6f",
   "metadata": {},
   "outputs": [],
   "source": [
    "What are the different methods used for Web Scraping?\n",
    "beautifulsoap,request,parse,read,findall etc"
   ]
  },
  {
   "cell_type": "code",
   "execution_count": null,
   "id": "a4311d18-5164-4447-8f2a-4af005898761",
   "metadata": {},
   "outputs": [],
   "source": [
    "What is Beautiful Soup? Why is it used?\n",
    "beautiful soap is python lib which makes unstructed html document to structed html document but not completly sturucted \n",
    "Beatiful soap is used for web scrapping"
   ]
  },
  {
   "cell_type": "code",
   "execution_count": null,
   "id": "1f28e18f-657b-4e88-ad94-47083d1ec1cf",
   "metadata": {},
   "outputs": [],
   "source": [
    "Why is flask used in this Web Scraping project?\n",
    "we use flask to parse our collected data and display it as HTML in a new HTML file. "
   ]
  },
  {
   "cell_type": "code",
   "execution_count": null,
   "id": "fff7c8b7-eefd-4e0a-a6a7-392cbfae4131",
   "metadata": {},
   "outputs": [],
   "source": [
    "Write the names of AWS services used in this project. Also, explain the use of each service.\n",
    "code pipeline and bean stack.\n",
    "code pipeline:it is automatic process of deployment the process. these is used for continous delivery service\n",
    "bean stack:it is method of quick depolyment of aws cloud.these is used for Easy deployment and scaling of web applications."
   ]
  }
 ],
 "metadata": {
  "kernelspec": {
   "display_name": "Python 3 (ipykernel)",
   "language": "python",
   "name": "python3"
  },
  "language_info": {
   "codemirror_mode": {
    "name": "ipython",
    "version": 3
   },
   "file_extension": ".py",
   "mimetype": "text/x-python",
   "name": "python",
   "nbconvert_exporter": "python",
   "pygments_lexer": "ipython3",
   "version": "3.10.8"
  }
 },
 "nbformat": 4,
 "nbformat_minor": 5
}
