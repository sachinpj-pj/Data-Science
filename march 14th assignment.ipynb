{
 "cells": [
  {
   "cell_type": "code",
   "execution_count": null,
   "id": "1b486eb1-ae50-437c-af2d-0d591a2b4430",
   "metadata": {},
   "outputs": [],
   "source": [
    "Q1. Write a Python function that takes in two arrays of data and calculates the F-value for a variance ratio\n",
    "test. The function should return the F-value and the corresponding p-value for the test."
   ]
  },
  {
   "cell_type": "code",
   "execution_count": null,
   "id": "91d71114-ebf5-4178-9f43-b3768ba7f260",
   "metadata": {},
   "outputs": [],
   "source": [
    "import numpy as np\n",
    "from scipy.stats import f\n",
    "\n",
    "def variance_ratio_test(data1, data2):\n",
    "    var1 = np.var(data1, ddof=1)\n",
    "    var2 = np.var(data2, ddof=1)\n",
    "    F = var1 / var2\n",
    "    df1 = len(data1) - 1\n",
    "    df2 = len(data2) - 1\n",
    "    p_value = 1 - f.cdf(F, df1, df2)\n",
    "    \n",
    "    return F, p_value"
   ]
  },
  {
   "cell_type": "code",
   "execution_count": null,
   "id": "111de1bf-0518-4141-a0a5-d05fd41e4c0f",
   "metadata": {},
   "outputs": [],
   "source": [
    "Q2. Given a significance level of 0.05 and the degrees of freedom for the numerator and denominator of an\n",
    "F-distribution, write a Python function that returns the critical F-value for a two-tailed test."
   ]
  },
  {
   "cell_type": "code",
   "execution_count": null,
   "id": "31594029-e71b-41b1-a645-b69b0c474ea8",
   "metadata": {},
   "outputs": [],
   "source": [
    "from scipy.stats import f\n",
    "def critical_f_value(dfn, dfd, alpha=0.05):\n",
    "    return f.ppf(1 - alpha/2, dfn, dfd)dfn = 3\n",
    "dfd = 20\n",
    "alpha = 0.05\n",
    "crit_f_val = critical_f_value(dfn, dfd, alpha)\n",
    "print(f\"Critical F-value: {crit_f_val:.4f}\")"
   ]
  },
  {
   "cell_type": "code",
   "execution_count": null,
   "id": "559a6161-0d87-4d32-b035-cdd8920e6195",
   "metadata": {},
   "outputs": [],
   "source": [
    "Q3. Write a Python program that generates random samples from two normal distributions with known\n",
    "variances and uses an F-test to determine if the variances are equal. The program should output the F-\n",
    "value, degrees of freedom, and p-value for the test."
   ]
  },
  {
   "cell_type": "code",
   "execution_count": null,
   "id": "8086c66a-a3d2-4753-9b1c-c7835e2bfb9b",
   "metadata": {},
   "outputs": [],
   "source": [
    "sample1 = np.random.normal(mean1, std1, size=50)\n",
    "sample2 = np.random.normal(mean2, std2, size=50)\n",
    "F = np.var(sample1, ddof=1) / np.var(sample2, ddof=1)\n",
    "df1 = len(sample1) - 1\n",
    "df2 = len(sample2) - 1\n",
    "p_value = 1 - f.cdf(F, df1, df2)\n",
    "print(\"F-value: \", F)\n",
    "print(\"Degrees of freedom: \", df1, \", \", df2)\n",
    "print(\"p-value: \", p_value)"
   ]
  },
  {
   "cell_type": "code",
   "execution_count": null,
   "id": "db8ca937-68ae-42af-8c8c-57ce06435c91",
   "metadata": {},
   "outputs": [],
   "source": [
    "Q4.The variances of two populations are known to be 10 and 15. A sample of 12 observations is taken from\n",
    "each population. Conduct an F-test at the 5% significance level to determine if the variances are\n",
    "significantly different."
   ]
  },
  {
   "cell_type": "code",
   "execution_count": null,
   "id": "682a7a79-286a-451b-a105-16827029f3bb",
   "metadata": {},
   "outputs": [],
   "source": [
    "F = s1^2 / s2^2\n",
    "n1 = n2 = 12\n",
    "s1^2 = 10\n",
    "s2^2 = 15\n",
    "F = s1^2 / s2^2 = 10 / 15 = 0.67\n",
    "from f-disturbution cv=2.15\n",
    "conculsion:0.67<2.15, we fail tp reject the null hypothesis"
   ]
  },
  {
   "cell_type": "code",
   "execution_count": null,
   "id": "82b69e6c-a558-4660-879f-5e514855b2ff",
   "metadata": {},
   "outputs": [],
   "source": [
    "Q5. A manufacturer claims that the variance of the diameter of a certain product is 0.005. A sample of 25\n",
    "products is taken, and the sample variance is found to be 0.006. Conduct an F-test at the 1% significance\n",
    "level to determine if the claim is justified."
   ]
  },
  {
   "cell_type": "code",
   "execution_count": null,
   "id": "aee0e46c-a43c-4651-be4b-cfa1d23036c4",
   "metadata": {},
   "outputs": [],
   "source": [
    "F = s^2 / σ^2\n",
    "n = 25\n",
    "s^2 = 0.006\n",
    "σ^2 = 0.005\n",
    "F = s^2 / σ^2 = 0.006 / 0.005 = 1.2\n",
    "from f-disturbution cv is 2.79\n",
    "conculsion:1.2<2.79,we failto reject"
   ]
  },
  {
   "cell_type": "code",
   "execution_count": null,
   "id": "e6ef2b30-2926-482f-b14d-38e74169627c",
   "metadata": {},
   "outputs": [],
   "source": [
    "Q6. Write a Python function that takes in the degrees of freedom for the numerator and denominator of an\n",
    "F-distribution and calculates the mean and variance of the distribution. The function should return the\n",
    "mean and variance as a tuple."
   ]
  },
  {
   "cell_type": "code",
   "execution_count": 1,
   "id": "18b82d4a-3963-40a1-af6a-e47c29aad72b",
   "metadata": {},
   "outputs": [],
   "source": [
    "import scipy.stats as stats\n",
    "\n",
    "def f_distribution_mean_var(dfn, dfd):\n",
    "    mean = dfd / (dfd - 2)\n",
    "    var = (2 * dfd**2 * (dfn + dfd - 2)) / (dfn * (dfd - 2)**2 * (dfd - 4))\n",
    "    return (mean, var)"
   ]
  },
  {
   "cell_type": "code",
   "execution_count": 2,
   "id": "fc23999e-073c-471a-9927-ef401dfd8ead",
   "metadata": {},
   "outputs": [
    {
     "data": {
      "text/plain": [
       "(1.25, 1.3541666666666667)"
      ]
     },
     "execution_count": 2,
     "metadata": {},
     "output_type": "execute_result"
    }
   ],
   "source": [
    "f_distribution_mean_var(5, 10)"
   ]
  },
  {
   "cell_type": "code",
   "execution_count": null,
   "id": "197c8744-110a-486d-b0f2-b040a6a930a7",
   "metadata": {},
   "outputs": [],
   "source": [
    "Q7. A random sample of 10 measurements is taken from a normal population with unknown variance. The\n",
    "sample variance is found to be 25. Another random sample of 15 measurements is taken from another\n",
    "normal population with unknown variance, and the sample variance is found to be 20. Conduct an F-test\n",
    "at the 10% significance level to determine if the variances are significantly different."
   ]
  },
  {
   "cell_type": "code",
   "execution_count": null,
   "id": "c8719a9e-427a-42c2-8ffc-76f2b4db3dff",
   "metadata": {},
   "outputs": [],
   "source": [
    "F = s1^2 / s2^2\n",
    "n1 = 10\n",
    "s1^2 = 25\n",
    "n2 = 15\n",
    "s2^2 = 20\n",
    "F = s1^2 / s2^2 = 25 / 20 = 1.25\n",
    "df1 = n1 - 1 = 9\n",
    "df2 = n2 - 1 = 14\n",
    "from f-disturbution cv is 2.47\n",
    "conculsion:1.25<2.47 we fail to reject the null hypothesis"
   ]
  },
  {
   "cell_type": "code",
   "execution_count": null,
   "id": "ded49621-a150-4df4-87cd-36c671ba85e0",
   "metadata": {},
   "outputs": [],
   "source": [
    "Q8. The following data represent the waiting times in minutes at two different restaurants on a Saturday\n",
    "night: Restaurant A: 24, 25, 28, 23, 22, 20, 27; Restaurant B: 31, 33, 35, 30, 32, 36. Conduct an F-test at the 5%\n",
    "significance level to determine if the variances are significantly different."
   ]
  },
  {
   "cell_type": "code",
   "execution_count": null,
   "id": "993e2d7e-8329-4169-a660-6847a4f98f56",
   "metadata": {},
   "outputs": [],
   "source": [
    "For Restaurant A:\n",
    "meanA = (24 + 25 + 28 + 23 + 22 + 20 + 27) / 7 = 24.14\n",
    "squared differences from the mean = (24 - 24.14)^2 + (25 - 24.14)^2 + (28 - 24.14)^2 + (23 - 24.14)^2 + \n",
    "(22 - 24.14)^2 + (20 - 24.14)^2 + (27 - 24.14)^2 = 86.86\n",
    "sample variance of A = 86.86 / 6 = 14.48\n",
    "\n",
    "For Restaurant B:\n",
    "meanB = (31 + 33 + 35 + 30 + 32 + 36) / 6 = 32.83\n",
    "squared differences from the mean = (31 - 32.83)^2 + (33 - 32.83)^2 + (35 - 32.83)^2 + (30 - 32.83)^2 + \n",
    "(32 - 32.83)^2 + (36 - 32.83)^2 = 90.5\n",
    "sample variance of B = 90.5 / 5 = 18.1\n",
    "\n",
    "F = s1^2 / s2^2 = 14.48 / 18.1 = 0.8\n",
    "df1 = n1 - 1 = 7 - 1 = 6\n",
    "df2 = n2 - 1 = 6 - 1 = 5\n",
    "from f-disturbution cv is 5.99\n",
    "conculsion:0.8<5.99,we fail to reject the null hypothesis"
   ]
  },
  {
   "cell_type": "code",
   "execution_count": null,
   "id": "94a95397-a1bf-42fa-ace5-ede6c48792e7",
   "metadata": {},
   "outputs": [],
   "source": [
    "Q9. The following data represent the test scores of two groups of students: Group A: 80, 85, 90, 92, 87, 83;\n",
    "Group B: 75, 78, 82, 79, 81, 84. Conduct an F-test at the 1% significance level to determine if the variances\n",
    "are significantly different."
   ]
  },
  {
   "cell_type": "code",
   "execution_count": null,
   "id": "0376974b-158a-4517-a871-dff0f4577cb8",
   "metadata": {},
   "outputs": [],
   "source": [
    "For Group A:\n",
    "meanA = (80 + 85 + 90 + 92 + 87 + 83) / 6 = 86.17\n",
    "squared differences from the mean = (80 - 86.17)^2 + (85 - 86.17)^2 + (90 - 86.17)^2 + (92 - 86.17)^2 + \n",
    "(87 - 86.17)^2 + (83 - 86.17)^2 = 206.33\n",
    "sample variance of A = 206.33 / 5 = 41.27\n",
    "\n",
    "For Group B:\n",
    "meanB = (75 + 78 + 82 + 79 + 81 + 84) / 6 = 80.17\n",
    "squared differences from the mean = (75 - 80.17)^2 + (78 - 80.17)^2 + (82 - 80.17)^2 + (79 - 80.17)^2 + \n",
    "(81 - 80.17)^2 + (84 - 80.17)^2 = 115.33\n",
    "sample variance of B = 115.33 / 5 = 23.07\n",
    "F = s1^2 / s2^2 = 41.27 / 23.07 = 1.79\n",
    "df1 = n1 - 1 = 6 - 1 = 5\n",
    "df2 = n2 - 1 = 6 - 1 = 5\n",
    "from f-disturbution cv is 7.99\n",
    "conculsion:since 1.79<7.99, we fail to reject the null hypothesis"
   ]
  }
 ],
 "metadata": {
  "kernelspec": {
   "display_name": "Python 3 (ipykernel)",
   "language": "python",
   "name": "python3"
  },
  "language_info": {
   "codemirror_mode": {
    "name": "ipython",
    "version": 3
   },
   "file_extension": ".py",
   "mimetype": "text/x-python",
   "name": "python",
   "nbconvert_exporter": "python",
   "pygments_lexer": "ipython3",
   "version": "3.10.8"
  }
 },
 "nbformat": 4,
 "nbformat_minor": 5
}
