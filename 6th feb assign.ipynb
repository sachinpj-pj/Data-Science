{
 "cells": [
  {
   "cell_type": "code",
   "execution_count": 17,
   "id": "3385d1b9-7538-46c0-95f9-12cfea41ba93",
   "metadata": {},
   "outputs": [],
   "source": [
    "'''Create a function which will take a list as an argument and return the product of all the numbers\n",
    "after creating a flat list.\n",
    "Use the below-given list as an argument for your function.\n",
    "list1 = [1,2,3,4, [44,55,66, True], False, (34,56,78,89,34), {1,2,3,3,2,1}, {1:34, \"key2\": [55, 67, 78, 89], 4: (45,\n",
    "22, 61, 34)}, [56, 'data science'], 'Machine Learning']'''\n",
    "\n",
    "def Func_1():\n",
    "    l=[]\n",
    "    a=1\n",
    "    list1 = [1,2,3,4, [44,55,66, True], False, (34,56,78,89,34), {1,2,3,3,2,1}, {1:34, \"key2\": [55, 67, 78, 89], 4: (45,22, 61, 34)}, [56, 'data science'], 'Machine Learning']\n",
    "    for i in list1:\n",
    "        if type == int or type == float or type == list or type == tuple:\n",
    "            l.append(i)\n",
    "        else:\n",
    "            if type == dict:\n",
    "                if type == value:\n",
    "                    if type == int or type == float or type == list or type == tuple:\n",
    "                        l.append()\n",
    "                if type == key:\n",
    "                    if type == int or type == float or type == list or type == tuple:\n",
    "                        l.append()\n",
    "        for x in l:\n",
    "            a=a*x\n",
    "            return a"
   ]
  },
  {
   "cell_type": "code",
   "execution_count": 25,
   "id": "17d5b360-348b-4c59-bf35-555ad8077de1",
   "metadata": {},
   "outputs": [],
   "source": [
    "Func_1()"
   ]
  },
  {
   "cell_type": "code",
   "execution_count": 37,
   "id": "842d2d93-464f-49b8-b760-ff92ff724ca8",
   "metadata": {},
   "outputs": [],
   "source": [
    "'''Write a python program for encrypting a message sent to you by your friend. The logic of encryption\n",
    "should be such that, for a the output should be z. For b, the output should be y. For c, the output should\n",
    "be x respectively. Also, the whitespace should be replaced with a dollar sign. Keep the punctuation\n",
    "marks unchanged.'''\n",
    "def func_2(message):\n",
    "    message1= \" \"\n",
    "    dict= {\"a\":\"z\",\"b\":\"y\",\"c\":\"x\",\" \":\"$\"}\n",
    "    for x in message:\n",
    "        if x in dict:\n",
    "            message1=dict[x]\n",
    "        else:\n",
    "            message1=x\n",
    "    \n",
    "    "
   ]
  },
  {
   "cell_type": "code",
   "execution_count": 38,
   "id": "061ccc74-7fef-4ea5-8130-e89ad401e1fe",
   "metadata": {},
   "outputs": [],
   "source": [
    "func_2(\"I want to become a Data Scientist.\")"
   ]
  },
  {
   "cell_type": "code",
   "execution_count": null,
   "id": "0a1b858f-7fb3-4e44-baa0-00b0c798aa9e",
   "metadata": {},
   "outputs": [],
   "source": []
  }
 ],
 "metadata": {
  "kernelspec": {
   "display_name": "Python 3 (ipykernel)",
   "language": "python",
   "name": "python3"
  },
  "language_info": {
   "codemirror_mode": {
    "name": "ipython",
    "version": 3
   },
   "file_extension": ".py",
   "mimetype": "text/x-python",
   "name": "python",
   "nbconvert_exporter": "python",
   "pygments_lexer": "ipython3",
   "version": "3.10.8"
  }
 },
 "nbformat": 4,
 "nbformat_minor": 5
}
