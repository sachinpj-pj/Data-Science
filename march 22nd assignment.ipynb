{
 "cells": [
  {
   "cell_type": "code",
   "execution_count": null,
   "id": "2949a12f-9ddd-4d3e-b366-ce188587d4f9",
   "metadata": {},
   "outputs": [],
   "source": [
    "Q1. Pearson correlation coefficient is a measure of the linear relationship between two variables. Suppose\n",
    "you have collected data on the amount of time students spend studying for an exam and their final exam\n",
    "scores. Calculate the Pearson correlation coefficient between these two variables and interpret the result.\n",
    "\n",
    "\n",
    "Calculate the mean (average) for each variable (time spent studying and final exam score).\n",
    "Calculate the standard deviation for each variable.\n",
    "Calculate the covariance between the two variables using the formula: \n",
    "    cov(time, score) = ∑(time - mean(time))(score - mean(score)) / (n - 1).\n",
    "pearson correlation=>P(time_spend,final_score)=cov(time_spend,final_score)/std(time_spend)*std(final_score)"
   ]
  },
  {
   "cell_type": "code",
   "execution_count": null,
   "id": "c5497cba-f8b3-4a9c-986e-725b5975a4c5",
   "metadata": {},
   "outputs": [],
   "source": [
    "Q2. Spearmans rank correlation is a measure of the monotonic relationship between two variables.\n",
    "Suppose you have collected data on the amount of sleep individuals get each night and their overall job\n",
    "satisfaction level on a scale of 1 to 10. Calculate the Spearmans rank correlation between these two\n",
    "variables and interpret the result.\n",
    "\n",
    "Rank the values of each variable separately. For example, rank the amount of sleep from 1 (lowest) to n (highest), \n",
    "where n is the number of observations. Repeat this for the job satisfaction levels.\n",
    "Calculate the difference between the ranks for each observation (i.e., the sleep rank minus the job satisfaction rank).\n",
    "claculate Spearmans correlation=>S=cov(R(sleep),R(job_satisfaction))/std(R(sleep))*std(R(job_satisfaction))"
   ]
  },
  {
   "cell_type": "code",
   "execution_count": null,
   "id": "0ea3e513-f5ee-4556-83ad-e87abd9f4f82",
   "metadata": {},
   "outputs": [],
   "source": [
    "Q3. Suppose you are conducting a study to examine the relationship between the number of hours of\n",
    "exercise per week and body mass index (BMI) in a sample of adults. You collected data on both variables\n",
    "for 50 participants. Calculate the Pearson correlation coefficient and the Spearman's rank correlation\n",
    "between these two variables and compare the results.\n",
    "Calculate the means and standard deviations\n",
    "Calculate the Pearson correlation coefficient\n",
    "Calculate the Spearmans rank correlation coefficient\n",
    "compare Pearson correlation coefficient and Spearmans rank correlation coefficient"
   ]
  },
  {
   "cell_type": "code",
   "execution_count": null,
   "id": "a3a28c52-6308-483a-acea-d01a3f20f716",
   "metadata": {},
   "outputs": [],
   "source": [
    "Q4. A researcher is interested in examining the relationship between the number of hours individuals\n",
    "spend watching television per day and their level of physical activity. The researcher collected data on\n",
    "both variables from a sample of 50 participants. Calculate the Pearson correlation coefficient between\n",
    "these two variables.\n",
    "\n",
    "\n",
    "P=covariance(TV_hours, activity_level) / (standard deviation of TV_hours * standard deviation of activity_level)"
   ]
  }
 ],
 "metadata": {
  "kernelspec": {
   "display_name": "Python 3 (ipykernel)",
   "language": "python",
   "name": "python3"
  },
  "language_info": {
   "codemirror_mode": {
    "name": "ipython",
    "version": 3
   },
   "file_extension": ".py",
   "mimetype": "text/x-python",
   "name": "python",
   "nbconvert_exporter": "python",
   "pygments_lexer": "ipython3",
   "version": "3.10.8"
  }
 },
 "nbformat": 4,
 "nbformat_minor": 5
}
