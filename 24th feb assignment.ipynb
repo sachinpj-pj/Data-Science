{
 "cells": [
  {
   "cell_type": "code",
   "execution_count": null,
   "id": "8845ab6a-dae0-416b-8b5b-42e21fa7c121",
   "metadata": {},
   "outputs": [],
   "source": [
    "List any five functions of the pandas library with execution."
   ]
  },
  {
   "cell_type": "code",
   "execution_count": null,
   "id": "41599d0a-2c5e-4327-bb3c-8760e61c3f3a",
   "metadata": {},
   "outputs": [],
   "source": [
    "read_csv,head,tail,columns and describe"
   ]
  },
  {
   "cell_type": "code",
   "execution_count": null,
   "id": "0cd53624-2284-4598-8e3b-f6e46caa3f8a",
   "metadata": {},
   "outputs": [],
   "source": [
    "Given a Pandas DataFrame df with columns 'A', 'B', and 'C', write a Python function to re-index the\n",
    "DataFrame with a new index that starts from 1 and increments by 2 for each row."
   ]
  },
  {
   "cell_type": "code",
   "execution_count": null,
   "id": "857c22c7-e48d-42da-a064-cc01a7f1abaa",
   "metadata": {},
   "outputs": [],
   "source": [
    "df['new_index'] = df['re-index'][1::2]"
   ]
  },
  {
   "cell_type": "code",
   "execution_count": 4,
   "id": "4ecd3ebd-4da7-47f6-b796-e494b5621668",
   "metadata": {},
   "outputs": [],
   "source": [
    "import pandas as pd \n",
    "values = [10, 20, 30, 40, 50]\n",
    "df = pd.DataFrame(values)"
   ]
  },
  {
   "cell_type": "code",
   "execution_count": 10,
   "id": "ec7d6b5c-9869-4e1a-9731-c3ad2d97aa9d",
   "metadata": {},
   "outputs": [
    {
     "data": {
      "text/html": [
       "<div>\n",
       "<style scoped>\n",
       "    .dataframe tbody tr th:only-of-type {\n",
       "        vertical-align: middle;\n",
       "    }\n",
       "\n",
       "    .dataframe tbody tr th {\n",
       "        vertical-align: top;\n",
       "    }\n",
       "\n",
       "    .dataframe thead th {\n",
       "        text-align: right;\n",
       "    }\n",
       "</style>\n",
       "<table border=\"1\" class=\"dataframe\">\n",
       "  <thead>\n",
       "    <tr style=\"text-align: right;\">\n",
       "      <th></th>\n",
       "      <th>0</th>\n",
       "    </tr>\n",
       "  </thead>\n",
       "  <tbody>\n",
       "    <tr>\n",
       "      <th>0</th>\n",
       "      <td>10</td>\n",
       "    </tr>\n",
       "    <tr>\n",
       "      <th>1</th>\n",
       "      <td>30</td>\n",
       "    </tr>\n",
       "    <tr>\n",
       "      <th>2</th>\n",
       "      <td>60</td>\n",
       "    </tr>\n",
       "  </tbody>\n",
       "</table>\n",
       "</div>"
      ],
      "text/plain": [
       "    0\n",
       "0  10\n",
       "1  30\n",
       "2  60"
      ]
     },
     "execution_count": 10,
     "metadata": {},
     "output_type": "execute_result"
    }
   ],
   "source": [
    "df.cumsum()[0:3]"
   ]
  },
  {
   "cell_type": "code",
   "execution_count": null,
   "id": "d485bbdd-e0b9-4985-947d-c2161c31ca1d",
   "metadata": {},
   "outputs": [],
   "source": [
    "Given a Pandas DataFrame df with a column 'Text', write a Python function to create a new column\n",
    "'Word_Count' that contains the number of words in each row of the 'Text' column."
   ]
  },
  {
   "cell_type": "code",
   "execution_count": null,
   "id": "d17201e4-0631-4a96-acbd-e6d61787201c",
   "metadata": {},
   "outputs": [],
   "source": [
    "df['Word_Count'] = df['text'].apply(lambda(x: len(x.spilt())))"
   ]
  },
  {
   "cell_type": "code",
   "execution_count": null,
   "id": "221a0503-a1d7-4231-896f-dc12a4e42800",
   "metadata": {},
   "outputs": [],
   "source": [
    "How are DataFrame.size() and DataFrame.shape() different?\n",
    "dataframe.shape returns no of rows and column whereas\n",
    "dataframe.size returnstotal no of elements"
   ]
  },
  {
   "cell_type": "code",
   "execution_count": null,
   "id": "ed2def28-9c65-4a8a-870c-f28bec3607bc",
   "metadata": {},
   "outputs": [],
   "source": [
    "Which function of pandas do we use to read an excel file?\n",
    "df.read_excel(\"Link for the excel\")"
   ]
  },
  {
   "cell_type": "code",
   "execution_count": null,
   "id": "7a1e1fd9-c242-416f-9455-963111a379fc",
   "metadata": {},
   "outputs": [],
   "source": [
    "Q7. You have a Pandas DataFrame df that contains a column named 'Email' that contains email\n",
    "addresses in the format 'username@domain.com'. Write a Python function that creates a new column\n",
    "'Username' in df that contains only the username part of each email address."
   ]
  },
  {
   "cell_type": "code",
   "execution_count": null,
   "id": "c208c79d-32cc-40f0-9c42-f515d5810629",
   "metadata": {},
   "outputs": [],
   "source": [
    "df['username'] = df['Email'].apply(lambda x : x.split('@')[0])"
   ]
  },
  {
   "cell_type": "code",
   "execution_count": null,
   "id": "ddf13364-92af-4524-a527-82fadcd947c0",
   "metadata": {},
   "outputs": [],
   "source": [
    "You have a Pandas DataFrame df with columns 'A', 'B', and 'C'. Write a Python function that selects\n",
    "all rows where the value in column 'A' is greater than 5 and the value in column 'B' is less than 10. The\n",
    "function should return a new DataFrame that contains only the selected rows."
   ]
  },
  {
   "cell_type": "code",
   "execution_count": 1,
   "id": "4f13e6d9-96e8-4604-aafa-bd63cd713f52",
   "metadata": {},
   "outputs": [],
   "source": [
    "import pandas as pd\n",
    "data = { 'A' : [3,8,6,2,9],\n",
    "         'B' : [5,2,9,3,1],\n",
    "         'C' : [1,7,4,5,2]\n",
    "       }\n",
    "df = pd.DataFrame(data)"
   ]
  },
  {
   "cell_type": "code",
   "execution_count": 2,
   "id": "38eda74f-1753-40b1-bfb8-2ebde33d7cf9",
   "metadata": {},
   "outputs": [
    {
     "data": {
      "text/html": [
       "<div>\n",
       "<style scoped>\n",
       "    .dataframe tbody tr th:only-of-type {\n",
       "        vertical-align: middle;\n",
       "    }\n",
       "\n",
       "    .dataframe tbody tr th {\n",
       "        vertical-align: top;\n",
       "    }\n",
       "\n",
       "    .dataframe thead th {\n",
       "        text-align: right;\n",
       "    }\n",
       "</style>\n",
       "<table border=\"1\" class=\"dataframe\">\n",
       "  <thead>\n",
       "    <tr style=\"text-align: right;\">\n",
       "      <th></th>\n",
       "      <th>A</th>\n",
       "      <th>B</th>\n",
       "      <th>C</th>\n",
       "    </tr>\n",
       "  </thead>\n",
       "  <tbody>\n",
       "    <tr>\n",
       "      <th>1</th>\n",
       "      <td>8</td>\n",
       "      <td>2</td>\n",
       "      <td>7</td>\n",
       "    </tr>\n",
       "    <tr>\n",
       "      <th>2</th>\n",
       "      <td>6</td>\n",
       "      <td>9</td>\n",
       "      <td>4</td>\n",
       "    </tr>\n",
       "    <tr>\n",
       "      <th>4</th>\n",
       "      <td>9</td>\n",
       "      <td>1</td>\n",
       "      <td>2</td>\n",
       "    </tr>\n",
       "  </tbody>\n",
       "</table>\n",
       "</div>"
      ],
      "text/plain": [
       "   A  B  C\n",
       "1  8  2  7\n",
       "2  6  9  4\n",
       "4  9  1  2"
      ]
     },
     "execution_count": 2,
     "metadata": {},
     "output_type": "execute_result"
    }
   ],
   "source": [
    "df[(df['A']>5) & (df['B']<10 )]"
   ]
  },
  {
   "cell_type": "code",
   "execution_count": null,
   "id": "6c117cc3-87b4-4652-8daf-41c4f9475ba3",
   "metadata": {},
   "outputs": [],
   "source": [
    "Given a Pandas DataFrame df with a column 'Values', write a Python function to calculate the mean,\n",
    "median, and standard deviation of the values in the 'Values' column."
   ]
  },
  {
   "cell_type": "code",
   "execution_count": 11,
   "id": "8df1ef23-3738-40c8-9f32-1c10002d1864",
   "metadata": {},
   "outputs": [],
   "source": [
    "import pandas as pd \n",
    "values = [10, 20, 30, 40, 50]\n",
    "df = pd.DataFrame(values)"
   ]
  },
  {
   "cell_type": "code",
   "execution_count": 12,
   "id": "16420b9f-e5a8-4c01-b372-e50ef9f72eb7",
   "metadata": {},
   "outputs": [
    {
     "data": {
      "text/plain": [
       "0    30.0\n",
       "dtype: float64"
      ]
     },
     "execution_count": 12,
     "metadata": {},
     "output_type": "execute_result"
    }
   ],
   "source": [
    "df[].mean()"
   ]
  },
  {
   "cell_type": "code",
   "execution_count": 13,
   "id": "17512b82-27bd-4b34-ab43-52734ddb5178",
   "metadata": {},
   "outputs": [
    {
     "data": {
      "text/plain": [
       "0    15.811388\n",
       "dtype: float64"
      ]
     },
     "execution_count": 13,
     "metadata": {},
     "output_type": "execute_result"
    }
   ],
   "source": [
    "df.std()"
   ]
  },
  {
   "cell_type": "code",
   "execution_count": 14,
   "id": "18410c16-1baa-4a14-8fa6-257fa5cdb1a4",
   "metadata": {},
   "outputs": [
    {
     "data": {
      "text/plain": [
       "0    30.0\n",
       "dtype: float64"
      ]
     },
     "execution_count": 14,
     "metadata": {},
     "output_type": "execute_result"
    }
   ],
   "source": [
    "df.median()"
   ]
  },
  {
   "cell_type": "code",
   "execution_count": null,
   "id": "5c5d0bd9-5389-4710-aac4-b19e3e753cd2",
   "metadata": {},
   "outputs": [],
   "source": [
    "Given a Pandas DataFrame df with a column 'Sales' and a column 'Date', write a Python function to\n",
    "create a new column 'MovingAverage' that contains the moving average of the sales for the past 7 days\n",
    "for each row in the DataFrame. The moving average should be calculated using a window of size 7 and\n",
    "should include the current day."
   ]
  },
  {
   "cell_type": "code",
   "execution_count": null,
   "id": "192180ed-4d42-4c65-834e-651fe2f71884",
   "metadata": {},
   "outputs": [],
   "source": [
    "df['MovingAverage'] = df['sale'].rolling(window=7).mean()"
   ]
  },
  {
   "cell_type": "code",
   "execution_count": null,
   "id": "487f0e63-27be-4869-b4f2-f51d89482490",
   "metadata": {},
   "outputs": [],
   "source": [
    "You have a Pandas DataFrame df with a column 'Date'. Write a Python function that creates a new\n",
    "column 'Weekday' in the DataFrame. The 'Weekday' column should contain the weekday name (e.g.\n",
    "Monday, Tuesday) corresponding to each date in the 'Date' column."
   ]
  },
  {
   "cell_type": "code",
   "execution_count": null,
   "id": "f457e84b-5df1-457c-87db-e44a54c72881",
   "metadata": {},
   "outputs": [],
   "source": [
    "df['Date'] = df['Weekday'].dt.weekday()"
   ]
  },
  {
   "cell_type": "code",
   "execution_count": null,
   "id": "3f319579-0808-45cd-b71c-3f87ed9df469",
   "metadata": {},
   "outputs": [],
   "source": [
    "Given a Pandas DataFrame df with a column 'Date' that contains timestamps, write a Python\n",
    "function to select all rows where the date is between '2023-01-01' and '2023-01-31'."
   ]
  },
  {
   "cell_type": "code",
   "execution_count": 15,
   "id": "baf1bdf8-a74a-4943-92a7-d5ea8db17005",
   "metadata": {},
   "outputs": [],
   "source": [
    "data = pd.date_range(start='2023-01-01',end='2023-01-31')"
   ]
  },
  {
   "cell_type": "code",
   "execution_count": 16,
   "id": "e6a60fb9-c3a8-4e84-aabd-157d925d72d0",
   "metadata": {},
   "outputs": [
    {
     "data": {
      "text/plain": [
       "DatetimeIndex(['2023-01-01', '2023-01-02', '2023-01-03', '2023-01-04',\n",
       "               '2023-01-05', '2023-01-06', '2023-01-07', '2023-01-08',\n",
       "               '2023-01-09', '2023-01-10', '2023-01-11', '2023-01-12',\n",
       "               '2023-01-13', '2023-01-14', '2023-01-15', '2023-01-16',\n",
       "               '2023-01-17', '2023-01-18', '2023-01-19', '2023-01-20',\n",
       "               '2023-01-21', '2023-01-22', '2023-01-23', '2023-01-24',\n",
       "               '2023-01-25', '2023-01-26', '2023-01-27', '2023-01-28',\n",
       "               '2023-01-29', '2023-01-30', '2023-01-31'],\n",
       "              dtype='datetime64[ns]', freq='D')"
      ]
     },
     "execution_count": 16,
     "metadata": {},
     "output_type": "execute_result"
    }
   ],
   "source": [
    "data"
   ]
  },
  {
   "cell_type": "code",
   "execution_count": null,
   "id": "2c771d0d-b53c-4b83-a5e2-5aed9760088f",
   "metadata": {},
   "outputs": [],
   "source": [
    "To use the basic functions of pandas, what is the first and foremost necessary library that needs to\n",
    "be imported?"
   ]
  },
  {
   "cell_type": "code",
   "execution_count": null,
   "id": "7387595f-69a6-4df9-a72a-93d1bdee53a8",
   "metadata": {},
   "outputs": [],
   "source": [
    "import pandas as pd"
   ]
  }
 ],
 "metadata": {
  "kernelspec": {
   "display_name": "Python 3 (ipykernel)",
   "language": "python",
   "name": "python3"
  },
  "language_info": {
   "codemirror_mode": {
    "name": "ipython",
    "version": 3
   },
   "file_extension": ".py",
   "mimetype": "text/x-python",
   "name": "python",
   "nbconvert_exporter": "python",
   "pygments_lexer": "ipython3",
   "version": "3.10.8"
  }
 },
 "nbformat": 4,
 "nbformat_minor": 5
}
