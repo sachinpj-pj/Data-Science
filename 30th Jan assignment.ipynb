{
 "cells": [
  {
   "cell_type": "code",
   "execution_count": null,
   "id": "9cd3d885-16be-41c7-8bf6-1238f4f53f8e",
   "metadata": {},
   "outputs": [
    {
     "name": "stdin",
     "output_type": "stream",
     "text": [
      "enter the percentage 85\n"
     ]
    },
    {
     "name": "stdout",
     "output_type": "stream",
     "text": [
      "B\n"
     ]
    }
   ],
   "source": [
    "\n",
    "##percentage problem\n",
    "perc=int(input(\"enter the percentage\"))\n",
    "if perc>90 and perc<=100:\n",
    "    print(\"A\")\n",
    "elif perc>=80 and perc<=90:\n",
    "    print(\"B\")\n",
    "elif perc>=60 and perc<=80:\n",
    "    print(\"C\")\n",
    "elif perc<60:\n",
    "    print(\"D\")\n",
    "else:\n",
    "    print(\"enter the vaild percentage\")"
   ]
  },
  {
   "cell_type": "code",
   "execution_count": 11,
   "id": "e928d52a-d2be-4d8f-8eca-fc5353455554",
   "metadata": {},
   "outputs": [
    {
     "name": "stdin",
     "output_type": "stream",
     "text": [
      "enter the price of the bike 150000\n"
     ]
    },
    {
     "name": "stdout",
     "output_type": "stream",
     "text": [
      "the road tax for this bike is 22500.0\n"
     ]
    }
   ],
   "source": [
    "## Road Tax problem\n",
    "price=int(input(\"enter the price of the bike\"))\n",
    "if price>100000:\n",
    "          print(\"the road tax for this bike is {}\".format(price*0.15))\n",
    "elif price>=50000 and price<=100000:\n",
    "    print(\"the road tax for this bike is {}\".format(price*0.10))\n",
    "elif price<50000:\n",
    "    print(\"the road tax for this bike is {}\".format(price*0.5))\n",
    "else:\n",
    "    print(\"please enter the valid price\")"
   ]
  },
  {
   "cell_type": "code",
   "execution_count": 21,
   "id": "41097cb1-ea6e-4163-9844-2c51715ecab7",
   "metadata": {},
   "outputs": [
    {
     "name": "stdin",
     "output_type": "stream",
     "text": [
      "enter the city  Agra\n"
     ]
    },
    {
     "name": "stdout",
     "output_type": "stream",
     "text": [
      "the monument of this city is Taj Mahal\n"
     ]
    }
   ],
   "source": [
    "##City and monument\n",
    "\n",
    "city=input(\"enter the city \")\n",
    "if city==\"Delhi\":\n",
    "    print(\"the monument of this city is {}\".format(\"Red Fort\"))\n",
    "elif city==\"Agra\":\n",
    "    print(\"the monument of this city is {}\".format(\"Taj Mahal\"))\n",
    "elif city==\"Jaipur\":\n",
    "    print(\"the monument of this city is {}\".format(\"Jai Mahal\"))\n",
    "else:\n",
    "    print(\"please enter a vaild city\")"
   ]
  },
  {
   "cell_type": "code",
   "execution_count": 31,
   "id": "41453b60-939b-45a6-8a33-71ed2d82fdac",
   "metadata": {},
   "outputs": [
    {
     "name": "stdout",
     "output_type": "stream",
     "text": [
      "3\n"
     ]
    }
   ],
   "source": [
    "##how many times a given number can be divided by 3 before it is less than or equal to 10\n",
    "count=0\n",
    "for i in range(1,10):\n",
    "    if i%3==0:\n",
    "        count=count+1\n",
    "print(count)\n",
    "\n",
    "    "
   ]
  },
  {
   "cell_type": "code",
   "execution_count": 39,
   "id": "adf0a899-4a7f-4afe-b7d9-dcf70cf2d4a6",
   "metadata": {},
   "outputs": [
    {
     "name": "stdin",
     "output_type": "stream",
     "text": [
      "enter the number 10\n"
     ]
    },
    {
     "name": "stdout",
     "output_type": "stream",
     "text": [
      "1\n",
      "2\n",
      "3\n",
      "4\n",
      "5\n",
      "6\n",
      "7\n",
      "8\n",
      "9\n",
      "10\n"
     ]
    }
   ],
   "source": [
    "## why and when to use while loop \n",
    "## with while loop we can execute a set of statement as long as a condtion is true \n",
    "## while loop is used to run a block code  until a certain condition is meet\n",
    "##Example\n",
    "n=int(input(\"enter the number\"))\n",
    "i=1\n",
    "while i<=n:\n",
    "    print(i)\n",
    "    i=i+1"
   ]
  },
  {
   "cell_type": "code",
   "execution_count": 43,
   "id": "876f1034-4709-4bc3-97f3-65239a7ff921",
   "metadata": {},
   "outputs": [
    {
     "name": "stdin",
     "output_type": "stream",
     "text": [
      "enter the number 10\n"
     ]
    },
    {
     "name": "stdout",
     "output_type": "stream",
     "text": [
      "*  \n",
      "* *  \n",
      "* * *  \n",
      "* * * *  \n",
      "* * * * *  \n",
      "* * * * * *  \n",
      "* * * * * * *  \n",
      "* * * * * * * *  \n",
      "* * * * * * * * *  \n",
      "* * * * * * * * * *  \n"
     ]
    }
   ],
   "source": [
    "## use nested while loop to print 3 different pattern\n",
    "n=int(input(\"enter the number\"))\n",
    "i=1\n",
    "while i<=n:\n",
    "      j=1\n",
    "      while j<=i:\n",
    "        print(\"*\",end=\" \")\n",
    "        j=j+1\n",
    "      print(\" \")\n",
    "      i=i+1"
   ]
  },
  {
   "cell_type": "code",
   "execution_count": 1,
   "id": "7737cd33-8e16-41ab-9728-b75152451e53",
   "metadata": {},
   "outputs": [
    {
     "name": "stdout",
     "output_type": "stream",
     "text": [
      "10\n",
      "9\n",
      "8\n",
      "7\n",
      "6\n",
      "5\n",
      "4\n",
      "3\n",
      "2\n",
      "1\n"
     ]
    }
   ],
   "source": [
    "## Reverse a number from 1 to 10\n",
    "i=10\n",
    "while i>0:\n",
    "    print(i)\n",
    "    i=i-1\n",
    "      "
   ]
  },
  {
   "cell_type": "code",
   "execution_count": null,
   "id": "df015c3d-4a19-48b1-a09e-d88110a5c533",
   "metadata": {},
   "outputs": [],
   "source": []
  },
  {
   "cell_type": "code",
   "execution_count": null,
   "id": "bcebfe5b-6171-4f2c-9069-d58034504adc",
   "metadata": {},
   "outputs": [],
   "source": []
  },
  {
   "cell_type": "code",
   "execution_count": null,
   "id": "dfb5b083-50b3-4e08-8005-d2e524a6fc16",
   "metadata": {},
   "outputs": [],
   "source": []
  },
  {
   "cell_type": "code",
   "execution_count": null,
   "id": "06dd68ec-a849-4e0a-9944-1ed5ac21d652",
   "metadata": {},
   "outputs": [],
   "source": []
  },
  {
   "cell_type": "code",
   "execution_count": null,
   "id": "588621e3-c65f-49d6-8241-e28acd5a9de7",
   "metadata": {},
   "outputs": [],
   "source": []
  }
 ],
 "metadata": {
  "kernelspec": {
   "display_name": "Python 3 (ipykernel)",
   "language": "python",
   "name": "python3"
  },
  "language_info": {
   "codemirror_mode": {
    "name": "ipython",
    "version": 3
   },
   "file_extension": ".py",
   "mimetype": "text/x-python",
   "name": "python",
   "nbconvert_exporter": "python",
   "pygments_lexer": "ipython3",
   "version": "3.10.8"
  }
 },
 "nbformat": 4,
 "nbformat_minor": 5
}
