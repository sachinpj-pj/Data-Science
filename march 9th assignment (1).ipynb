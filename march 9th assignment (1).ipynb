{
 "cells": [
  {
   "cell_type": "code",
   "execution_count": null,
   "id": "edecb7ec-d11c-4dde-aa79-0b01db07ad99",
   "metadata": {},
   "outputs": [],
   "source": [
    "What are the Probability Mass Function (PMF) and Probability Density Function (PDF)? Explain with\n",
    "an example.\n",
    "pmf-it is a discrete random varible\n",
    "pdf-it is a continous random varible\n"
   ]
  },
  {
   "cell_type": "code",
   "execution_count": null,
   "id": "1c116a1a-304e-4b76-b9e8-2018f8b69d9a",
   "metadata": {},
   "outputs": [],
   "source": [
    "What is Cumulative Density Function (CDF)? Explain with an example. Why CDF is used?\n",
    "cumulative density function is the summation of values Probability Mass Function (PMF) or Probability Density Function (PDF)\n",
    "represented in a grapical manner.\n",
    "CDF is used to describe the probability distribution of random variables"
   ]
  },
  {
   "cell_type": "code",
   "execution_count": null,
   "id": "0a913a6c-b13a-4c57-b33c-15fcd6b5e7ba",
   "metadata": {},
   "outputs": [],
   "source": [
    "What are some examples of situations where the normal distribution might be used as a model?\n",
    "height of students in class\n",
    "rolling a dice\n",
    "tossing a coin for 10 times "
   ]
  },
  {
   "cell_type": "code",
   "execution_count": null,
   "id": "a7d4d4a2-bee1-4676-8132-95526a06766c",
   "metadata": {},
   "outputs": [],
   "source": [
    "Explain how the parameters of the normal distribution relate to the shape of the distribution.\n",
    "the two parameters of norma disturbution are mean and standard deviation.\n",
    "as the mean and standard deviation value increase or decrease the disturbution changes "
   ]
  },
  {
   "cell_type": "code",
   "execution_count": null,
   "id": "d9debc82-cc9c-46ae-8046-d828d7f7a212",
   "metadata": {},
   "outputs": [],
   "source": [
    "Explain the importance of Normal Distribution. Give a few real-life examples of Normal\n",
    "Distribution.\n",
    "is an important probability distribution in statistics and data science. \n",
    "It is a continuous probability distribution that is symmetric, bell-shaped, \n",
    "and described by two parameters: the mean and the standard deviation\n",
    "example:\n",
    "    height and weight of the people,IQ scores "
   ]
  },
  {
   "cell_type": "code",
   "execution_count": null,
   "id": "37f3369b-6312-4b1b-9900-8ce3277be3f0",
   "metadata": {},
   "outputs": [],
   "source": [
    "What is Bernaulli Distribution? Give an Example. What is the difference between Bernoulli\n",
    "Distribution and Binomial Distribution?\n",
    "it is disturbution where it gives binary outcomes such as 0 and 1 \n",
    "example is tossing a coin h=1 or 0 and t=0 or 1\n",
    "The Bernoulli distribution represents the success or failure of a single Bernoulli trial. \n",
    "The Binomial Distribution represents the number of successes and failures in n independent Bernoulli \n",
    "trials for some given value of n."
   ]
  },
  {
   "cell_type": "code",
   "execution_count": null,
   "id": "628b9b09-fb83-447c-886c-04b3386a55f6",
   "metadata": {},
   "outputs": [],
   "source": [
    " Consider a dataset with a mean of 50 and a standard deviation of 10. If we assume that the dataset\n",
    "is normally distributed, what is the probability that a randomly selected observation will be greater\n",
    "than 60? Use the appropriate formula and show your calculations.\n",
    "Mean (μ) = 50\n",
    "Standard deviation (σ) = 10\n",
    "Value of interest (x) = 60\n",
    "z = (x - μ) / σ\n",
    "z = (60 - 50) / 10\n",
    "z = 1\n",
    "1 - 0.8413 = 0.1587"
   ]
  },
  {
   "cell_type": "code",
   "execution_count": null,
   "id": "ff47f85b-aac0-4ab8-95f2-f49abcfc92ae",
   "metadata": {},
   "outputs": [],
   "source": [
    "Explain uniform Distribution with an example.\n",
    "uniform distribution refers to a type of probability distribution in which all outcomes are equally likely.\n"
   ]
  },
  {
   "cell_type": "code",
   "execution_count": null,
   "id": "3e5fa698-5d58-4047-b555-7449f515526b",
   "metadata": {},
   "outputs": [],
   "source": [
    "What is the z score? State the importance of the z score.\n",
    "it is process of converting the standard normal disturbution to mean=0 and standard deviation =1\n",
    "the importance of z-score is \n",
    "it tells you not only something about the value itself, but also where the value lies in the distribution."
   ]
  },
  {
   "cell_type": "code",
   "execution_count": null,
   "id": "2944c8b3-2855-4477-94df-f39d562122f2",
   "metadata": {},
   "outputs": [],
   "source": [
    "What is Central Limit Theorem? State the significance of the Central Limit Theorem.\n",
    "State the assumptions of the Central Limit Theorem.\n",
    "the mean of all samples from that population will be roughly equal to the population mean\n",
    "significance:\n",
    "the sampling distribution of the mean will always be normally distributed, as long as the sample size is large enough.\n",
    "assumptions:\n",
    "The data must adhere to the randomization rule."
   ]
  },
  {
   "cell_type": "code",
   "execution_count": null,
   "id": "340cd9c3-a7fb-4aa8-9225-20b3200925bf",
   "metadata": {},
   "outputs": [],
   "source": []
  },
  {
   "cell_type": "code",
   "execution_count": null,
   "id": "42ca0ecb-35b9-406b-a112-441af293abc3",
   "metadata": {},
   "outputs": [],
   "source": []
  },
  {
   "cell_type": "code",
   "execution_count": null,
   "id": "3fdf812b-abd1-4744-ab67-629546c15967",
   "metadata": {},
   "outputs": [],
   "source": []
  }
 ],
 "metadata": {
  "kernelspec": {
   "display_name": "Python 3 (ipykernel)",
   "language": "python",
   "name": "python3"
  },
  "language_info": {
   "codemirror_mode": {
    "name": "ipython",
    "version": 3
   },
   "file_extension": ".py",
   "mimetype": "text/x-python",
   "name": "python",
   "nbconvert_exporter": "python",
   "pygments_lexer": "ipython3",
   "version": "3.10.8"
  }
 },
 "nbformat": 4,
 "nbformat_minor": 5
}
