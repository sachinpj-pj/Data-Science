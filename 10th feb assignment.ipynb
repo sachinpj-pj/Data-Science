{
 "cells": [
  {
   "cell_type": "code",
   "execution_count": null,
   "id": "5a8eb04f-5681-4293-9295-8388b10dbb85",
   "metadata": {},
   "outputs": [],
   "source": [
    "Which function is used to open a file? What are the different modes of opening a file? Explain each mode\n",
    "of file opening.\n",
    "to open a file open() function is used.\n",
    "##example\n",
    "f = open(\"filename.filetype\",\"mode\")\n",
    "'r'       open for reading (default)\n",
    "'w'       open for writing, truncating the file first\n",
    "'x'       create a new file and open it for writing\n",
    "'a'       open for writing, appending to the end of the file if it exists\n",
    "'b'       binary mode\n",
    "'t'       text mode (default)\n",
    "'+'       open a disk file for updating (reading and writing)\n",
    "'U'       universal newline mode (deprecated)"
   ]
  },
  {
   "cell_type": "code",
   "execution_count": null,
   "id": "3029538e-5e34-4c21-bf0b-e26d2da5bdcb",
   "metadata": {},
   "outputs": [],
   "source": [
    "'''Why close() function is used? Why is it important to close a file?'''\n",
    "close() function is used to close a file \n",
    "it is important because without closing the file the statements does not save in the text file"
   ]
  },
  {
   "cell_type": "code",
   "execution_count": 2,
   "id": "6bcef2dd-e9e1-4253-b978-3c13a07917dc",
   "metadata": {},
   "outputs": [],
   "source": [
    "'''Write a python program to create a text file. Write ‘I want to become a Data Scientist’ in that file. Then\n",
    "close the file. Open this file and read the content of the file.'''\n",
    "f = open(\"text.txt\",\"a\")"
   ]
  },
  {
   "cell_type": "code",
   "execution_count": 3,
   "id": "dbb5278a-7170-451d-be03-9a4698a33d51",
   "metadata": {},
   "outputs": [
    {
     "data": {
      "text/plain": [
       "32"
      ]
     },
     "execution_count": 3,
     "metadata": {},
     "output_type": "execute_result"
    }
   ],
   "source": [
    "f.write(\"i want to become a data scintist\")"
   ]
  },
  {
   "cell_type": "code",
   "execution_count": 4,
   "id": "a774ceda-9929-4fb6-bd6f-408eeea19e94",
   "metadata": {},
   "outputs": [],
   "source": [
    "f.close()"
   ]
  },
  {
   "cell_type": "code",
   "execution_count": null,
   "id": "45adb9c3-b436-4485-9ec9-689fe02201ae",
   "metadata": {},
   "outputs": [],
   "source": [
    "Explain the following with python code: read(), readline() and readlines().\n",
    "read(): read() funtion is used to return text which is written in text file.\n",
    "readline():readline() will return a line from the file when called. \n",
    "readlines() method will return all the lines in a file in the format of a list \n",
    "where each element is a line in the file."
   ]
  },
  {
   "cell_type": "code",
   "execution_count": null,
   "id": "46e07b57-782b-4fc5-b9a4-74427ce1cc20",
   "metadata": {},
   "outputs": [],
   "source": [
    "Explain why with statement is used with open(). What is the advantage of using with statement and\n",
    "open() together?\n",
    "the with statement closes the file for you without you telling it to\n",
    "the file will be closed as soon as you leave the block"
   ]
  },
  {
   "cell_type": "code",
   "execution_count": null,
   "id": "c3eab7e2-e388-45b0-9a8c-67fe20918514",
   "metadata": {},
   "outputs": [],
   "source": [
    "Explain the write() and writelines() functions. Give a suitable example.\n",
    "write() is used to display output\n",
    "writeline() is used to display outut and provide a new line character"
   ]
  },
  {
   "cell_type": "code",
   "execution_count": 5,
   "id": "8f962b99-7358-4903-9731-64449777cd03",
   "metadata": {},
   "outputs": [],
   "source": [
    "f = open(\"text.txt\",\"a\")"
   ]
  },
  {
   "cell_type": "code",
   "execution_count": 8,
   "id": "f02d0407-480b-4c58-a251-941fff2d1aa6",
   "metadata": {},
   "outputs": [
    {
     "data": {
      "text/plain": [
       "33"
      ]
     },
     "execution_count": 8,
     "metadata": {},
     "output_type": "execute_result"
    }
   ],
   "source": [
    "f.write(\"i want to become a data scientist\")"
   ]
  },
  {
   "cell_type": "code",
   "execution_count": 13,
   "id": "94f800b5-6083-4966-a24e-a8d05302a87c",
   "metadata": {},
   "outputs": [],
   "source": [
    "f.close()"
   ]
  },
  {
   "cell_type": "code",
   "execution_count": 10,
   "id": "00d315b6-131d-494a-b127-3288b6ba08ef",
   "metadata": {},
   "outputs": [],
   "source": [
    "f = open(\"text1.txt\",\"a\")"
   ]
  },
  {
   "cell_type": "code",
   "execution_count": 11,
   "id": "9bdbc15e-8bb4-419d-95d7-643069470d20",
   "metadata": {},
   "outputs": [],
   "source": [
    "f.writelines(\"i want to become a data scientist\")"
   ]
  },
  {
   "cell_type": "code",
   "execution_count": 12,
   "id": "4e79b7dc-4f75-4b09-a3f8-eb042527d0af",
   "metadata": {},
   "outputs": [],
   "source": [
    "f.close()"
   ]
  },
  {
   "cell_type": "code",
   "execution_count": null,
   "id": "56ea909c-2cfc-4aad-85b7-910eae9de978",
   "metadata": {},
   "outputs": [],
   "source": []
  }
 ],
 "metadata": {
  "kernelspec": {
   "display_name": "Python 3 (ipykernel)",
   "language": "python",
   "name": "python3"
  },
  "language_info": {
   "codemirror_mode": {
    "name": "ipython",
    "version": 3
   },
   "file_extension": ".py",
   "mimetype": "text/x-python",
   "name": "python",
   "nbconvert_exporter": "python",
   "pygments_lexer": "ipython3",
   "version": "3.10.8"
  }
 },
 "nbformat": 4,
 "nbformat_minor": 5
}
