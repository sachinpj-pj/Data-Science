{
 "cells": [
  {
   "cell_type": "code",
   "execution_count": null,
   "id": "3e89b68d-b029-4398-986d-ac8d95449a70",
   "metadata": {},
   "outputs": [],
   "source": [
    "Q1. Explain the assumptions required to use ANOVA and provide examples of violations that could impact\n",
    "the validity of the results.\n",
    "1-Normality of sampling disturbutionof mean:the disturbution of the sample mean is normally disturbuted\n",
    "2-absence of outliers:outlying score need to be removed from dataset\n",
    "3-homogenity of varience:population varience in different levels of each independent varibles are equal\n",
    "4-samples are random and independent"
   ]
  },
  {
   "cell_type": "code",
   "execution_count": null,
   "id": "0fe57e5b-d960-4302-bd10-eff2a7d27e52",
   "metadata": {},
   "outputs": [],
   "source": [
    "Q2. What are the three types of ANOVA, and in what situations would each be used?\n",
    "1-one way anova:one factor with atleast 2 levels, these levels are independent\n",
    "2-repeated measure anova:one factor with atleast 2 levels, levels are dependdent\n",
    "3-Factorial anova:two or more factors with atleast 2 levels, these can be independent and dependent"
   ]
  },
  {
   "cell_type": "code",
   "execution_count": null,
   "id": "483b2d0e-449a-416e-9f70-989ed8009dc6",
   "metadata": {},
   "outputs": [],
   "source": [
    "Q3. What is the partitioning of variance in ANOVA, and why is it important to understand this concept?\n",
    "ANOVA:breaking down the total variation observed in the data into different sources of variation. \n",
    "its important because breaking down the total variation observed in the data into different sources of variation. "
   ]
  },
  {
   "cell_type": "code",
   "execution_count": null,
   "id": "7facad66-7c62-4cd5-8959-9878615aef34",
   "metadata": {},
   "outputs": [],
   "source": [
    "Q4. How would you calculate the total sum of squares (SST), explained sum of squares (SSE), and residual\n",
    "sum of squares (SSR) in a one-way ANOVA using Python?"
   ]
  },
  {
   "cell_type": "code",
   "execution_count": null,
   "id": "eeadbeb6-5fb4-4fb1-a06c-d72b9b112472",
   "metadata": {},
   "outputs": [],
   "source": [
    "import pandas as pd\n",
    "import statsmodels.api as sm\n",
    "from statsmodels.formula.api import ols\n",
    "df = pd.DataFrame({'group': ['A', 'A', 'B', 'B', 'C', 'C', 'D', 'D'], 'score': [70, 75, 80, 85, 90, 95, 100, 105]})\n",
    "model = ols('score ~ group', data=df).fit()\n",
    "# Calculate SST (total sum of squares)\n",
    "sst = sm.stats.anova_lm(model, typ=1)['sum_sq'][0]\n",
    "# Calculate SSE (explained sum of squares)\n",
    "sse = sm.stats.anova_lm(model, typ=1)['sum_sq'][1]\n",
    "# Calculate SSR (residual sum of squares)\n",
    "ssr = sst - sse"
   ]
  },
  {
   "cell_type": "code",
   "execution_count": null,
   "id": "1ac2dc87-c21f-438b-90c1-211e3201beb7",
   "metadata": {},
   "outputs": [],
   "source": [
    "Q6. Suppose you conducted a one-way ANOVA and obtained an F-statistic of 5.23 and a p-value of 0.02.\n",
    "What can you conclude about the differences between the groups, and how would you interpret these\n",
    "results?\n",
    "the F-statistic that is  varience of difference of the group is 5.23 and p-value is 0.02,\n",
    "since there is a big difference between two group therefore we reject the null hypothesis"
   ]
  },
  {
   "cell_type": "code",
   "execution_count": null,
   "id": "4e7deddd-91a6-4a28-aeb7-4e7b98c78fa4",
   "metadata": {},
   "outputs": [],
   "source": [
    "Q7. In a repeated measures ANOVA, how would you handle missing data, and what are the potential\n",
    "consequences of using different methods to handle missing data?\n",
    "we can handle missing data by replacing the missing values with the estimated values."
   ]
  },
  {
   "cell_type": "code",
   "execution_count": null,
   "id": "a181aeec-e550-4c38-9a92-fbb62c6e760f",
   "metadata": {},
   "outputs": [],
   "source": [
    "Q8. What are some common post-hoc tests used after ANOVA, and when would you use each one? Provide\n",
    "an example of a situation where a post-hoc test might be necessary.\n",
    "Tukeys Honestly Significant Difference (HSD): This test is used to compare all possible pairs of group means \n",
    "and control the overall Type I error rate. The test is appropriate when the number of groups is equal, and the \n",
    "variances of the groups are equal.\n",
    "Bonferroni correction: This test adjusts the significance level of each individual comparison to control the \n",
    "overall Type I error rate. The test is appropriate when the number of comparisons is small.\n",
    "Scheffes method: This test provides a more conservative approach to comparing group means by using a larger critical value.\n",
    "The test is appropriate when the number of groups is large or when the variances of the groups are not equal."
   ]
  },
  {
   "cell_type": "code",
   "execution_count": null,
   "id": "189ccaae-5788-4b93-aa31-8abd212edccd",
   "metadata": {},
   "outputs": [],
   "source": [
    "Q9. A researcher wants to compare the mean weight loss of three diets: A, B, and C. They collect data from\n",
    "50 participants who were randomly assigned to one of the diets. Conduct a one-way ANOVA using Python\n",
    "to determine if there are any significant differences between the mean weight loss of the three diets.\n",
    "Report the F-statistic and p-value, and interpret the results."
   ]
  },
  {
   "cell_type": "code",
   "execution_count": null,
   "id": "9ad597f7-5457-43bf-a2f0-26a948e9bb1a",
   "metadata": {},
   "outputs": [],
   "source": [
    "from scipy.stats import f_oneway\n",
    "import numpy as np\n",
    "diet_A = np.array([])\n",
    "diet_B = np.array([])\n",
    "diet_C = np.array([])\n",
    "\n",
    "# Perform the one-way ANOVA\n",
    "f_stat, p_val = f_oneway(diet_A, diet_B, diet_C)\n",
    "print(\"F-statistic:\", f_stat)\n",
    "print(\"p-value:\", p_val)"
   ]
  },
  {
   "cell_type": "code",
   "execution_count": null,
   "id": "4ba77be6-0a43-4ca8-9422-112f4233d51c",
   "metadata": {},
   "outputs": [],
   "source": [
    "Q10. A company wants to know if there are any significant differences in the average time it takes to\n",
    "complete a task using three different software programs: Program A, Program B, and Program C. They\n",
    "randomly assign 30 employees to one of the programs and record the time it takes each employee to\n",
    "complete the task. Conduct a two-way ANOVA using Python to determine if there are any main effects or\n",
    "interaction effects between the software programs and employee experience level (novice vs.\n",
    "experienced). Report the F-statistics and p-values, and interpret the results."
   ]
  },
  {
   "cell_type": "code",
   "execution_count": null,
   "id": "52d51c8d-c23c-4431-b146-9aed9652d1a6",
   "metadata": {},
   "outputs": [],
   "source": [
    "import pandas as pd\n",
    "import statsmodels.api as sm\n",
    "from statsmodels.formula.api import ols\n",
    "\n",
    "data = pd.read_csv('task_completion_times.csv')\n",
    "model = ols('Time ~ C(Program) + C(Experience) + C(Program):C(Experience)', data=data).fit()\n",
    "sm.stats.anova_lm(model, typ=2)"
   ]
  },
  {
   "cell_type": "code",
   "execution_count": null,
   "id": "df389777-8c27-4deb-85a3-9280435477cb",
   "metadata": {},
   "outputs": [],
   "source": [
    "Q11. An educational researcher is interested in whether a new teaching method improves student test\n",
    "scores. They randomly assign 100 students to either the control group (traditional teaching method) or the\n",
    "experimental group (new teaching method) and administer a test at the end of the semester. Conduct a\n",
    "two-sample t-test using Python to determine if there are any significant differences in test scores\n",
    "between the two groups. If the results are significant, follow up with a post-hoc test to determine which\n",
    "group(s) differ significantly from each other."
   ]
  },
  {
   "cell_type": "code",
   "execution_count": null,
   "id": "53d6961e-8430-453f-a0ed-1422a3d86825",
   "metadata": {},
   "outputs": [],
   "source": [
    "import numpy as np\n",
    "from scipy.stats import ttest_ind\n",
    "np.random.seed(1)\n",
    "control_group = np.random.normal(70, 10, size=100)\n",
    "experimental_group = np.random.normal(75, 10, size=100)\n",
    "t_stat, p_value = ttest_ind(control_group, experimental_group)\n",
    "print(\"Two-sample t-test results:\")\n",
    "print(f\"t-statistic: {t_stat:.2f}\")\n",
    "print(f\"p-value: {p_value:.4f}\")"
   ]
  }
 ],
 "metadata": {
  "kernelspec": {
   "display_name": "Python 3 (ipykernel)",
   "language": "python",
   "name": "python3"
  },
  "language_info": {
   "codemirror_mode": {
    "name": "ipython",
    "version": 3
   },
   "file_extension": ".py",
   "mimetype": "text/x-python",
   "name": "python",
   "nbconvert_exporter": "python",
   "pygments_lexer": "ipython3",
   "version": "3.10.8"
  }
 },
 "nbformat": 4,
 "nbformat_minor": 5
}
