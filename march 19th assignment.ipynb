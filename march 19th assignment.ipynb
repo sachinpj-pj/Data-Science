{
 "cells": [
  {
   "cell_type": "code",
   "execution_count": null,
   "id": "2881fb13-a4fa-40dd-8f35-94145a3c8569",
   "metadata": {},
   "outputs": [],
   "source": [
    "Q1. What is Min-Max scaling, and how is it used in data preprocessing? Provide an example to illustrate its\n",
    "application.\n",
    "the simplest method and consists in rescaling the range of features to scale the range in [0, 1]\n",
    "Min-Max scaling is commonly used in data preprocessing to normalize features so that they have the same range and magnitude.\n",
    "For example, suppose we have a dataset that contains two features, age, and income. Age ranges from 25 to 70, \n",
    "and income ranges from 20,000 to 200,000. We can use min-max scaling to scale the features so that they fall within the\n",
    "range of [0, 1]."
   ]
  },
  {
   "cell_type": "code",
   "execution_count": null,
   "id": "f1ac243f-f716-45e6-ad63-85ca8d4244c8",
   "metadata": {},
   "outputs": [],
   "source": [
    "Q2. What is the Unit Vector technique in feature scaling, and how does it differ from Min-Max scaling?\n",
    "Provide an example to illustrate its application.\n",
    "Unit Vector scaling is another method of feature scaling used in data preprocessing. \n",
    "Unlike Min-Max scaling, which scales the features to a fixed range, Unit Vector scaling scales the features \n",
    "so that each sample has a length of 1. \n",
    "For example, suppose we have a dataset that contains two features, height, and weight.\n",
    "We can use Unit Vector scaling to scale the features so that each sample has a length of 1."
   ]
  },
  {
   "cell_type": "code",
   "execution_count": null,
   "id": "7eabb1ce-727f-4b94-9a9c-667c3245c79d",
   "metadata": {},
   "outputs": [],
   "source": [
    "Q3. What is PCA (Principle Component Analysis), and how is it used in dimensionality reduction? Provide an\n",
    "example to illustrate its application.\n",
    "PCA, or Principle Component Analysis, is a statistical technique used for dimensionality reduction.\n",
    "PCA is commonly used in data preprocessing to reduce the dimensionality of a dataset by projecting it onto a \n",
    "lower-dimensional space while minimizing the loss of information. \n",
    "For example, suppose we have a dataset that contains four features, age, height, weight, and income. \n",
    "We can use PCA to reduce the number of features to two principal components"
   ]
  },
  {
   "cell_type": "code",
   "execution_count": null,
   "id": "57e53826-9017-49ec-8627-f626a49f5cd9",
   "metadata": {},
   "outputs": [],
   "source": [
    "Q4. What is the relationship between PCA and Feature Extraction, and how can PCA be used for Feature\n",
    "Extraction? Provide an example to illustrate this concept.\n",
    "PCA can be used as a feature extraction technique to reduce the dimensionality of a dataset while \n",
    "preserving the most important information.\n",
    "PCA is a linear feature extraction technique that can be used to transform the original features \n",
    "into a new set of features.\n",
    "For example, suppose we have a dataset that contains five features, age, income, education, occupation, and gender. \n",
    "We want to reduce the dimensionality of the dataset to two features that capture the most important information. \n",
    "We can use PCA to extract the two most important features"
   ]
  },
  {
   "cell_type": "code",
   "execution_count": null,
   "id": "0c6fb58f-fff4-4185-8a69-c25b64738eb0",
   "metadata": {},
   "outputs": [],
   "source": [
    "Q5. You are working on a project to build a recommendation system for a food delivery service. The dataset\n",
    "contains features such as price, rating, and delivery time. Explain how you would use Min-Max scaling to\n",
    "preprocess the data.\n",
    "Min-Max scaling is a technique used to scale the numerical features of a dataset to a fixed range of values, \n",
    "typically between 0 and 1.\n",
    "Identify the numerical features in the dataset that require scaling.\n",
    "Compute the minimum and maximum values for each feature.\n",
    "Apply the Min-Max scaling formula to each feature:\n",
    "scaled_feature = (feature - min(feature)) / (max(feature) - min(feature))\n",
    "This formula will map the minimum value of the feature to 0 and the maximum value of the feature to 1, \n",
    "with all other values scaled proportionally in between.The resulting scaled features will now have values \n",
    "between 0 and 1, making them comparable to each other."
   ]
  },
  {
   "cell_type": "code",
   "execution_count": null,
   "id": "2c89384b-0249-436e-a811-90a1f58cbc04",
   "metadata": {},
   "outputs": [],
   "source": [
    "Q6. You are working on a project to build a model to predict stock prices. The dataset contains many\n",
    "features, such as company financial data and market trends. Explain how you would use PCA to reduce the\n",
    "dimensionality of the dataset\n",
    "Standardize the data\n",
    "Compute the covariance matrix\n",
    "Compute the eigenvectors and eigenvalues of the covariance matrix\n",
    "Select the principal components\n",
    "Transform the data"
   ]
  },
  {
   "cell_type": "code",
   "execution_count": null,
   "id": "5f0baefe-fc7b-4749-a734-bbf7fc0861ea",
   "metadata": {},
   "outputs": [],
   "source": [
    "Q7. For a dataset containing the following values: [1, 5, 10, 15, 20], perform Min-Max scaling to transform the\n",
    "values to a range of [-1 to 1].\n",
    "For x = 1: x_scaled = (1 - 1) / (20 - 1) * 2 - 1 = -1\n",
    "For x = 5: x_scaled = (5 - 1) / (20 - 1) * 2 - 1 = -0.6\n",
    "For x = 10: x_scaled = (10 - 1) / (20 - 1) * 2 - 1 = -0.2\n",
    "For x = 15: x_scaled = (15 - 1) / (20 - 1) * 2 - 1 = 0.2\n",
    "For x = 20: x_scaled = (20 - 1) / (20 - 1) * 2 - 1 = 1\n",
    "[-1, -0.6, -0.2, 0.2, 1]=range of [-1 to 1]"
   ]
  }
 ],
 "metadata": {
  "kernelspec": {
   "display_name": "Python 3 (ipykernel)",
   "language": "python",
   "name": "python3"
  },
  "language_info": {
   "codemirror_mode": {
    "name": "ipython",
    "version": 3
   },
   "file_extension": ".py",
   "mimetype": "text/x-python",
   "name": "python",
   "nbconvert_exporter": "python",
   "pygments_lexer": "ipython3",
   "version": "3.10.8"
  }
 },
 "nbformat": 4,
 "nbformat_minor": 5
}
