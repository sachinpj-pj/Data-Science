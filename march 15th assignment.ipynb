{
 "cells": [
  {
   "cell_type": "code",
   "execution_count": null,
   "id": "a3fcb82f-6dd3-47e2-8cf9-9f8e995b37e7",
   "metadata": {},
   "outputs": [],
   "source": [
    "a) Artificial Intelligence:it is a smart application which can perform task without human interaction\n",
    "example:sef driving cars\n",
    "b) Machine Learning:it is part of the AI in which it provides statics to learn, analyse and visulize and predective models \n",
    "example:Amazons recommadations system\n",
    "c) Deap learning:it is a part of Machine learning in which it mimics the human brain\n",
    "example:chatgpt"
   ]
  },
  {
   "cell_type": "code",
   "execution_count": null,
   "id": "9b5890d5-8102-4f56-ae21-d8af17ffbc75",
   "metadata": {},
   "outputs": [],
   "source": [
    "What is supervised learning? List some examples of supervised learning.\n",
    "Supervised learning is a type of machine learning where the algorithm learns to make predictions or classify new data based \n",
    "on examples of labeled data.\n",
    "example:\n",
    "1-classification\n",
    "2-regression"
   ]
  },
  {
   "cell_type": "code",
   "execution_count": null,
   "id": "b4194ab6-1064-4707-8f29-0b5a4a1e456f",
   "metadata": {},
   "outputs": [],
   "source": [
    "What is unsupervised learning? List some examples of unsupervised learning.\n",
    "Unsupervised learning is a type of machine learning where the algorithm learns to identify patterns and relationships in data\n",
    "without being given explicit examples of labeled data. \n",
    "example:\n",
    "1-clustering\n",
    "2-dimension reduction"
   ]
  },
  {
   "cell_type": "code",
   "execution_count": null,
   "id": "02d99a8d-4e2a-4c87-ba7d-39f26c36d802",
   "metadata": {},
   "outputs": [],
   "source": [
    "What is the difference between AI, ML, DL, and DS?\n",
    "AI: AI is a broad field of computer science focused on creating machines that can perform tasks that typically require \n",
    "human intelligence, such as visual perception, speech recognition, decision-making, and language translation. \n",
    "ML: ML is a subset of AI that involves teaching machines to learn from data and improve their performance on a specific \n",
    "task over time without being explicitly programmed.\n",
    "DL: DL is a subfield of ML that uses artificial neural networks with multiple layers to learn complex representations of data. \n",
    "DS: DS is a broader field that involves using various techniques and tools to extract insights and knowledge from data. \n",
    "It includes not only ML and DL but also statistical analysis, data visualization, and data engineering"
   ]
  },
  {
   "cell_type": "code",
   "execution_count": null,
   "id": "0005f7d1-9c29-4d36-b1b5-664f20f4e68d",
   "metadata": {},
   "outputs": [],
   "source": [
    "what are the main difference between supervised, unsupervised, and semi-supervised learning?\n",
    "Supervised learning: Supervised learning is a type of machine learning where the algorithm learns to make predictions or classify \n",
    "new data based on labeled examples. \n",
    "Unsupervised learning: Unsupervised learning is a type of machine learning where the algorithm learns to identify patterns and \n",
    "relationships in unlabeled data.\n",
    "Semi-supervised learning: Semi-supervised learning is a type of machine learning where the algorithm learns from a combination\n",
    "of labeled and unlabeled data. "
   ]
  },
  {
   "cell_type": "code",
   "execution_count": null,
   "id": "e075c97f-431b-427c-b3cd-7c74c3549860",
   "metadata": {},
   "outputs": [],
   "source": [
    "What is train, test and validation split? Explain the importance of each term.\n",
    "Train set: The train set is used to train the model, i.e., the algorithm learns from this data. \n",
    "It is important to have a sufficient amount of training data to ensure that the model learns to \n",
    "generalize well to new, unseen data.\n",
    "Test set: The test set is used to evaluate the performance of the model on new, unseen data. \n",
    "It is important to have a separate test set to avoid overfitting, which occurs when the model performs well on the \n",
    "training data but poorly on new data.\n",
    "Validation set: The validation set is used to tune the hyperparameters of the model and prevent overfitting. \n",
    "Hyperparameters are parameters that are set before training and cannot be learned from the data"
   ]
  },
  {
   "cell_type": "code",
   "execution_count": null,
   "id": "fbcc5d34-9d25-4dfb-a984-a03899410ed5",
   "metadata": {},
   "outputs": [],
   "source": [
    "How can unsupervised learning is used in anomaly detection?\n",
    "Unsupervised learning can be used in anomaly detection by identifying patterns and relationships in the\n",
    "data that deviate from the norm. Anomaly detection involves identifying data points that are significantly \n",
    "different from the rest of the data, which can be useful in a variety of applications such as fraud detection, \n",
    "intrusion detection, and equipment failure detection."
   ]
  },
  {
   "cell_type": "code",
   "execution_count": null,
   "id": "5c6ae815-a373-4720-a483-43f336dde4bb",
   "metadata": {},
   "outputs": [],
   "source": [
    "List down some commonly used supervised learning algorithms and unsupervised learning algorithms\n",
    "supervised learning algorithms:\n",
    "Linear Regression\n",
    "Logistic Regression\n",
    "Decision Trees\n",
    "Random Forests\n",
    "unsupervised learning algorithms:\n",
    "K-Means Clustering\n",
    "Hierarchical Clustering\n",
    "Principal Component Analysis (PCA)\n",
    "t-Distributed Stochastic Neighbor Embedding (t-SNE)"
   ]
  }
 ],
 "metadata": {
  "kernelspec": {
   "display_name": "Python 3 (ipykernel)",
   "language": "python",
   "name": "python3"
  },
  "language_info": {
   "codemirror_mode": {
    "name": "ipython",
    "version": 3
   },
   "file_extension": ".py",
   "mimetype": "text/x-python",
   "name": "python",
   "nbconvert_exporter": "python",
   "pygments_lexer": "ipython3",
   "version": "3.10.8"
  }
 },
 "nbformat": 4,
 "nbformat_minor": 5
}
