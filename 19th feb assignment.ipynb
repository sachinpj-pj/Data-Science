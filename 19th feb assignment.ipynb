{
 "cells": [
  {
   "cell_type": "code",
   "execution_count": null,
   "id": "29a548ec-59d9-4c08-83f6-7cc48e2406e2",
   "metadata": {},
   "outputs": [],
   "source": [
    "What is Flask Framework? What are the advantages of Flask Framework?\n",
    "flask frame is a web framwork used for python\n",
    "##advantages \n",
    "Lightweight and flexible\n",
    "Easy to use\n",
    "Modular design"
   ]
  },
  {
   "cell_type": "code",
   "execution_count": null,
   "id": "c7629116-d752-4d5a-809c-74728fc44f70",
   "metadata": {},
   "outputs": [],
   "source": [
    "Create a simple Flask application to display ‘Hello World!!’. Attach the screenshot of the output in\n",
    "Jupyter Notebook.\n"
   ]
  },
  {
   "cell_type": "code",
   "execution_count": null,
   "id": "b4838f5e-5eb0-4986-8a0d-cf2a6ace8ee5",
   "metadata": {},
   "outputs": [],
   "source": [
    "from flask import Flask\n",
    "\n",
    "app = Flask(__name__)\n",
    "\n",
    "@app.route(\"/\")\n",
    "def hello_world():\n",
    "    return \"<h1>Hello, World!</h1>\"\n",
    "\n",
    "if __name__==\"__main__\":\n",
    "    app.run(host=\"0.0.0.0\")\n"
   ]
  },
  {
   "cell_type": "code",
   "execution_count": null,
   "id": "bf0aad81-9c15-4ecc-a8db-5c474f212755",
   "metadata": {},
   "outputs": [],
   "source": [
    "What is App routing in Flask? Why do we use app routes?\n",
    "app routing in flask is mapping URL to view funtion\n",
    "we use app routes to help users remember the URLs and make navigation simpler"
   ]
  },
  {
   "cell_type": "code",
   "execution_count": null,
   "id": "dcf78081-916a-4f09-b025-bd438bd1e14a",
   "metadata": {},
   "outputs": [],
   "source": [
    "Create a “/welcome” route to display the welcome message “Welcome to ABC Corporation” and a “/”\n",
    "route to show the following details:\n",
    "Company Name: ABC Corporation\n",
    "Location: India\n",
    "Contact Detail: 999-999-9999"
   ]
  },
  {
   "cell_type": "code",
   "execution_count": null,
   "id": "49d5535f-2cc5-44f5-b3fe-a234ec73e47a",
   "metadata": {},
   "outputs": [],
   "source": [
    "from flask import Flask\n",
    "\n",
    "app = Flask(__name__)\n",
    "\n",
    "@app.route(\"/welcome\")\n",
    "def welcome():\n",
    "    return \"<h1>Welcome to ABC Corporation</h1>\"\n",
    "@app.route(\"/details\")\n",
    "def details():\n",
    "    Company_Name: 'ABC Corporation'\n",
    "    Location: 'India'\n",
    "    Contact_Detail: 999-999-9999\n",
    "    return Company_Name,Location,Contact_Detail\n",
    "\n",
    "\n",
    "\n",
    "if __name__==\"__main__\":\n",
    "    app.run(host=\"0.0.0.0\")"
   ]
  },
  {
   "cell_type": "code",
   "execution_count": null,
   "id": "8790ce81-b0fa-40a6-8b07-d95e42bd66dc",
   "metadata": {},
   "outputs": [],
   "source": [
    "What function is used in Flask for URL Building? Write a Python code to demonstrate the working of the\n",
    "url_for() function.\n",
    "url_for() is used to flask for url building.\n",
    "\n",
    "##example for url_for()\n",
    "from flask import Flask\n",
    "\n",
    "app = Flask(__name__)\n",
    "@app.route(\"/\")\n",
    "def flask_url():\n",
    "    return \"hello\"\n",
    "with app.test_request_con():\n",
    "    print(url_for('hello', name='John'))"
   ]
  }
 ],
 "metadata": {
  "kernelspec": {
   "display_name": "Python 3 (ipykernel)",
   "language": "python",
   "name": "python3"
  },
  "language_info": {
   "codemirror_mode": {
    "name": "ipython",
    "version": 3
   },
   "file_extension": ".py",
   "mimetype": "text/x-python",
   "name": "python",
   "nbconvert_exporter": "python",
   "pygments_lexer": "ipython3",
   "version": "3.10.8"
  }
 },
 "nbformat": 4,
 "nbformat_minor": 5
}
