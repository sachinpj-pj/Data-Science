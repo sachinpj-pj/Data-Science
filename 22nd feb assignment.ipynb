{
 "cells": [
  {
   "cell_type": "code",
   "execution_count": null,
   "id": "6b64c44a-c07b-4e13-9946-b08e4e88655a",
   "metadata": {},
   "outputs": [],
   "source": [
    "Q1. Write a python program to extract the video URL of the first five videos."
   ]
  },
  {
   "cell_type": "code",
   "execution_count": null,
   "id": "e9e62e33-3f1d-4992-8649-e9423e700bf2",
   "metadata": {},
   "outputs": [],
   "source": [
    "from bs4 import BeautifulSoup\n",
    "from selenium import webdriver\n",
    "from selenium.webdriver.chrome.service import Service\n",
    "from webdriver_manager.chrome import ChromeDriverManager"
   ]
  },
  {
   "cell_type": "code",
   "execution_count": null,
   "id": "46b11de0-0f63-4bf0-b3c2-65030a37dd37",
   "metadata": {},
   "outputs": [],
   "source": [
    "driver = webdriver.Chrome(executable_path=ChromeDriverManager().install())\n",
    "\n",
    "\n",
    "driver.get(\"https://www.youtube.com/@PW-Foundation/videos\")\n",
    "\n",
    "\n",
    "content = driver.page_source\n",
    "\n",
    "soup = BeautifulSoup(content,\"html.parser\")\n",
    "\n",
    "video_url = soup.find_all('a',{\"class\":\"yt-simple-endpoint inline-block style-scope ytd-thumbnail\"})\n",
    "\n",
    "\n",
    "for i in video_url[1:6]:    \t\n",
    "    print(\"https://www.youtube.com\"+i['href'])"
   ]
  },
  {
   "cell_type": "code",
   "execution_count": null,
   "id": "6e679380-d8cf-4084-aedf-6612b270a796",
   "metadata": {},
   "outputs": [],
   "source": [
    "Q2. Write a python program to extract the URL of the video thumbnails of the first five videos."
   ]
  },
  {
   "cell_type": "code",
   "execution_count": null,
   "id": "c499c504-ea0f-427b-9c90-9dc5d022687f",
   "metadata": {},
   "outputs": [],
   "source": [
    "thumbnail_url = soup.find_all('img',{'class':\"yt-core-image--fill-parent-height yt-core-image--fill-parent-width yt-core-image yt-core-image--content-mode-scale-aspect-fill yt-core-image--loaded\"})\n",
    "\n",
    "for index,img_url in enumerate(thumbnail_url):\n",
    "    print(thumbnail_url[index]['src'])\n",
    "\n"
   ]
  },
  {
   "cell_type": "code",
   "execution_count": null,
   "id": "4c1bb53d-ffeb-4dd5-a1fe-1a90b848a1f8",
   "metadata": {},
   "outputs": [],
   "source": [
    "Q3. Write a python program to extract the title of the first five videos."
   ]
  },
  {
   "cell_type": "code",
   "execution_count": null,
   "id": "0801decb-a572-49c0-a5ea-5d08500ee1a8",
   "metadata": {},
   "outputs": [],
   "source": [
    "title_video = soup.find_all('a',{'class':'yt-simple-endpoint focus-on-expand style-scope ytd-rich-grid-media'})\n",
    "titles_ls = []\n",
    "for index, title in enumerate(title_video):\n",
    "    if len(titles_ls) >= 5:\n",
    "        pass\n",
    "    else:\n",
    "        titles_ls.append(title_video[index].text)\n",
    "for title in titles_ls:\n",
    "    print(title)"
   ]
  },
  {
   "cell_type": "code",
   "execution_count": null,
   "id": "b9e77156-e155-4315-bce3-6c3a357b89c4",
   "metadata": {},
   "outputs": [],
   "source": [
    "Q4. Write a python program to extract the number of views of the first five videos."
   ]
  },
  {
   "cell_type": "code",
   "execution_count": null,
   "id": "cd7d5f38-a79b-4175-9995-5f59ce88112d",
   "metadata": {},
   "outputs": [],
   "source": [
    "video_views = soup.find_all('span',{'class':'inline-metadata-item style-scope ytd-video-meta-block'})\n",
    "\n",
    "\n",
    "all_views = []\n",
    "\n",
    "import re\n",
    "for index,views in enumerate(video_views):\n",
    "    if len(all_views) >=5:\n",
    "        pass\n",
    "    else:\n",
    "        if re.search(\"^[0-9].*views$\",video_views[index].text):\n",
    "            all_views.append(views.text)\n",
    "\n",
    "\n",
    "for views in all_views:\n",
    "    print(views)"
   ]
  },
  {
   "cell_type": "code",
   "execution_count": null,
   "id": "2da6aaa9-44e4-4021-bb62-0ce39a13ef20",
   "metadata": {},
   "outputs": [],
   "source": [
    "Q5. Write a python program to extract the time of posting of video for the first five videos."
   ]
  },
  {
   "cell_type": "code",
   "execution_count": null,
   "id": "376b6dcf-4a1f-4abb-b4e7-b961ed298a83",
   "metadata": {},
   "outputs": [],
   "source": [
    "\n",
    "uploaded_time = soup.find_all('span',{'class':'inline-metadata-item style-scope ytd-video-meta-block'})\n",
    "\n",
    "\n",
    "uplodedtimelist = []\n",
    "\n",
    "\n",
    "for index,time in enumerate(uploaded_time):\n",
    "    if len(uplodedtimelist) >= 5:\n",
    "        pass\n",
    "    else:\n",
    "        if re.search(\"[0-9].*ago$\",uploaded_time[index].text):\n",
    "            uplodedtimelist.append(uploaded_time[index].text)\n",
    "\n",
    "\n",
    "for time in uplodedtimelist:\n",
    "    print(time)"
   ]
  },
  {
   "cell_type": "code",
   "execution_count": 6,
   "id": "04cfaf77-95cb-4924-adf7-729c7df74886",
   "metadata": {},
   "outputs": [
    {
     "data": {
      "text/plain": [
       "'https://www.youtube.com/@PW-Foundation/videos'"
      ]
     },
     "execution_count": 6,
     "metadata": {},
     "output_type": "execute_result"
    }
   ],
   "source": [
    "\"https://www.youtube.com/@PW-Foundation/videos\""
   ]
  }
 ],
 "metadata": {
  "kernelspec": {
   "display_name": "Python 3 (ipykernel)",
   "language": "python",
   "name": "python3"
  },
  "language_info": {
   "codemirror_mode": {
    "name": "ipython",
    "version": 3
   },
   "file_extension": ".py",
   "mimetype": "text/x-python",
   "name": "python",
   "nbconvert_exporter": "python",
   "pygments_lexer": "ipython3",
   "version": "3.10.8"
  }
 },
 "nbformat": 4,
 "nbformat_minor": 5
}
