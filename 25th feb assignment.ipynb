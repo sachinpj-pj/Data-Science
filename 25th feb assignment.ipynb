{
 "cells": [
  {
   "cell_type": "code",
   "execution_count": 3,
   "id": "3c6bc824-690d-49ab-9cb5-a4b9c15b81ce",
   "metadata": {},
   "outputs": [],
   "source": [
    "import pandas as pd\n",
    "course_name = ['Data Science', 'Machine Learning', 'Big Data', 'Data Engineer']\n",
    "duration = [2,3,6,4]\n",
    "df = pd.DataFrame(data = {'course_name' : course_name, 'duration' : duration})"
   ]
  },
  {
   "cell_type": "code",
   "execution_count": 4,
   "id": "2003173c-0e6e-4fbf-8ed0-db64e28a0372",
   "metadata": {},
   "outputs": [
    {
     "data": {
      "text/html": [
       "<div>\n",
       "<style scoped>\n",
       "    .dataframe tbody tr th:only-of-type {\n",
       "        vertical-align: middle;\n",
       "    }\n",
       "\n",
       "    .dataframe tbody tr th {\n",
       "        vertical-align: top;\n",
       "    }\n",
       "\n",
       "    .dataframe thead th {\n",
       "        text-align: right;\n",
       "    }\n",
       "</style>\n",
       "<table border=\"1\" class=\"dataframe\">\n",
       "  <thead>\n",
       "    <tr style=\"text-align: right;\">\n",
       "      <th></th>\n",
       "      <th>course_name</th>\n",
       "      <th>duration</th>\n",
       "    </tr>\n",
       "  </thead>\n",
       "  <tbody>\n",
       "    <tr>\n",
       "      <th>0</th>\n",
       "      <td>Data Science</td>\n",
       "      <td>2</td>\n",
       "    </tr>\n",
       "    <tr>\n",
       "      <th>1</th>\n",
       "      <td>Machine Learning</td>\n",
       "      <td>3</td>\n",
       "    </tr>\n",
       "    <tr>\n",
       "      <th>2</th>\n",
       "      <td>Big Data</td>\n",
       "      <td>6</td>\n",
       "    </tr>\n",
       "    <tr>\n",
       "      <th>3</th>\n",
       "      <td>Data Engineer</td>\n",
       "      <td>4</td>\n",
       "    </tr>\n",
       "  </tbody>\n",
       "</table>\n",
       "</div>"
      ],
      "text/plain": [
       "        course_name  duration\n",
       "0      Data Science         2\n",
       "1  Machine Learning         3\n",
       "2          Big Data         6\n",
       "3     Data Engineer         4"
      ]
     },
     "execution_count": 4,
     "metadata": {},
     "output_type": "execute_result"
    }
   ],
   "source": [
    "df"
   ]
  },
  {
   "cell_type": "code",
   "execution_count": null,
   "id": "d7116b63-2716-4c2c-a3a4-4becbeb040bd",
   "metadata": {},
   "outputs": [],
   "source": [
    "Write a code to print the data present in the second row of the dataframe, df."
   ]
  },
  {
   "cell_type": "code",
   "execution_count": 6,
   "id": "3544da7d-5cf7-429a-ac76-17d24022d8e9",
   "metadata": {},
   "outputs": [
    {
     "data": {
      "text/plain": [
       "course_name    Machine Learning\n",
       "duration                      3\n",
       "Name: 1, dtype: object"
      ]
     },
     "execution_count": 6,
     "metadata": {},
     "output_type": "execute_result"
    }
   ],
   "source": [
    "df.iloc[1]"
   ]
  },
  {
   "cell_type": "code",
   "execution_count": null,
   "id": "03126f83-0021-49e9-be67-a771752ec180",
   "metadata": {},
   "outputs": [],
   "source": [
    "What is the difference between the functions loc and iloc in pandas.DataFrame?\n",
    "loc-it is label based selecting method, in this we have pass name of the row/column\n",
    "iloc-it is index based selecting method, in this we have to pass index of the row /column"
   ]
  },
  {
   "cell_type": "code",
   "execution_count": 8,
   "id": "999061ee-90c3-418d-99ef-ac651502fcb1",
   "metadata": {},
   "outputs": [],
   "source": [
    "import pandas as pd\n",
    "import numpy as np\n",
    "columns = ['column_1', 'column_2', 'column_3', 'column_4', 'column_5', 'column_6']\n",
    "indices = [1,2,3,4,5,6]\n",
    "#Creating a dataframe:\n",
    "df1 = pd.DataFrame(np.random.rand(6,6), columns = columns, index = indices)"
   ]
  },
  {
   "cell_type": "code",
   "execution_count": 9,
   "id": "85802d9e-097e-4617-bf40-0f706946dde7",
   "metadata": {},
   "outputs": [
    {
     "data": {
      "text/html": [
       "<div>\n",
       "<style scoped>\n",
       "    .dataframe tbody tr th:only-of-type {\n",
       "        vertical-align: middle;\n",
       "    }\n",
       "\n",
       "    .dataframe tbody tr th {\n",
       "        vertical-align: top;\n",
       "    }\n",
       "\n",
       "    .dataframe thead th {\n",
       "        text-align: right;\n",
       "    }\n",
       "</style>\n",
       "<table border=\"1\" class=\"dataframe\">\n",
       "  <thead>\n",
       "    <tr style=\"text-align: right;\">\n",
       "      <th></th>\n",
       "      <th>column_1</th>\n",
       "      <th>column_2</th>\n",
       "      <th>column_3</th>\n",
       "      <th>column_4</th>\n",
       "      <th>column_5</th>\n",
       "      <th>column_6</th>\n",
       "    </tr>\n",
       "  </thead>\n",
       "  <tbody>\n",
       "    <tr>\n",
       "      <th>1</th>\n",
       "      <td>0.347393</td>\n",
       "      <td>0.985839</td>\n",
       "      <td>0.909947</td>\n",
       "      <td>0.763610</td>\n",
       "      <td>0.425293</td>\n",
       "      <td>0.718193</td>\n",
       "    </tr>\n",
       "    <tr>\n",
       "      <th>2</th>\n",
       "      <td>0.225444</td>\n",
       "      <td>0.414357</td>\n",
       "      <td>0.034926</td>\n",
       "      <td>0.505207</td>\n",
       "      <td>0.140495</td>\n",
       "      <td>0.968690</td>\n",
       "    </tr>\n",
       "    <tr>\n",
       "      <th>3</th>\n",
       "      <td>0.875756</td>\n",
       "      <td>0.318770</td>\n",
       "      <td>0.219619</td>\n",
       "      <td>0.431777</td>\n",
       "      <td>0.083052</td>\n",
       "      <td>0.869361</td>\n",
       "    </tr>\n",
       "    <tr>\n",
       "      <th>4</th>\n",
       "      <td>0.984009</td>\n",
       "      <td>0.659072</td>\n",
       "      <td>0.609737</td>\n",
       "      <td>0.466733</td>\n",
       "      <td>0.632683</td>\n",
       "      <td>0.222947</td>\n",
       "    </tr>\n",
       "    <tr>\n",
       "      <th>5</th>\n",
       "      <td>0.519841</td>\n",
       "      <td>0.443572</td>\n",
       "      <td>0.345121</td>\n",
       "      <td>0.324895</td>\n",
       "      <td>0.953467</td>\n",
       "      <td>0.729563</td>\n",
       "    </tr>\n",
       "    <tr>\n",
       "      <th>6</th>\n",
       "      <td>0.383285</td>\n",
       "      <td>0.124755</td>\n",
       "      <td>0.474151</td>\n",
       "      <td>0.280694</td>\n",
       "      <td>0.651418</td>\n",
       "      <td>0.090803</td>\n",
       "    </tr>\n",
       "  </tbody>\n",
       "</table>\n",
       "</div>"
      ],
      "text/plain": [
       "   column_1  column_2  column_3  column_4  column_5  column_6\n",
       "1  0.347393  0.985839  0.909947  0.763610  0.425293  0.718193\n",
       "2  0.225444  0.414357  0.034926  0.505207  0.140495  0.968690\n",
       "3  0.875756  0.318770  0.219619  0.431777  0.083052  0.869361\n",
       "4  0.984009  0.659072  0.609737  0.466733  0.632683  0.222947\n",
       "5  0.519841  0.443572  0.345121  0.324895  0.953467  0.729563\n",
       "6  0.383285  0.124755  0.474151  0.280694  0.651418  0.090803"
      ]
     },
     "execution_count": 9,
     "metadata": {},
     "output_type": "execute_result"
    }
   ],
   "source": [
    "df1"
   ]
  },
  {
   "cell_type": "code",
   "execution_count": null,
   "id": "ff3eafca-a8ab-4c55-ad86-93e4eae569f3",
   "metadata": {},
   "outputs": [],
   "source": [
    "Reindex the given dataframe using a variable, reindex = [3,0,1,2] and store it in the variable, new_df\n",
    "then find the output for both new_df.loc[2] and new_df.iloc[2]."
   ]
  },
  {
   "cell_type": "code",
   "execution_count": 18,
   "id": "2e539140-8181-4bd2-b6cb-880453545176",
   "metadata": {},
   "outputs": [],
   "source": [
    "df1['new_df'] = df1.reindex = [3,0,1,2,4,5]"
   ]
  },
  {
   "cell_type": "code",
   "execution_count": 19,
   "id": "b73700cc-2419-40a0-91b9-27a7582640c6",
   "metadata": {},
   "outputs": [
    {
     "data": {
      "text/html": [
       "<div>\n",
       "<style scoped>\n",
       "    .dataframe tbody tr th:only-of-type {\n",
       "        vertical-align: middle;\n",
       "    }\n",
       "\n",
       "    .dataframe tbody tr th {\n",
       "        vertical-align: top;\n",
       "    }\n",
       "\n",
       "    .dataframe thead th {\n",
       "        text-align: right;\n",
       "    }\n",
       "</style>\n",
       "<table border=\"1\" class=\"dataframe\">\n",
       "  <thead>\n",
       "    <tr style=\"text-align: right;\">\n",
       "      <th></th>\n",
       "      <th>column_1</th>\n",
       "      <th>column_2</th>\n",
       "      <th>column_3</th>\n",
       "      <th>column_4</th>\n",
       "      <th>column_5</th>\n",
       "      <th>column_6</th>\n",
       "      <th>new_df</th>\n",
       "    </tr>\n",
       "  </thead>\n",
       "  <tbody>\n",
       "    <tr>\n",
       "      <th>1</th>\n",
       "      <td>0.347393</td>\n",
       "      <td>0.985839</td>\n",
       "      <td>0.909947</td>\n",
       "      <td>0.763610</td>\n",
       "      <td>0.425293</td>\n",
       "      <td>0.718193</td>\n",
       "      <td>3</td>\n",
       "    </tr>\n",
       "    <tr>\n",
       "      <th>2</th>\n",
       "      <td>0.225444</td>\n",
       "      <td>0.414357</td>\n",
       "      <td>0.034926</td>\n",
       "      <td>0.505207</td>\n",
       "      <td>0.140495</td>\n",
       "      <td>0.968690</td>\n",
       "      <td>0</td>\n",
       "    </tr>\n",
       "    <tr>\n",
       "      <th>3</th>\n",
       "      <td>0.875756</td>\n",
       "      <td>0.318770</td>\n",
       "      <td>0.219619</td>\n",
       "      <td>0.431777</td>\n",
       "      <td>0.083052</td>\n",
       "      <td>0.869361</td>\n",
       "      <td>1</td>\n",
       "    </tr>\n",
       "    <tr>\n",
       "      <th>4</th>\n",
       "      <td>0.984009</td>\n",
       "      <td>0.659072</td>\n",
       "      <td>0.609737</td>\n",
       "      <td>0.466733</td>\n",
       "      <td>0.632683</td>\n",
       "      <td>0.222947</td>\n",
       "      <td>2</td>\n",
       "    </tr>\n",
       "    <tr>\n",
       "      <th>5</th>\n",
       "      <td>0.519841</td>\n",
       "      <td>0.443572</td>\n",
       "      <td>0.345121</td>\n",
       "      <td>0.324895</td>\n",
       "      <td>0.953467</td>\n",
       "      <td>0.729563</td>\n",
       "      <td>4</td>\n",
       "    </tr>\n",
       "    <tr>\n",
       "      <th>6</th>\n",
       "      <td>0.383285</td>\n",
       "      <td>0.124755</td>\n",
       "      <td>0.474151</td>\n",
       "      <td>0.280694</td>\n",
       "      <td>0.651418</td>\n",
       "      <td>0.090803</td>\n",
       "      <td>5</td>\n",
       "    </tr>\n",
       "  </tbody>\n",
       "</table>\n",
       "</div>"
      ],
      "text/plain": [
       "   column_1  column_2  column_3  column_4  column_5  column_6  new_df\n",
       "1  0.347393  0.985839  0.909947  0.763610  0.425293  0.718193       3\n",
       "2  0.225444  0.414357  0.034926  0.505207  0.140495  0.968690       0\n",
       "3  0.875756  0.318770  0.219619  0.431777  0.083052  0.869361       1\n",
       "4  0.984009  0.659072  0.609737  0.466733  0.632683  0.222947       2\n",
       "5  0.519841  0.443572  0.345121  0.324895  0.953467  0.729563       4\n",
       "6  0.383285  0.124755  0.474151  0.280694  0.651418  0.090803       5"
      ]
     },
     "execution_count": 19,
     "metadata": {},
     "output_type": "execute_result"
    }
   ],
   "source": [
    "df1"
   ]
  },
  {
   "cell_type": "code",
   "execution_count": 21,
   "id": "911a54d7-1f9c-43e1-80e4-101d08a66b3e",
   "metadata": {},
   "outputs": [
    {
     "data": {
      "text/plain": [
       "0"
      ]
     },
     "execution_count": 23,
     "metadata": {},
     "output_type": "execute_result"
    }
   ],
   "source": [
    "df1.new_df.loc[2]"
   ]
  },
  {
   "cell_type": "code",
   "execution_count": 17,
   "id": "e6bb2602-8747-4c8e-b849-60e9325cd564",
   "metadata": {},
   "outputs": [
    {
     "data": {
      "text/plain": [
       "1"
      ]
     },
     "execution_count": 24,
     "metadata": {},
     "output_type": "execute_result"
    }
   ],
   "source": [
    "df1.new_df.iloc[2]"
   ]
  },
  {
   "cell_type": "code",
   "execution_count": null,
   "id": "5518458e-0a57-431e-9236-30af9ef07776",
   "metadata": {},
   "outputs": [],
   "source": [
    "Write a code to find the following statistical measurements for the above dataframe df1:\n",
    "(i) mean of each and every column present in the dataframe.\n",
    "(ii) standard deviation of column, ‘column_2’"
   ]
  },
  {
   "cell_type": "code",
   "execution_count": 25,
   "id": "e30e6d3e-3480-4ab5-9974-a213d4bfc43f",
   "metadata": {},
   "outputs": [
    {
     "data": {
      "text/plain": [
       "column_1    0.555954\n",
       "column_2    0.491061\n",
       "column_3    0.432250\n",
       "column_4    0.462153\n",
       "column_5    0.481068\n",
       "column_6    0.599926\n",
       "new_df      2.500000\n",
       "dtype: float64"
      ]
     },
     "execution_count": 25,
     "metadata": {},
     "output_type": "execute_result"
    }
   ],
   "source": [
    "df1.mean()"
   ]
  },
  {
   "cell_type": "code",
   "execution_count": 28,
   "id": "78703380-9200-473f-9393-cf47f45781f8",
   "metadata": {},
   "outputs": [
    {
     "data": {
      "text/plain": [
       "column_1    0.306385\n",
       "column_2    0.298341\n",
       "dtype: float64"
      ]
     },
     "execution_count": 28,
     "metadata": {},
     "output_type": "execute_result"
    }
   ],
   "source": [
    "df1[['column_1','column_2']].std()"
   ]
  },
  {
   "cell_type": "code",
   "execution_count": null,
   "id": "2988c5ea-2954-49b6-aa71-02c18df6dc13",
   "metadata": {},
   "outputs": [],
   "source": [
    "Replace the data present in the second row of column, ‘column_2’ by a string variable then find the\n",
    "mean of column, column_2."
   ]
  },
  {
   "cell_type": "code",
   "execution_count": 29,
   "id": "feef22fe-de2b-4b5c-a770-f4dcf25b2542",
   "metadata": {},
   "outputs": [],
   "source": [
    "df1.loc[2, 'column_2'] = 'new_string'"
   ]
  },
  {
   "cell_type": "code",
   "execution_count": 30,
   "id": "ba371831-8a42-4a0c-8f92-a68bf85f4016",
   "metadata": {},
   "outputs": [
    {
     "data": {
      "text/html": [
       "<div>\n",
       "<style scoped>\n",
       "    .dataframe tbody tr th:only-of-type {\n",
       "        vertical-align: middle;\n",
       "    }\n",
       "\n",
       "    .dataframe tbody tr th {\n",
       "        vertical-align: top;\n",
       "    }\n",
       "\n",
       "    .dataframe thead th {\n",
       "        text-align: right;\n",
       "    }\n",
       "</style>\n",
       "<table border=\"1\" class=\"dataframe\">\n",
       "  <thead>\n",
       "    <tr style=\"text-align: right;\">\n",
       "      <th></th>\n",
       "      <th>column_1</th>\n",
       "      <th>column_2</th>\n",
       "      <th>column_3</th>\n",
       "      <th>column_4</th>\n",
       "      <th>column_5</th>\n",
       "      <th>column_6</th>\n",
       "      <th>new_df</th>\n",
       "    </tr>\n",
       "  </thead>\n",
       "  <tbody>\n",
       "    <tr>\n",
       "      <th>1</th>\n",
       "      <td>0.347393</td>\n",
       "      <td>0.985839</td>\n",
       "      <td>0.909947</td>\n",
       "      <td>0.763610</td>\n",
       "      <td>0.425293</td>\n",
       "      <td>0.718193</td>\n",
       "      <td>3</td>\n",
       "    </tr>\n",
       "    <tr>\n",
       "      <th>2</th>\n",
       "      <td>0.225444</td>\n",
       "      <td>new_string</td>\n",
       "      <td>0.034926</td>\n",
       "      <td>0.505207</td>\n",
       "      <td>0.140495</td>\n",
       "      <td>0.968690</td>\n",
       "      <td>0</td>\n",
       "    </tr>\n",
       "    <tr>\n",
       "      <th>3</th>\n",
       "      <td>0.875756</td>\n",
       "      <td>0.31877</td>\n",
       "      <td>0.219619</td>\n",
       "      <td>0.431777</td>\n",
       "      <td>0.083052</td>\n",
       "      <td>0.869361</td>\n",
       "      <td>1</td>\n",
       "    </tr>\n",
       "    <tr>\n",
       "      <th>4</th>\n",
       "      <td>0.984009</td>\n",
       "      <td>0.659072</td>\n",
       "      <td>0.609737</td>\n",
       "      <td>0.466733</td>\n",
       "      <td>0.632683</td>\n",
       "      <td>0.222947</td>\n",
       "      <td>2</td>\n",
       "    </tr>\n",
       "    <tr>\n",
       "      <th>5</th>\n",
       "      <td>0.519841</td>\n",
       "      <td>0.443572</td>\n",
       "      <td>0.345121</td>\n",
       "      <td>0.324895</td>\n",
       "      <td>0.953467</td>\n",
       "      <td>0.729563</td>\n",
       "      <td>4</td>\n",
       "    </tr>\n",
       "    <tr>\n",
       "      <th>6</th>\n",
       "      <td>0.383285</td>\n",
       "      <td>0.124755</td>\n",
       "      <td>0.474151</td>\n",
       "      <td>0.280694</td>\n",
       "      <td>0.651418</td>\n",
       "      <td>0.090803</td>\n",
       "      <td>5</td>\n",
       "    </tr>\n",
       "  </tbody>\n",
       "</table>\n",
       "</div>"
      ],
      "text/plain": [
       "   column_1    column_2  column_3  column_4  column_5  column_6  new_df\n",
       "1  0.347393    0.985839  0.909947  0.763610  0.425293  0.718193       3\n",
       "2  0.225444  new_string  0.034926  0.505207  0.140495  0.968690       0\n",
       "3  0.875756     0.31877  0.219619  0.431777  0.083052  0.869361       1\n",
       "4  0.984009    0.659072  0.609737  0.466733  0.632683  0.222947       2\n",
       "5  0.519841    0.443572  0.345121  0.324895  0.953467  0.729563       4\n",
       "6  0.383285    0.124755  0.474151  0.280694  0.651418  0.090803       5"
      ]
     },
     "execution_count": 30,
     "metadata": {},
     "output_type": "execute_result"
    }
   ],
   "source": [
    "df1"
   ]
  },
  {
   "cell_type": "code",
   "execution_count": 33,
   "id": "28a255dd-ca5e-4aa3-84ba-8ad6383c7081",
   "metadata": {},
   "outputs": [
    {
     "name": "stderr",
     "output_type": "stream",
     "text": [
      "/tmp/ipykernel_77/1348708147.py:1: FutureWarning: The default value of numeric_only in DataFrame.mean is deprecated. In a future version, it will default to False. In addition, specifying 'numeric_only=None' is deprecated. Select only valid columns or specify the value of numeric_only to silence this warning.\n",
      "  df1[['column_1','column_2']].mean()\n"
     ]
    },
    {
     "data": {
      "text/plain": [
       "column_1    0.555954\n",
       "dtype: float64"
      ]
     },
     "execution_count": 33,
     "metadata": {},
     "output_type": "execute_result"
    }
   ],
   "source": [
    "df1[['column_1','column_2']].mean()"
   ]
  },
  {
   "cell_type": "code",
   "execution_count": null,
   "id": "c663d981-1634-4a52-b000-dfd1e5b8bed1",
   "metadata": {},
   "outputs": [],
   "source": [
    "What do you understand about the windows function in pandas and list the types of windows\n",
    "functions?\n",
    "windows function in pandas is used for performing some opertion like sum,mean etc\n",
    "Rolling window function\n",
    "expanding windiw fuction"
   ]
  },
  {
   "cell_type": "code",
   "execution_count": null,
   "id": "06ff673b-20fe-4269-bdf8-e7586774ac1a",
   "metadata": {},
   "outputs": [],
   "source": [
    "Write a code to print only the current month and year at the time of answering this question."
   ]
  },
  {
   "cell_type": "code",
   "execution_count": 34,
   "id": "449f8a8a-aa80-4587-b619-7a1592a855cc",
   "metadata": {},
   "outputs": [],
   "source": [
    "import datetime\n",
    "now = datetime.datetime.now()\n",
    "current_month = now.month\n",
    "current_year = now.year"
   ]
  },
  {
   "cell_type": "code",
   "execution_count": 35,
   "id": "aa7dac2f-f046-4d13-b7cf-a0b7702c975d",
   "metadata": {},
   "outputs": [
    {
     "data": {
      "text/plain": [
       "3"
      ]
     },
     "execution_count": 35,
     "metadata": {},
     "output_type": "execute_result"
    }
   ],
   "source": [
    "current_month"
   ]
  },
  {
   "cell_type": "code",
   "execution_count": 36,
   "id": "accf5316-c734-499d-84aa-ad114c2c5003",
   "metadata": {},
   "outputs": [
    {
     "data": {
      "text/plain": [
       "2023"
      ]
     },
     "execution_count": 36,
     "metadata": {},
     "output_type": "execute_result"
    }
   ],
   "source": [
    "current_year"
   ]
  },
  {
   "cell_type": "code",
   "execution_count": null,
   "id": "34698da0-2f79-4153-9e9b-aedae248e128",
   "metadata": {},
   "outputs": [],
   "source": [
    "Write a Python program that takes in two dates as input (in the format YYYY-MM-DD) and\n",
    "calculates the difference between them in days, hours, and minutes using Pandas time delta. The\n",
    "program should prompt the user to enter the dates and display the result."
   ]
  },
  {
   "cell_type": "code",
   "execution_count": 41,
   "id": "ef7eb9e4-e380-478c-bf72-1aa2f774588f",
   "metadata": {},
   "outputs": [
    {
     "name": "stdin",
     "output_type": "stream",
     "text": [
      "enter the 1st date 1998-06-12\n",
      "enter the 2nd date 1999-12-12\n"
     ]
    },
    {
     "name": "stdout",
     "output_type": "stream",
     "text": [
      "548 days 00:00:00\n"
     ]
    }
   ],
   "source": [
    "import pandas as pd\n",
    "\n",
    "d1=input(\"enter the 1st date\")\n",
    "d2=input(\"enter the 2nd date\")\n",
    "date1 = pd.to_datetime(d1)\n",
    "date2 = pd.to_datetime(d2)\n",
    "diff_date=date2-date1\n",
    "print(diff_date)"
   ]
  },
  {
   "cell_type": "code",
   "execution_count": null,
   "id": "cf23eacf-e960-440c-9559-6e024563febd",
   "metadata": {},
   "outputs": [],
   "source": [
    "Write a Python program that reads a CSV file containing categorical data and converts a specified\n",
    "column to a categorical data type. The program should prompt the user to enter the file path, column\n",
    "name, and category order, and then display the sorted data."
   ]
  },
  {
   "cell_type": "code",
   "execution_count": null,
   "id": "dddfd942-a8ef-4509-9333-3a2d6b1588e3",
   "metadata": {},
   "outputs": [],
   "source": [
    "import pandas as pd\n",
    "file=input(\"enter the file path\")\n",
    "column=input(\"enter the column name \")\n",
    "category_order=input(\"enter the category order\")\n",
    "df=pd.read_csv('https://raw.githubusercontent.com/datasciencedojo/datasets/master/titanic.csv')\n",
    "df[col_name] = pd.Categorical(df[column])\n",
    "df = df.sort_values(column)"
   ]
  },
  {
   "cell_type": "code",
   "execution_count": null,
   "id": "3b339bf6-7908-4781-af33-a8d2f33e9e39",
   "metadata": {},
   "outputs": [],
   "source": [
    "Write a Python program that reads a CSV file containing sales data for different products and\n",
    "visualizes the data using a stacked bar chart to show the sales of each product category over time. The\n",
    "program should prompt the user to enter the file path and display the chart."
   ]
  },
  {
   "cell_type": "code",
   "execution_count": 11,
   "id": "2c16fb9b-4d22-45e5-8a84-acf7354b28dc",
   "metadata": {},
   "outputs": [],
   "source": [
    "import pandas as pd\n",
    "data={'student_id':[1,2,3,4,5,6,7,8,9,10],'test_scores':[85,90,80,75,85,82,78,85,90,85]}\n",
    "df=pd.DataFrame(data)"
   ]
  },
  {
   "cell_type": "code",
   "execution_count": 12,
   "id": "bb9efb83-c237-495d-985b-b11e05889465",
   "metadata": {},
   "outputs": [
    {
     "data": {
      "text/html": [
       "<div>\n",
       "<style scoped>\n",
       "    .dataframe tbody tr th:only-of-type {\n",
       "        vertical-align: middle;\n",
       "    }\n",
       "\n",
       "    .dataframe tbody tr th {\n",
       "        vertical-align: top;\n",
       "    }\n",
       "\n",
       "    .dataframe thead th {\n",
       "        text-align: right;\n",
       "    }\n",
       "</style>\n",
       "<table border=\"1\" class=\"dataframe\">\n",
       "  <thead>\n",
       "    <tr style=\"text-align: right;\">\n",
       "      <th></th>\n",
       "      <th>student_id</th>\n",
       "      <th>test_scores</th>\n",
       "    </tr>\n",
       "  </thead>\n",
       "  <tbody>\n",
       "    <tr>\n",
       "      <th>0</th>\n",
       "      <td>1</td>\n",
       "      <td>85</td>\n",
       "    </tr>\n",
       "    <tr>\n",
       "      <th>1</th>\n",
       "      <td>2</td>\n",
       "      <td>90</td>\n",
       "    </tr>\n",
       "    <tr>\n",
       "      <th>2</th>\n",
       "      <td>3</td>\n",
       "      <td>80</td>\n",
       "    </tr>\n",
       "    <tr>\n",
       "      <th>3</th>\n",
       "      <td>4</td>\n",
       "      <td>75</td>\n",
       "    </tr>\n",
       "    <tr>\n",
       "      <th>4</th>\n",
       "      <td>5</td>\n",
       "      <td>85</td>\n",
       "    </tr>\n",
       "    <tr>\n",
       "      <th>5</th>\n",
       "      <td>6</td>\n",
       "      <td>82</td>\n",
       "    </tr>\n",
       "    <tr>\n",
       "      <th>6</th>\n",
       "      <td>7</td>\n",
       "      <td>78</td>\n",
       "    </tr>\n",
       "    <tr>\n",
       "      <th>7</th>\n",
       "      <td>8</td>\n",
       "      <td>85</td>\n",
       "    </tr>\n",
       "    <tr>\n",
       "      <th>8</th>\n",
       "      <td>9</td>\n",
       "      <td>90</td>\n",
       "    </tr>\n",
       "    <tr>\n",
       "      <th>9</th>\n",
       "      <td>10</td>\n",
       "      <td>85</td>\n",
       "    </tr>\n",
       "  </tbody>\n",
       "</table>\n",
       "</div>"
      ],
      "text/plain": [
       "   student_id  test_scores\n",
       "0           1           85\n",
       "1           2           90\n",
       "2           3           80\n",
       "3           4           75\n",
       "4           5           85\n",
       "5           6           82\n",
       "6           7           78\n",
       "7           8           85\n",
       "8           9           90\n",
       "9          10           85"
      ]
     },
     "execution_count": 12,
     "metadata": {},
     "output_type": "execute_result"
    }
   ],
   "source": [
    "df"
   ]
  },
  {
   "cell_type": "code",
   "execution_count": 6,
   "id": "d61ffcf5-68bb-41f2-a37f-4915516272ff",
   "metadata": {},
   "outputs": [],
   "source": [
    "df['Mean']=df.test_scores.mean()"
   ]
  },
  {
   "cell_type": "code",
   "execution_count": 7,
   "id": "d614f34e-f517-484d-9f5b-1baf265ad063",
   "metadata": {},
   "outputs": [
    {
     "data": {
      "text/html": [
       "<div>\n",
       "<style scoped>\n",
       "    .dataframe tbody tr th:only-of-type {\n",
       "        vertical-align: middle;\n",
       "    }\n",
       "\n",
       "    .dataframe tbody tr th {\n",
       "        vertical-align: top;\n",
       "    }\n",
       "\n",
       "    .dataframe thead th {\n",
       "        text-align: right;\n",
       "    }\n",
       "</style>\n",
       "<table border=\"1\" class=\"dataframe\">\n",
       "  <thead>\n",
       "    <tr style=\"text-align: right;\">\n",
       "      <th></th>\n",
       "      <th>student_id</th>\n",
       "      <th>test_scores</th>\n",
       "      <th>Mean</th>\n",
       "    </tr>\n",
       "  </thead>\n",
       "  <tbody>\n",
       "    <tr>\n",
       "      <th>0</th>\n",
       "      <td>1</td>\n",
       "      <td>85</td>\n",
       "      <td>83.5</td>\n",
       "    </tr>\n",
       "    <tr>\n",
       "      <th>1</th>\n",
       "      <td>2</td>\n",
       "      <td>90</td>\n",
       "      <td>83.5</td>\n",
       "    </tr>\n",
       "    <tr>\n",
       "      <th>2</th>\n",
       "      <td>3</td>\n",
       "      <td>80</td>\n",
       "      <td>83.5</td>\n",
       "    </tr>\n",
       "    <tr>\n",
       "      <th>3</th>\n",
       "      <td>4</td>\n",
       "      <td>75</td>\n",
       "      <td>83.5</td>\n",
       "    </tr>\n",
       "    <tr>\n",
       "      <th>4</th>\n",
       "      <td>5</td>\n",
       "      <td>85</td>\n",
       "      <td>83.5</td>\n",
       "    </tr>\n",
       "    <tr>\n",
       "      <th>5</th>\n",
       "      <td>6</td>\n",
       "      <td>82</td>\n",
       "      <td>83.5</td>\n",
       "    </tr>\n",
       "    <tr>\n",
       "      <th>6</th>\n",
       "      <td>7</td>\n",
       "      <td>78</td>\n",
       "      <td>83.5</td>\n",
       "    </tr>\n",
       "    <tr>\n",
       "      <th>7</th>\n",
       "      <td>8</td>\n",
       "      <td>85</td>\n",
       "      <td>83.5</td>\n",
       "    </tr>\n",
       "    <tr>\n",
       "      <th>8</th>\n",
       "      <td>9</td>\n",
       "      <td>90</td>\n",
       "      <td>83.5</td>\n",
       "    </tr>\n",
       "    <tr>\n",
       "      <th>9</th>\n",
       "      <td>10</td>\n",
       "      <td>85</td>\n",
       "      <td>83.5</td>\n",
       "    </tr>\n",
       "  </tbody>\n",
       "</table>\n",
       "</div>"
      ],
      "text/plain": [
       "   student_id  test_scores  Mean\n",
       "0           1           85  83.5\n",
       "1           2           90  83.5\n",
       "2           3           80  83.5\n",
       "3           4           75  83.5\n",
       "4           5           85  83.5\n",
       "5           6           82  83.5\n",
       "6           7           78  83.5\n",
       "7           8           85  83.5\n",
       "8           9           90  83.5\n",
       "9          10           85  83.5"
      ]
     },
     "execution_count": 7,
     "metadata": {},
     "output_type": "execute_result"
    }
   ],
   "source": [
    "df"
   ]
  },
  {
   "cell_type": "code",
   "execution_count": null,
   "id": "f76b6bc9-6dc6-463d-9692-edc7dad21b09",
   "metadata": {},
   "outputs": [],
   "source": [
    "##File_path\n",
    "file_path = input(\"Enter the file path of the CSV file containing the student data: \")"
   ]
  },
  {
   "cell_type": "code",
   "execution_count": null,
   "id": "38f579bf-911d-4804-84fa-17197cdfc742",
   "metadata": {},
   "outputs": [],
   "source": [
    "##Read_csv\n",
    "df=pd.read_csv(\"File_path\")"
   ]
  },
  {
   "cell_type": "code",
   "execution_count": 15,
   "id": "2588afd2-0d68-4b48-af6b-a2f14e05b666",
   "metadata": {},
   "outputs": [],
   "source": [
    "mean_score=df.test_scores.mean()\n",
    "median_score=df.test_scores.median()\n",
    "mode_score=df.test_scores.median()\n",
    "df['statistic']=df['test_scores']\n",
    "result=pd.DataFrame({\n",
    "    'statistic':['Mean','Median','Mode'],\n",
    "    'Test_Scores':[mean_score,median_score,mode_score]\n",
    "})"
   ]
  },
  {
   "cell_type": "code",
   "execution_count": 16,
   "id": "29f68bdf-d79d-455b-a8cc-34359645f3c4",
   "metadata": {},
   "outputs": [
    {
     "data": {
      "text/html": [
       "<div>\n",
       "<style scoped>\n",
       "    .dataframe tbody tr th:only-of-type {\n",
       "        vertical-align: middle;\n",
       "    }\n",
       "\n",
       "    .dataframe tbody tr th {\n",
       "        vertical-align: top;\n",
       "    }\n",
       "\n",
       "    .dataframe thead th {\n",
       "        text-align: right;\n",
       "    }\n",
       "</style>\n",
       "<table border=\"1\" class=\"dataframe\">\n",
       "  <thead>\n",
       "    <tr style=\"text-align: right;\">\n",
       "      <th></th>\n",
       "      <th>statistic</th>\n",
       "      <th>Test_Scores</th>\n",
       "    </tr>\n",
       "  </thead>\n",
       "  <tbody>\n",
       "    <tr>\n",
       "      <th>0</th>\n",
       "      <td>Mean</td>\n",
       "      <td>83.5</td>\n",
       "    </tr>\n",
       "    <tr>\n",
       "      <th>1</th>\n",
       "      <td>Median</td>\n",
       "      <td>85.0</td>\n",
       "    </tr>\n",
       "    <tr>\n",
       "      <th>2</th>\n",
       "      <td>Mode</td>\n",
       "      <td>85.0</td>\n",
       "    </tr>\n",
       "  </tbody>\n",
       "</table>\n",
       "</div>"
      ],
      "text/plain": [
       "  statistic  Test_Scores\n",
       "0      Mean         83.5\n",
       "1    Median         85.0\n",
       "2      Mode         85.0"
      ]
     },
     "execution_count": 16,
     "metadata": {},
     "output_type": "execute_result"
    }
   ],
   "source": [
    "result"
   ]
  },
  {
   "cell_type": "code",
   "execution_count": null,
   "id": "83db9530-9b52-4009-bb46-d887236c76c8",
   "metadata": {},
   "outputs": [],
   "source": []
  }
 ],
 "metadata": {
  "kernelspec": {
   "display_name": "Python 3 (ipykernel)",
   "language": "python",
   "name": "python3"
  },
  "language_info": {
   "codemirror_mode": {
    "name": "ipython",
    "version": 3
   },
   "file_extension": ".py",
   "mimetype": "text/x-python",
   "name": "python",
   "nbconvert_exporter": "python",
   "pygments_lexer": "ipython3",
   "version": "3.10.8"
  }
 },
 "nbformat": 4,
 "nbformat_minor": 5
}
