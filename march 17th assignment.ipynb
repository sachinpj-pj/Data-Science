{
 "cells": [
  {
   "cell_type": "code",
   "execution_count": null,
   "id": "1787c2c9-977a-4c7a-b8b8-68025a0edf84",
   "metadata": {},
   "outputs": [],
   "source": [
    "Q1: What are missing values in a dataset? Why is it essential to handle missing values? Name some\n",
    "algorithms that are not affected by missing values.\n",
    "missing value occurs in a dataset when some information is not stored in a varible.\n",
    "in order to manage data it is essential to handle missing data"
   ]
  },
  {
   "cell_type": "code",
   "execution_count": null,
   "id": "9f6fcf00-f590-41e4-b7eb-59a792c8256b",
   "metadata": {},
   "outputs": [],
   "source": [
    "Q2: List down techniques used to handle missing data. Give an example of each with python code.\n",
    "mean imputation\n",
    "median imputation\n",
    "mode imputation"
   ]
  },
  {
   "cell_type": "code",
   "execution_count": 19,
   "id": "22638893-f1bd-4824-b2a5-3f9994c626a1",
   "metadata": {},
   "outputs": [
    {
     "data": {
      "text/html": [
       "<div>\n",
       "<style scoped>\n",
       "    .dataframe tbody tr th:only-of-type {\n",
       "        vertical-align: middle;\n",
       "    }\n",
       "\n",
       "    .dataframe tbody tr th {\n",
       "        vertical-align: top;\n",
       "    }\n",
       "\n",
       "    .dataframe thead th {\n",
       "        text-align: right;\n",
       "    }\n",
       "</style>\n",
       "<table border=\"1\" class=\"dataframe\">\n",
       "  <thead>\n",
       "    <tr style=\"text-align: right;\">\n",
       "      <th></th>\n",
       "      <th>age_mean</th>\n",
       "      <th>age</th>\n",
       "    </tr>\n",
       "  </thead>\n",
       "  <tbody>\n",
       "    <tr>\n",
       "      <th>0</th>\n",
       "      <td>29.699118</td>\n",
       "      <td>22.0</td>\n",
       "    </tr>\n",
       "    <tr>\n",
       "      <th>1</th>\n",
       "      <td>29.699118</td>\n",
       "      <td>38.0</td>\n",
       "    </tr>\n",
       "    <tr>\n",
       "      <th>2</th>\n",
       "      <td>29.699118</td>\n",
       "      <td>26.0</td>\n",
       "    </tr>\n",
       "    <tr>\n",
       "      <th>3</th>\n",
       "      <td>29.699118</td>\n",
       "      <td>35.0</td>\n",
       "    </tr>\n",
       "    <tr>\n",
       "      <th>4</th>\n",
       "      <td>29.699118</td>\n",
       "      <td>35.0</td>\n",
       "    </tr>\n",
       "    <tr>\n",
       "      <th>...</th>\n",
       "      <td>...</td>\n",
       "      <td>...</td>\n",
       "    </tr>\n",
       "    <tr>\n",
       "      <th>886</th>\n",
       "      <td>29.699118</td>\n",
       "      <td>27.0</td>\n",
       "    </tr>\n",
       "    <tr>\n",
       "      <th>887</th>\n",
       "      <td>29.699118</td>\n",
       "      <td>19.0</td>\n",
       "    </tr>\n",
       "    <tr>\n",
       "      <th>888</th>\n",
       "      <td>29.699118</td>\n",
       "      <td>NaN</td>\n",
       "    </tr>\n",
       "    <tr>\n",
       "      <th>889</th>\n",
       "      <td>29.699118</td>\n",
       "      <td>26.0</td>\n",
       "    </tr>\n",
       "    <tr>\n",
       "      <th>890</th>\n",
       "      <td>29.699118</td>\n",
       "      <td>32.0</td>\n",
       "    </tr>\n",
       "  </tbody>\n",
       "</table>\n",
       "<p>891 rows × 2 columns</p>\n",
       "</div>"
      ],
      "text/plain": [
       "      age_mean   age\n",
       "0    29.699118  22.0\n",
       "1    29.699118  38.0\n",
       "2    29.699118  26.0\n",
       "3    29.699118  35.0\n",
       "4    29.699118  35.0\n",
       "..         ...   ...\n",
       "886  29.699118  27.0\n",
       "887  29.699118  19.0\n",
       "888  29.699118   NaN\n",
       "889  29.699118  26.0\n",
       "890  29.699118  32.0\n",
       "\n",
       "[891 rows x 2 columns]"
      ]
     },
     "execution_count": 19,
     "metadata": {},
     "output_type": "execute_result"
    }
   ],
   "source": [
    "import seaborn as sns\n",
    "df=sns.load_dataset('titanic')\n",
    "null_values=df.isnull().sum()\n",
    "df['age_mean']=df['age'].fillna(df['age']).mean()\n",
    "df[['age_mean','age']]"
   ]
  },
  {
   "cell_type": "code",
   "execution_count": null,
   "id": "f9b00a69-d13a-448a-a6da-c7f7476e9efd",
   "metadata": {},
   "outputs": [],
   "source": [
    "Q3: Explain the imbalanced data. What will happen if imbalanced data is not handled?\n",
    "A classification data set with skewed class proportions is called imbalanced.\n",
    "imbalanced data can lead to inaccurate results"
   ]
  },
  {
   "cell_type": "code",
   "execution_count": null,
   "id": "c5a289c5-155b-45a0-b9e3-b7d3dcdff5b8",
   "metadata": {},
   "outputs": [],
   "source": [
    "Q4: What are Up-sampling and Down-sampling? Explain with an example when up-sampling and down-\n",
    "sampling are required.\n",
    "process of inserting zero-valued samples between original samples to increase the sampling rate\n",
    "process of removing zero-valued samples between original samples to increase the sampling rate\n",
    "example:\n",
    "suppose we have a dataset, and in that datset we have records of 1 and 0 and the count of it is (900,100).\n",
    "in order to maintain the imbalanced data we have to make it equal so making it \n",
    "(900,900)-upsampling\n",
    "and making it (100,100)-down-sampling"
   ]
  },
  {
   "cell_type": "code",
   "execution_count": null,
   "id": "4da96e1b-75d1-4ea2-bff8-436b5e574a0f",
   "metadata": {},
   "outputs": [],
   "source": [
    "Q5: What is data Augmentation? Explain SMOTE.\n",
    "it is a technique used in machine learning used to reduce to overfitting when training a model\n",
    "SMOTE is a technique used in machine learning to address imbalanced daatset where te miniority classes has significantly \n",
    "fewer instance than the majority classes."
   ]
  },
  {
   "cell_type": "code",
   "execution_count": null,
   "id": "dc7975f0-9fec-4fdd-8889-f8b7267a0b8d",
   "metadata": {},
   "outputs": [],
   "source": [
    "Q6: What are outliers in a dataset? Why is it essential to handle outliers?\n",
    "An outlier is an observation that lies an abnormal distance from other values in a random sample from a population.\n",
    "it is important to handle outliers because it has huge number difference with the others in dataset which may cause \n",
    "to inaccurate results"
   ]
  },
  {
   "cell_type": "code",
   "execution_count": null,
   "id": "c4cbc862-0243-4454-bd4e-a650b73de50b",
   "metadata": {},
   "outputs": [],
   "source": [
    "Q7: You are working on a project that requires analyzing customer data. However, you notice that some of\n",
    "the data is missing. What are some techniques you can use to handle the missing data in your analysis?\n",
    "we can use mean imputation "
   ]
  },
  {
   "cell_type": "code",
   "execution_count": null,
   "id": "315acda7-a7d7-40e1-9877-15aa35c231f9",
   "metadata": {},
   "outputs": [],
   "source": [
    "Q8: You are working with a large dataset and find that a small percentage of the data is missing. What are\n",
    "some strategies you can use to determine if the missing data is missing at random or if there is a pattern\n",
    "to the missing data?\n",
    "we can use medain imputation "
   ]
  },
  {
   "cell_type": "code",
   "execution_count": null,
   "id": "bff6a267-17c1-4339-8530-c0332a9eeb31",
   "metadata": {},
   "outputs": [],
   "source": [
    "Q9: Suppose you are working on a medical diagnosis project and find that the majority of patients in the\n",
    "dataset do not have the condition of interest, while a small percentage do. What are some strategies you\n",
    "can use to evaluate the performance of your machine learning model on this imbalanced dataset?\n",
    "we can upsampling imbalanced dataset to perform it and make majority of patients in interset "
   ]
  },
  {
   "cell_type": "code",
   "execution_count": null,
   "id": "15122264-9c2c-41be-aabd-a50585e2c8b2",
   "metadata": {},
   "outputs": [],
   "source": [
    "Q10: When attempting to estimate customer satisfaction for a project, you discover that the dataset is\n",
    "unbalanced, with the bulk of customers reporting being satisfied. What methods can you employ to\n",
    "balance the dataset and down-sample the majority class?\n",
    "we can use SMOTE,random sampling methods to slove it"
   ]
  },
  {
   "cell_type": "code",
   "execution_count": null,
   "id": "547db5f1-9f99-4e49-94f9-9f501f0e2aa0",
   "metadata": {},
   "outputs": [],
   "source": [
    "Q11: You discover that the dataset is unbalanced with a low percentage of occurrences while working on a\n",
    "project that requires you to estimate the occurrence of a rare event. What methods can you employ to\n",
    "balance the dataset and up-sample the minority class?\n",
    "we can use SMOTE,random sampling methods to slove it"
   ]
  },
  {
   "cell_type": "code",
   "execution_count": null,
   "id": "fa7ad699-f047-4951-af7f-adfecaebcfd5",
   "metadata": {},
   "outputs": [],
   "source": []
  },
  {
   "cell_type": "code",
   "execution_count": null,
   "id": "265081cd-000c-4156-8613-d362fc1c34b0",
   "metadata": {},
   "outputs": [],
   "source": []
  }
 ],
 "metadata": {
  "kernelspec": {
   "display_name": "Python 3 (ipykernel)",
   "language": "python",
   "name": "python3"
  },
  "language_info": {
   "codemirror_mode": {
    "name": "ipython",
    "version": 3
   },
   "file_extension": ".py",
   "mimetype": "text/x-python",
   "name": "python",
   "nbconvert_exporter": "python",
   "pygments_lexer": "ipython3",
   "version": "3.10.8"
  }
 },
 "nbformat": 4,
 "nbformat_minor": 5
}
