{
 "cells": [
  {
   "cell_type": "code",
   "execution_count": 1,
   "id": "d5b4bea2-6c36-4561-9914-d066f3c76a20",
   "metadata": {},
   "outputs": [],
   "source": [
    "'''Explain Class and Object with respect to Object-Oriented Programming. Give a suitable example.'''\n",
    "class- class is blueprint for creating objects\n",
    "object-data field that has a unique attributes and behaviour \n",
    "class test():\n",
    "    pass"
   ]
  },
  {
   "cell_type": "code",
   "execution_count": null,
   "id": "f93c779a-45e9-44c3-8ea6-59a45bb62ffe",
   "metadata": {},
   "outputs": [],
   "source": [
    "'''Name the four pillars of OOPs.'''\n",
    "1)Inheritance\n",
    "2)Polymorphism\n",
    "3)Encapsulation\n",
    "4)Abstraction"
   ]
  },
  {
   "cell_type": "code",
   "execution_count": 14,
   "id": "c80d507b-44a7-478e-9a5f-bed2ad305bae",
   "metadata": {},
   "outputs": [],
   "source": [
    "'''Explain why the __init__() function is used. Give a suitable example.'''\n",
    "##init function is used initialze the objects \n",
    "class test:\n",
    "    def __init__(self,name,student_id):\n",
    "        self.name = name\n",
    "        self.student_id = student_id\n",
    "        \n",
    "    def return_name(self):\n",
    "        return self.name,self.student_id"
   ]
  },
  {
   "cell_type": "code",
   "execution_count": 15,
   "id": "83d86da2-1c30-4503-86af-58362e2aecd5",
   "metadata": {},
   "outputs": [
    {
     "data": {
      "text/plain": [
       "('P J', 2222)"
      ]
     },
     "execution_count": 15,
     "metadata": {},
     "output_type": "execute_result"
    }
   ],
   "source": [
    "sachin = test(\"P J\",2222)\n",
    "sachin.return_name()"
   ]
  },
  {
   "cell_type": "code",
   "execution_count": null,
   "id": "431c60a7-7baf-420d-87d5-f3dda7ca42c9",
   "metadata": {},
   "outputs": [],
   "source": [
    "'''Why self is used in OOPs?'''\n",
    "self is nothing but a constructor amd its is used to add varibles "
   ]
  },
  {
   "cell_type": "code",
   "execution_count": null,
   "id": "5b033c90-b4a0-4c46-ae1f-8e52217900b5",
   "metadata": {},
   "outputs": [],
   "source": [
    "'''What is inheritance? Give an example for each type of inheritance.'''\n",
    "inheritance is process in which one class acquires the property of other class\n"
   ]
  }
 ],
 "metadata": {
  "kernelspec": {
   "display_name": "Python 3 (ipykernel)",
   "language": "python",
   "name": "python3"
  },
  "language_info": {
   "codemirror_mode": {
    "name": "ipython",
    "version": 3
   },
   "file_extension": ".py",
   "mimetype": "text/x-python",
   "name": "python",
   "nbconvert_exporter": "python",
   "pygments_lexer": "ipython3",
   "version": "3.10.8"
  }
 },
 "nbformat": 4,
 "nbformat_minor": 5
}
