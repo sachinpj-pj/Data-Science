{
 "cells": [
  {
   "cell_type": "code",
   "execution_count": null,
   "id": "dc9c2a5e-0e12-4fa6-90ee-ca99698609e4",
   "metadata": {},
   "outputs": [],
   "source": [
    "What is Statistics?\n",
    "statistics is the science of collecting,organzing and analyzing the data"
   ]
  },
  {
   "cell_type": "code",
   "execution_count": null,
   "id": "db687308-aaf6-4170-8f38-39a67b7f9007",
   "metadata": {},
   "outputs": [],
   "source": [
    "Define the different types of statistics and give an example of when each type might be used.\n",
    "1)Descriptive stats:it consists of organzing and summarizing the data\n",
    "##example\n",
    "it is used to calculate the avg height or weight in the class\n",
    "2)Inferential stats: it consists of using data you have measured to form conculsion\n",
    "##example\n",
    "it is used to calcuate mean,median or any other calculation from the data that was measured"
   ]
  },
  {
   "cell_type": "code",
   "execution_count": null,
   "id": "ae334989-b087-4e63-a998-00558565f6e1",
   "metadata": {},
   "outputs": [],
   "source": [
    "What are the different types of data and how do they differ from each other? Provide an example of\n",
    "each type of data.\n",
    "1)Quantitative(it is a numerical data)\n",
    "##example\n",
    "No of bank account,weight of students in class\n",
    "2)Qualitative(it is a categorical data)\n",
    "##example\n",
    "Gender(Male,Female),Ranking(1st,2nd and so on)"
   ]
  },
  {
   "cell_type": "code",
   "execution_count": null,
   "id": "91f5d13d-4bc3-4c17-a0b2-1ba5f208912f",
   "metadata": {},
   "outputs": [],
   "source": [
    "Categorise the following datasets with respect to quantitative and qualitative data types:\n",
    "(i) Grading in exam: A+, A, B+, B, C+, C, D, E  -------Nominal\n",
    "(ii) Colour of mangoes: yellow, green, orange, red-----Nominal\n",
    "(iii) Height data of a class: [178.9, 179, 179.5, 176, 177.2, 178.3, 175.8,...]------Continous \n",
    "(iv) Number of mangoes exported by a farm: [500, 600, 478, 672, ...]-------Discrete"
   ]
  },
  {
   "cell_type": "code",
   "execution_count": null,
   "id": "1d40653f-4021-4a34-80eb-da567a9e792f",
   "metadata": {},
   "outputs": [],
   "source": [
    "Explain the concept of levels of measurement and give an example of a variable for each level.\n",
    "there are four levels of measurement\n",
    "1)Nominal-it is nothing ut a categrical data \n",
    "example-Gender(Male,fFemale),color(green,red)\n",
    "2)ordinal-it is nothing but a ranking the data \n",
    "Example-rating any person from 1 to 10\n",
    "3)Interval-the differences between the values are equal, but there is no true zero point\n",
    "example-Temperature measured in Celsius or Fahrenheit \n",
    "4)Ratio-here is a true zero point and the differences between the values are equal.\n",
    "example-height,weight of any 10 person"
   ]
  },
  {
   "cell_type": "code",
   "execution_count": null,
   "id": "bf871d89-80f3-409d-a548-32ea58729efd",
   "metadata": {},
   "outputs": [],
   "source": [
    "Why is it important to understand the level of measurement when analyzing data? Provide an\n",
    "example to illustrate your answer.\n",
    "because it determines the type of statistical analysis that can be performed on the data. \n",
    "Different statistical tests have different assumptions about the nature of the data and the type of variables being analyzed. \n",
    "these may cause wrong assumption"
   ]
  },
  {
   "cell_type": "code",
   "execution_count": null,
   "id": "fdef5ba0-e5a6-4f87-8c52-1a6e2f6e732d",
   "metadata": {},
   "outputs": [],
   "source": [
    "How nominal data type is different from ordinal data type.\n",
    "nominal data is a categorical data of any order or any rank but ordinal data is a data classified to a\n",
    "particular order or ranking based data"
   ]
  },
  {
   "cell_type": "code",
   "execution_count": null,
   "id": "2a6ef341-a252-41ad-bcc4-893db30de81c",
   "metadata": {},
   "outputs": [],
   "source": [
    "Which type of plot can be used to display data in terms of range?\n",
    "A Box plot can be used to display data in terms of range"
   ]
  },
  {
   "cell_type": "code",
   "execution_count": null,
   "id": "484148eb-9dba-4319-b4e2-db77f666c7dd",
   "metadata": {},
   "outputs": [],
   "source": [
    " Describe the difference between descriptive and inferential statistics. Give an example of each\n",
    "type of statistics and explain how they are used.\n",
    "1)Descriptive stats:it consists of organzing and summarizing the data\n",
    "##example\n",
    "it is used to calculate the avg height or weight in the class\n",
    "2)Inferential stats: it consists of using data you have measured to form conculsion\n",
    "##example\n",
    "it is used to calcuate mean,median or any other calculation from the data that was measured"
   ]
  },
  {
   "cell_type": "code",
   "execution_count": null,
   "id": "84be2af5-bad4-4780-91be-b2ef55cb7b8e",
   "metadata": {},
   "outputs": [],
   "source": [
    " What are some common measures of central tendency and variability used in statistics? Explain\n",
    "how each measure can be used to describe a dataset.\n",
    "central tendency\n",
    "mean,median amd mode\n",
    "variability\n",
    "range and standard deviation"
   ]
  }
 ],
 "metadata": {
  "kernelspec": {
   "display_name": "Python 3 (ipykernel)",
   "language": "python",
   "name": "python3"
  },
  "language_info": {
   "codemirror_mode": {
    "name": "ipython",
    "version": 3
   },
   "file_extension": ".py",
   "mimetype": "text/x-python",
   "name": "python",
   "nbconvert_exporter": "python",
   "pygments_lexer": "ipython3",
   "version": "3.10.8"
  }
 },
 "nbformat": 4,
 "nbformat_minor": 5
}
