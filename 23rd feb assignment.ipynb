{
 "cells": [
  {
   "cell_type": "code",
   "execution_count": null,
   "id": "42423f76-5e90-42ee-bdf6-170c5312dfb9",
   "metadata": {},
   "outputs": [],
   "source": [
    "Q1. Create a Pandas Series that contains the following data: 4, 8, 15, 16, 23, and 42. \n",
    "Then, print the series."
   ]
  },
  {
   "cell_type": "code",
   "execution_count": 6,
   "id": "6a96d282-befd-44f0-bb89-bb3b30ea2df1",
   "metadata": {},
   "outputs": [
    {
     "name": "stdout",
     "output_type": "stream",
     "text": [
      "0     4\n",
      "1     8\n",
      "2    15\n",
      "3    16\n",
      "4    23\n",
      "5    42\n",
      "Name: data, dtype: int64\n"
     ]
    }
   ],
   "source": [
    "import pandas as pd \n",
    "data = {'data' : [4,8,15,16,23,42]}\n",
    "df = pd.DataFrame(data)\n",
    "print(df.data)"
   ]
  },
  {
   "cell_type": "code",
   "execution_count": null,
   "id": "4cddb6af-9336-451a-ae4f-ce3c0429368e",
   "metadata": {},
   "outputs": [],
   "source": [
    "Create a variable of list type containing 10 elements in it, and apply pandas.Series function on the\n",
    "variable print it."
   ]
  },
  {
   "cell_type": "code",
   "execution_count": 17,
   "id": "ff6cc594-9d0f-4bc3-a879-b9d3ea45a5ef",
   "metadata": {},
   "outputs": [
    {
     "name": "stdout",
     "output_type": "stream",
     "text": [
      "0     1\n",
      "1     2\n",
      "2     3\n",
      "3     4\n",
      "4     5\n",
      "5     6\n",
      "6     7\n",
      "7     8\n",
      "8     9\n",
      "9    10\n",
      "dtype: int64\n"
     ]
    }
   ],
   "source": [
    "import pandas as pd\n",
    "data = [1,2,3,4,5,6,7,8,9,10]\n",
    "df = pd.Series(data)\n",
    "print(df)"
   ]
  },
  {
   "cell_type": "code",
   "execution_count": 23,
   "id": "8051cfe5-5fc3-46bb-89c8-c49171167648",
   "metadata": {},
   "outputs": [
    {
     "name": "stdout",
     "output_type": "stream",
     "text": [
      "     Name  Age  gender\n",
      "0   Alice   25  female\n",
      "1     Bob   30    male\n",
      "2  Claire   27  female\n"
     ]
    }
   ],
   "source": [
    "Q3. Create a Pandas DataFrame that contains the following data:\n",
    "import pandas as pd \n",
    "data = {'Name' : ['Alice','Bob','Claire'],'Age' : [25,30,27],'gender':['female','male','female']}\n",
    "df = pd.DataFrame(data)\n",
    "print(df)"
   ]
  },
  {
   "cell_type": "code",
   "execution_count": null,
   "id": "32cfaa4d-d71c-4963-bfc0-249990ab2bc0",
   "metadata": {},
   "outputs": [],
   "source": [
    "What is ‘DataFrame’ in pandas and how is it different from pandas.series? Explain with an example.\n",
    "dataframe is 2-D labeled data structure in pandas, which is similar to a spreadsheet or a SQL table.\n",
    "whereas pandas.series is a 1-D data structure which can hold any datatype\n",
    "##example"
   ]
  },
  {
   "cell_type": "code",
   "execution_count": 24,
   "id": "5848c9bf-2acd-4c91-b9b7-19dd530d54f2",
   "metadata": {},
   "outputs": [
    {
     "name": "stdout",
     "output_type": "stream",
     "text": [
      "     Name  Age  gender\n",
      "0   Alice   25  female\n",
      "1     Bob   30    male\n",
      "2  Claire   27  female\n"
     ]
    }
   ],
   "source": [
    "import pandas as pd \n",
    "data = {'Name' : ['Alice','Bob','Claire'],'Age' : [25,30,27],'gender':['female','male','female']}\n",
    "df = pd.DataFrame(data)\n",
    "print(df)"
   ]
  },
  {
   "cell_type": "code",
   "execution_count": 25,
   "id": "f1cceee0-3a5a-41a0-8eab-a738d926e9e3",
   "metadata": {},
   "outputs": [
    {
     "name": "stdout",
     "output_type": "stream",
     "text": [
      "0     1\n",
      "1     2\n",
      "2     3\n",
      "3     4\n",
      "4     5\n",
      "5     6\n",
      "6     7\n",
      "7     8\n",
      "8     9\n",
      "9    10\n",
      "dtype: int64\n"
     ]
    }
   ],
   "source": [
    "import pandas as pd\n",
    "data = [1,2,3,4,5,6,7,8,9,10]\n",
    "df = pd.Series(data)\n",
    "print(df)"
   ]
  },
  {
   "cell_type": "code",
   "execution_count": null,
   "id": "01aa34fc-9257-4b54-8c83-80197bce4293",
   "metadata": {},
   "outputs": [],
   "source": [
    "What are some common functions you can use to manipulate data in a Pandas DataFrame? Can\n",
    "you give an example of when you might use one of these functions?\n",
    "head()- to get first 5 record from the table\n",
    "tail()- to get last 5 record from the table\n",
    "describe()-it is used to get all the columns from the table which have a numeric value in it\n"
   ]
  },
  {
   "cell_type": "code",
   "execution_count": null,
   "id": "99f029ac-dc4d-4424-9b70-35f2198d4f6b",
   "metadata": {},
   "outputs": [],
   "source": [
    "Which of the following is mutable in nature Series, DataFrame, Panel?\n",
    "Dataframe and series are mutable in nature "
   ]
  },
  {
   "cell_type": "code",
   "execution_count": null,
   "id": "aba3d236-5cbc-4a9b-841e-a626098b7e72",
   "metadata": {},
   "outputs": [],
   "source": [
    "Create a DataFrame using multiple Series. Explain with an example."
   ]
  },
  {
   "cell_type": "code",
   "execution_count": 27,
   "id": "88fd79b3-dd9a-45ca-879d-706eed2e9fb2",
   "metadata": {},
   "outputs": [
    {
     "name": "stdout",
     "output_type": "stream",
     "text": [
      "      Name  Age  Gender\n",
      "0      bob   25    male\n",
      "1  charlie   30    male\n",
      "2    alice   27  female\n"
     ]
    }
   ],
   "source": [
    "import pandas as pd\n",
    "name = pd.Series(['bob','charlie','alice'])\n",
    "age = pd.Series([25,30,27])\n",
    "gender = pd.Series(['male','male','female'])\n",
    "data = {'Name' : name , 'Age':age,'Gender':gender}\n",
    "df=pd.DataFrame(data)\n",
    "print(df)\n"
   ]
  }
 ],
 "metadata": {
  "kernelspec": {
   "display_name": "Python 3 (ipykernel)",
   "language": "python",
   "name": "python3"
  },
  "language_info": {
   "codemirror_mode": {
    "name": "ipython",
    "version": 3
   },
   "file_extension": ".py",
   "mimetype": "text/x-python",
   "name": "python",
   "nbconvert_exporter": "python",
   "pygments_lexer": "ipython3",
   "version": "3.10.8"
  }
 },
 "nbformat": 4,
 "nbformat_minor": 5
}
