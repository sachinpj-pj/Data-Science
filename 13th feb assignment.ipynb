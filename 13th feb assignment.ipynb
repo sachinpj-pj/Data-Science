{
 "cells": [
  {
   "cell_type": "code",
   "execution_count": null,
   "id": "64192f5d-c2f9-4239-ba60-a0f366015e6f",
   "metadata": {},
   "outputs": [],
   "source": [
    "Explain why we have to use the Exception class while creating a Custom Exception.\n",
    "we have to use exception class in case of custom exception becuase in order to inhert the property of \n",
    "exception i.e from inheritance property"
   ]
  },
  {
   "cell_type": "code",
   "execution_count": null,
   "id": "e0b760fa-b551-4db2-bd80-9707eccdfbfe",
   "metadata": {},
   "outputs": [],
   "source": [
    " Write a python program to print Python Exception Hierarchy.\n"
   ]
  },
  {
   "cell_type": "code",
   "execution_count": 3,
   "id": "303a762c-f6e6-43fd-89fc-4536bfb03543",
   "metadata": {},
   "outputs": [],
   "source": [
    "What errors are defined in the ArithmeticError class? Explain any two with an example.\n",
    "the errors which comes under mathematical error are called arithematicerror\n",
    "#example:Zerodivisionerror\n",
    "try:\n",
    "    a=10\n",
    "    10/0\n",
    "except ZeroDivsionError a e:\n",
    "    print(e)\n",
    "##example:Floatingpointerror\n",
    "try:\n",
    "    a=10\n",
    "    10/3\n",
    "except FloatingPointError as e:\n",
    "    print(e)"
   ]
  },
  {
   "cell_type": "code",
   "execution_count": null,
   "id": "5b1a0114-711a-44be-bc95-e5c2c1841244",
   "metadata": {},
   "outputs": [],
   "source": [
    "Why LookupError class is used? Explain with an example KeyError and IndexError.\n",
    "lookuperror is base for errors like kyerror or indexerror are not found\n",
    "keyerror: when we try to find a key which is not at present then it os keyerror\n",
    "Indexeror: when we try to find index whic is out of the bound then it is indexerror"
   ]
  },
  {
   "cell_type": "code",
   "execution_count": 1,
   "id": "7bff56e0-9f48-4079-96b2-858c0f4a3ac2",
   "metadata": {},
   "outputs": [
    {
     "name": "stdout",
     "output_type": "stream",
     "text": [
      "No module named 'sach'\n"
     ]
    }
   ],
   "source": [
    "Explain ImportError. What is ModuleNotFoundError?\n",
    "when we try import an class which is not at all present then it is importerror\n",
    "when we try to access or use a module which is not at all present then it is modulenotfounderror"
   ]
  },
  {
   "cell_type": "code",
   "execution_count": null,
   "id": "e6b2ed72-5a33-450c-a17f-9cf18594e8b3",
   "metadata": {},
   "outputs": [],
   "source": [
    "List down some best practices for exception handling in python.\n",
    "always use a specfic exception\n",
    "print always a valid message\n",
    "always avoid writing multiple excption handling\n",
    "cleanup all the resources"
   ]
  }
 ],
 "metadata": {
  "kernelspec": {
   "display_name": "Python 3 (ipykernel)",
   "language": "python",
   "name": "python3"
  },
  "language_info": {
   "codemirror_mode": {
    "name": "ipython",
    "version": 3
   },
   "file_extension": ".py",
   "mimetype": "text/x-python",
   "name": "python",
   "nbconvert_exporter": "python",
   "pygments_lexer": "ipython3",
   "version": "3.10.8"
  }
 },
 "nbformat": 4,
 "nbformat_minor": 5
}
