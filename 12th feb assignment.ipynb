{
 "cells": [
  {
   "cell_type": "code",
   "execution_count": null,
   "id": "20509f99-39d7-448d-ab96-d50ab05e769a",
   "metadata": {},
   "outputs": [],
   "source": [
    "what is an exception and what is the difference between exception and syntax\n",
    "An exception is an event, which occurs during the execution of a program that disrupts the \n",
    "normal flow of the programs instructions.\n",
    "Errors are the problems in a program due to which the program will stop the execution. \n",
    "On the other hand, exceptions are raised when some internal events occur \n",
    "which changes the normal flow of the program"
   ]
  },
  {
   "cell_type": "code",
   "execution_count": 6,
   "id": "9a68c5e7-8d07-416c-8d08-94b67ba7add1",
   "metadata": {},
   "outputs": [
    {
     "name": "stdout",
     "output_type": "stream",
     "text": [
      "this is the exception statement '_io.TextIOWrapper' object has no attribute 'wite'\n",
      "this statement will excecute what so ever happen\n"
     ]
    }
   ],
   "source": [
    "what happens when an exception is not handled? with an example\n",
    "If the exception is not handled by an except clause, the exception is re-raised\n",
    "after the finally clause has been executed.\n",
    "##example\n",
    "try:\n",
    "    f=open(\"text.txt\",\"w\")\n",
    "    f.wite(\"this is the file open statement\")\n",
    "except Exception as e:\n",
    "    print(\"this is the exception statement\",e)\n",
    "else:\n",
    "    print(\"it will print if exception statement wont print\")\n",
    "finally:\n",
    "    print(\"this statement will excecute what so ever happen\")"
   ]
  },
  {
   "cell_type": "code",
   "execution_count": 4,
   "id": "40419edc-81df-47da-9933-4daa967e575f",
   "metadata": {},
   "outputs": [],
   "source": [
    "'''which python statement is used to catch and handle the exception.with an example\n",
    "try and except block.'''\n",
    "##example\n",
    "try:\n",
    "    f = open(\"text.txt\",\"r\")\n",
    "except Exception as e:\n",
    "    print(\"this is the exception statment\")"
   ]
  },
  {
   "cell_type": "code",
   "execution_count": null,
   "id": "019213df-e607-4993-8516-be0e4fecbcdc",
   "metadata": {},
   "outputs": [],
   "source": [
    "explain with the example:\n",
    "\n",
    "(1)try and except  \n",
    "try:\n",
    "    f=open(\"text.txt\",\"r\")\n",
    "except Exception as e:\n",
    "    print(\"this is the exception statement\")\n",
    "(2)finally\n",
    "try:\n",
    "    f=open(\"text.txt\",\"r\")\n",
    "except Exception as e:\n",
    "    print(\"this is the exception statement\")\n",
    "finally:\n",
    "    print(\"this is the finally statement\")\n",
    "(3) raise\n",
    "def validate_age(age):\n",
    "    if age<0:\n",
    "        raise enter_age(\"age should be greater than zero\")\n",
    "    elif age>150:\n",
    "        raise enter_age(\"age is too much\")\n",
    "    else:\n",
    "        print(\"valid age\")"
   ]
  },
  {
   "cell_type": "code",
   "execution_count": 6,
   "id": "0fd9a10a-11c4-4365-b922-b275a839a5d6",
   "metadata": {},
   "outputs": [
    {
     "name": "stdin",
     "output_type": "stream",
     "text": [
      "enter your age : -88\n"
     ]
    }
   ],
   "source": [
    "'''what are custom exception in python? why do we need to custom exception?expalin with example\n",
    "custom exception are the exception made by the developer in order to handle error.\n",
    "we need to custom exception becuase some times the in-built exception may take some error as input but it\n",
    "may be mislead to whole program'''\n",
    "age = int(input(\"enter your age :\"))\n",
    "'''in this case it is taking a negative values i.e age cant be negative in that case we need to create a custom exception'''"
   ]
  },
  {
   "cell_type": "code",
   "execution_count": 7,
   "id": "0cd253f7-b47e-42c5-8f7f-2d6b2dea9c8b",
   "metadata": {},
   "outputs": [],
   "source": [
    "##example\n",
    "class enter_age(Exception):\n",
    "    def __init__(self,message):\n",
    "        self.message = message"
   ]
  },
  {
   "cell_type": "code",
   "execution_count": 9,
   "id": "cc2933cd-c932-4428-bfdb-cb231ae71026",
   "metadata": {},
   "outputs": [],
   "source": [
    "def validate_age(age):\n",
    "    if age<0:\n",
    "        raise enter_age(\"age should be greater than zero\")\n",
    "    elif age>150:\n",
    "        raise enter_age(\"age is too much\")\n",
    "    else:\n",
    "        print(\"valid age\")"
   ]
  },
  {
   "cell_type": "code",
   "execution_count": 10,
   "id": "ac605dad-5715-46de-ad30-079a3f92dd0d",
   "metadata": {},
   "outputs": [
    {
     "name": "stdin",
     "output_type": "stream",
     "text": [
      "enter your age -78\n"
     ]
    },
    {
     "name": "stdout",
     "output_type": "stream",
     "text": [
      "age should be greater than zero\n"
     ]
    }
   ],
   "source": [
    "try : \n",
    "    age = int(input(\"enter your age\"))\n",
    "    validate_age(age)\n",
    "except enter_age as e : \n",
    "    print(e)"
   ]
  },
  {
   "cell_type": "code",
   "execution_count": null,
   "id": "5e04644d-d226-47dc-938f-291447ab73d5",
   "metadata": {},
   "outputs": [],
   "source": [
    "create a custom exception class.use this class to handle the exception"
   ]
  },
  {
   "cell_type": "code",
   "execution_count": 14,
   "id": "38d4754e-c2de-4257-a986-d7c6a7e90ed2",
   "metadata": {},
   "outputs": [
    {
     "name": "stdin",
     "output_type": "stream",
     "text": [
      "enter your age 52\n"
     ]
    },
    {
     "name": "stdout",
     "output_type": "stream",
     "text": [
      "valid age\n"
     ]
    }
   ],
   "source": [
    "##example\n",
    "class enter_age(Exception):\n",
    "    def __init__(self,message):\n",
    "        self.message = message\n",
    "    def validate_age(age):\n",
    "        if age<0:\n",
    "            raise enter_age(\"age should be greater than zero\")\n",
    "        elif age>150:\n",
    "            raise enter_age(\"age is too much\")\n",
    "        else:\n",
    "            print(\"valid age\") \n",
    "    \n",
    "try : \n",
    "    age = int(input(\"enter your age\"))\n",
    "    validate_age(age)\n",
    "except enter_age as e : \n",
    "    print(e)\n",
    "    \n",
    "    "
   ]
  },
  {
   "cell_type": "code",
   "execution_count": null,
   "id": "cafc7f3f-7de2-42dd-b806-2ce01f6f70a9",
   "metadata": {},
   "outputs": [],
   "source": []
  }
 ],
 "metadata": {
  "kernelspec": {
   "display_name": "Python 3 (ipykernel)",
   "language": "python",
   "name": "python3"
  },
  "language_info": {
   "codemirror_mode": {
    "name": "ipython",
    "version": 3
   },
   "file_extension": ".py",
   "mimetype": "text/x-python",
   "name": "python",
   "nbconvert_exporter": "python",
   "pygments_lexer": "ipython3",
   "version": "3.10.8"
  }
 },
 "nbformat": 4,
 "nbformat_minor": 5
}
