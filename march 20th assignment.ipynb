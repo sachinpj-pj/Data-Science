{
 "cells": [
  {
   "cell_type": "code",
   "execution_count": null,
   "id": "42ed03fa-76f8-451e-89ca-90a2affe3285",
   "metadata": {},
   "outputs": [],
   "source": [
    "Q1. What is data encoding? How is it useful in data science?\n",
    "the process of converting categorical data to a valueable data.\n",
    "for the secured transmission of data it is used"
   ]
  },
  {
   "cell_type": "code",
   "execution_count": null,
   "id": "fe47ace3-9af3-406b-b757-c62fdb159e82",
   "metadata": {},
   "outputs": [],
   "source": [
    "Q2. What is nominal encoding? Provide an example of how you would use it in a real-world scenario.\n",
    "Nominal encoding, also known as one-hot encoding, is a technique used in data preprocessing to convert \n",
    "categorical data into a numerical format that can be used in machine learning algorithms.\n",
    "for example we have three colour red,blue and green.it would set to:\n",
    "red : 0 0 1\n",
    "blue : 1 0 0\n",
    "green : 0 1 0"
   ]
  },
  {
   "cell_type": "code",
   "execution_count": null,
   "id": "5c01ca15-7b8c-4db1-9cc6-d83b7bcba73f",
   "metadata": {},
   "outputs": [],
   "source": [
    "Q3. In what situations is nominal encoding preferred over one-hot encoding? Provide a practical example.\n",
    "nominal encoding preferred where the number of unique categories is large\n",
    "for example: a city has a population of some 'x' values out of which it has some 'y' male and some 'z' female\n",
    "male: 0 1\n",
    "femlae: 1 0"
   ]
  },
  {
   "cell_type": "code",
   "execution_count": null,
   "id": "c119bc84-d537-4c3b-8b8b-14f91da27296",
   "metadata": {},
   "outputs": [],
   "source": [
    "Q4. Suppose you have a dataset containing categorical data with 5 unique values. Which encoding\n",
    "technique would you use to transform this data into a format suitable for machine learning algorithms?\n",
    "Explain why you made this choice.\n",
    "one-hot coding can be used becuase if the order or rank is not given w euse one-hot coding or nominal coding "
   ]
  },
  {
   "cell_type": "code",
   "execution_count": null,
   "id": "966ffd6e-58de-4476-a973-fa5ec7d079ed",
   "metadata": {},
   "outputs": [],
   "source": [
    "Q5. In a machine learning project, you have a dataset with 1000 rows and 5 columns. Two of the columns\n",
    "are categorical, and the remaining three columns are numerical. If you were to use nominal encoding to\n",
    "transform the categorical data, how many new columns would be created? Show your calculations.\n",
    "Lets say the first categorical column has 4 unique values, and the second categorical column has 6 unique values. \n",
    "We can use one-hot encoding to transform these columns. For the first column, we will create 4 new columns, \n",
    "one for each unique value. For the second column, we will create 6 new columns. Therefore, \n",
    "we will have a total of 4 + 6 = 10 new columns."
   ]
  },
  {
   "cell_type": "code",
   "execution_count": null,
   "id": "29f2d91e-b7fd-4c34-9ea0-62690620fa6a",
   "metadata": {},
   "outputs": [],
   "source": [
    "Q6. You are working with a dataset containing information about different types of animals, including their\n",
    "species, habitat, and diet. Which encoding technique would you use to transform the categorical data into\n",
    "a format suitable for machine learning algorithms? Justify your answer.\n",
    "it depends if labeling and rank is not given we can use nominal encoding \n",
    "if labeling or ordinal(rank) is given label and ordinal encoding.\n",
    "However, since the variables in this example are nominal, one-hot encoding would be the preferred technique\n",
    "to transform the categorical data into a format suitable for machine learning algorithms."
   ]
  },
  {
   "cell_type": "code",
   "execution_count": null,
   "id": "62312cfa-4d26-4854-856a-a34d9ad6e1b9",
   "metadata": {},
   "outputs": [],
   "source": [
    "Q7.You are working on a project that involves predicting customer churn for a telecommunications\n",
    "company. You have a dataset with 5 features, including the customers gender, age, contract type,\n",
    "monthly charges, and tenure. Which encoding technique(s) would you use to transform the categorical\n",
    "data into numerical data? Provide a step-by-step explanation of how you would implement the encoding.\n",
    "nominal encoding is used to convert\n",
    "for gender : male 0 and female 1\n",
    "for contract-type: 0 for month and 1 for 1 year and 2 for 2 year \n",
    "for rest already in numceric data\n",
    "total column=5(old column)+2(new column)=7"
   ]
  }
 ],
 "metadata": {
  "kernelspec": {
   "display_name": "Python 3 (ipykernel)",
   "language": "python",
   "name": "python3"
  },
  "language_info": {
   "codemirror_mode": {
    "name": "ipython",
    "version": 3
   },
   "file_extension": ".py",
   "mimetype": "text/x-python",
   "name": "python",
   "nbconvert_exporter": "python",
   "pygments_lexer": "ipython3",
   "version": "3.10.8"
  }
 },
 "nbformat": 4,
 "nbformat_minor": 5
}
