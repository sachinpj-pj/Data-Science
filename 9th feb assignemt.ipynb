{
 "cells": [
  {
   "cell_type": "code",
   "execution_count": 1,
   "id": "4102f767-2d7a-445a-8cea-c1c8d64bc79c",
   "metadata": {},
   "outputs": [],
   "source": [
    "'''Create a vehicle class with an init method having instance variables as name_of_vehicle, max_speed\n",
    "and average_of_vehicle.'''\n",
    "class vehicle:\n",
    "    def __init__(self,name_of_vehicle,max_speed,average_of_vehicle):\n",
    "        pass"
   ]
  },
  {
   "cell_type": "code",
   "execution_count": 3,
   "id": "13b8ffc8-bd8a-4738-a396-e50df3c79af2",
   "metadata": {},
   "outputs": [],
   "source": [
    "'''Create a child class car from the vehicle class created in Que 1, which will inherit the vehicle class.\n",
    "Create a method named seating_capacity which takes capacity as an argument and returns the name of\n",
    "the vehicle and its seating capacity.'''\n",
    "class car(vehicle):\n",
    "    def seating_capacity(self,capacity):\n",
    "        return name_of_vehicle,capacity\n",
    "    "
   ]
  },
  {
   "cell_type": "code",
   "execution_count": null,
   "id": "84a633a4-e27c-40b5-a7e8-7614131458aa",
   "metadata": {},
   "outputs": [],
   "source": [
    "'''What is multiple inheritance? Write a python code to demonstrate multiple inheritance.'''\n",
    "when a class is derived from more than ne base class \n",
    "##example\n",
    "class c1:\n",
    "    pass\n",
    "class c2(c1):\n",
    "    pass\n",
    "class c3(c1):\n",
    "    pass"
   ]
  },
  {
   "cell_type": "code",
   "execution_count": null,
   "id": "da2df0f6-5652-4d5f-a6a4-45f1743f75b5",
   "metadata": {},
   "outputs": [],
   "source": [
    "'''What are getter and setter in python? Create a class and create a getter and a setter method in this\n",
    "class.'''\n",
    "getter method is used to get variables for the private attributes\n",
    "setter method is used to set variables for the private attributes\n",
    "##example\n",
    "class vehicle:\n",
    "    def __init__(self,name_of_vehicle,max_speed,average_of_vehicle):\n",
    "        self.__name_of_vehicle = name_of_vehicle\n",
    "        self.__max_speed = max_speed\n",
    "        self.__average_of_vehicle = average_of_vehicle\n",
    "    \n",
    "    def get_max_speed(self,max_speed):\n",
    "        return self.__max_speed\n",
    "    \n",
    "     def set_max_speed(self,max_speed):\n",
    "        return self.__max_speed\n",
    "    "
   ]
  },
  {
   "cell_type": "code",
   "execution_count": null,
   "id": "bac2c126-94c8-4499-94bb-6744e38edea4",
   "metadata": {},
   "outputs": [],
   "source": [
    "'''What is method overriding in python? Write a python code to demonstrate method overriding.'''\n",
    "method riding is a process of having a same method name but different in the number of agruments\n",
    "##example\n",
    "class parent1:\n",
    "    pass\n",
    "class parent2:\n",
    "    pass\n",
    "class child1(parent1,parent2):\n",
    "    pass\n",
    "class child1(parent1):\n",
    "    pass\n",
    "class child1(parent2):\n",
    "    pass "
   ]
  }
 ],
 "metadata": {
  "kernelspec": {
   "display_name": "Python 3 (ipykernel)",
   "language": "python",
   "name": "python3"
  },
  "language_info": {
   "codemirror_mode": {
    "name": "ipython",
    "version": 3
   },
   "file_extension": ".py",
   "mimetype": "text/x-python",
   "name": "python",
   "nbconvert_exporter": "python",
   "pygments_lexer": "ipython3",
   "version": "3.10.8"
  }
 },
 "nbformat": 4,
 "nbformat_minor": 5
}
